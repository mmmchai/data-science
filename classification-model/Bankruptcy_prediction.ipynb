{
  "nbformat": 4,
  "nbformat_minor": 5,
  "metadata": {
    "kernelspec": {
      "display_name": "Python 3",
      "language": "python",
      "name": "python3"
    },
    "language_info": {
      "codemirror_mode": {
        "name": "ipython",
        "version": 3
      },
      "file_extension": ".py",
      "mimetype": "text/x-python",
      "name": "python",
      "nbconvert_exporter": "python",
      "pygments_lexer": "ipython3",
      "version": "3.8.8"
    },
    "colab": {
      "provenance": [],
      "toc_visible": true
    },
    "widgets": {
      "application/vnd.jupyter.widget-state+json": {
        "b03f87d3eb7743689498065afb8cb161": {
          "model_module": "@jupyter-widgets/controls",
          "model_name": "HBoxModel",
          "model_module_version": "1.5.0",
          "state": {
            "_dom_classes": [],
            "_model_module": "@jupyter-widgets/controls",
            "_model_module_version": "1.5.0",
            "_model_name": "HBoxModel",
            "_view_count": null,
            "_view_module": "@jupyter-widgets/controls",
            "_view_module_version": "1.5.0",
            "_view_name": "HBoxView",
            "box_style": "",
            "children": [
              "IPY_MODEL_8a287e633f694720ad22159d539804a1",
              "IPY_MODEL_ceb1d886dc5d4e99af1e5279b60f6568",
              "IPY_MODEL_48f7570ec09341429d8df82dc73e3fd9"
            ],
            "layout": "IPY_MODEL_24b983c5f9134cc49d353da09e585fe0"
          }
        },
        "8a287e633f694720ad22159d539804a1": {
          "model_module": "@jupyter-widgets/controls",
          "model_name": "HTMLModel",
          "model_module_version": "1.5.0",
          "state": {
            "_dom_classes": [],
            "_model_module": "@jupyter-widgets/controls",
            "_model_module_version": "1.5.0",
            "_model_name": "HTMLModel",
            "_view_count": null,
            "_view_module": "@jupyter-widgets/controls",
            "_view_module_version": "1.5.0",
            "_view_name": "HTMLView",
            "description": "",
            "description_tooltip": null,
            "layout": "IPY_MODEL_cc80205ca5ec4ed18ab000d1471f95ba",
            "placeholder": "​",
            "style": "IPY_MODEL_3ec5177b9a88414897351816f7d8f14b",
            "value": "Done! Use &#x27;show&#x27; commands to display/save.   "
          }
        },
        "ceb1d886dc5d4e99af1e5279b60f6568": {
          "model_module": "@jupyter-widgets/controls",
          "model_name": "FloatProgressModel",
          "model_module_version": "1.5.0",
          "state": {
            "_dom_classes": [],
            "_model_module": "@jupyter-widgets/controls",
            "_model_module_version": "1.5.0",
            "_model_name": "FloatProgressModel",
            "_view_count": null,
            "_view_module": "@jupyter-widgets/controls",
            "_view_module_version": "1.5.0",
            "_view_name": "ProgressView",
            "bar_style": "success",
            "description": "",
            "description_tooltip": null,
            "layout": "IPY_MODEL_4ca715a8a51f41429bb7acac8da131b2",
            "max": 1,
            "min": 0,
            "orientation": "horizontal",
            "style": "IPY_MODEL_550734bc7ae140d68bf4a706a3bc67ef",
            "value": 1
          }
        },
        "48f7570ec09341429d8df82dc73e3fd9": {
          "model_module": "@jupyter-widgets/controls",
          "model_name": "HTMLModel",
          "model_module_version": "1.5.0",
          "state": {
            "_dom_classes": [],
            "_model_module": "@jupyter-widgets/controls",
            "_model_module_version": "1.5.0",
            "_model_name": "HTMLModel",
            "_view_count": null,
            "_view_module": "@jupyter-widgets/controls",
            "_view_module_version": "1.5.0",
            "_view_name": "HTMLView",
            "description": "",
            "description_tooltip": null,
            "layout": "IPY_MODEL_4395991afd3a4fc4a140d7ea49347cb5",
            "placeholder": "​",
            "style": "IPY_MODEL_c407289df1cd4cc79a6a6ca9c33159d6",
            "value": " [100%]   00:01 -&gt; (00:00 left)"
          }
        },
        "24b983c5f9134cc49d353da09e585fe0": {
          "model_module": "@jupyter-widgets/base",
          "model_name": "LayoutModel",
          "model_module_version": "1.2.0",
          "state": {
            "_model_module": "@jupyter-widgets/base",
            "_model_module_version": "1.2.0",
            "_model_name": "LayoutModel",
            "_view_count": null,
            "_view_module": "@jupyter-widgets/base",
            "_view_module_version": "1.2.0",
            "_view_name": "LayoutView",
            "align_content": null,
            "align_items": null,
            "align_self": null,
            "border": null,
            "bottom": null,
            "display": "inline-flex",
            "flex": null,
            "flex_flow": "row wrap",
            "grid_area": null,
            "grid_auto_columns": null,
            "grid_auto_flow": null,
            "grid_auto_rows": null,
            "grid_column": null,
            "grid_gap": null,
            "grid_row": null,
            "grid_template_areas": null,
            "grid_template_columns": null,
            "grid_template_rows": null,
            "height": null,
            "justify_content": null,
            "justify_items": null,
            "left": null,
            "margin": null,
            "max_height": null,
            "max_width": null,
            "min_height": null,
            "min_width": null,
            "object_fit": null,
            "object_position": null,
            "order": null,
            "overflow": null,
            "overflow_x": null,
            "overflow_y": null,
            "padding": null,
            "right": null,
            "top": null,
            "visibility": null,
            "width": "100%"
          }
        },
        "cc80205ca5ec4ed18ab000d1471f95ba": {
          "model_module": "@jupyter-widgets/base",
          "model_name": "LayoutModel",
          "model_module_version": "1.2.0",
          "state": {
            "_model_module": "@jupyter-widgets/base",
            "_model_module_version": "1.2.0",
            "_model_name": "LayoutModel",
            "_view_count": null,
            "_view_module": "@jupyter-widgets/base",
            "_view_module_version": "1.2.0",
            "_view_name": "LayoutView",
            "align_content": null,
            "align_items": null,
            "align_self": null,
            "border": null,
            "bottom": null,
            "display": null,
            "flex": null,
            "flex_flow": null,
            "grid_area": null,
            "grid_auto_columns": null,
            "grid_auto_flow": null,
            "grid_auto_rows": null,
            "grid_column": null,
            "grid_gap": null,
            "grid_row": null,
            "grid_template_areas": null,
            "grid_template_columns": null,
            "grid_template_rows": null,
            "height": null,
            "justify_content": null,
            "justify_items": null,
            "left": null,
            "margin": null,
            "max_height": null,
            "max_width": null,
            "min_height": null,
            "min_width": null,
            "object_fit": null,
            "object_position": null,
            "order": null,
            "overflow": null,
            "overflow_x": null,
            "overflow_y": null,
            "padding": null,
            "right": null,
            "top": null,
            "visibility": null,
            "width": null
          }
        },
        "3ec5177b9a88414897351816f7d8f14b": {
          "model_module": "@jupyter-widgets/controls",
          "model_name": "DescriptionStyleModel",
          "model_module_version": "1.5.0",
          "state": {
            "_model_module": "@jupyter-widgets/controls",
            "_model_module_version": "1.5.0",
            "_model_name": "DescriptionStyleModel",
            "_view_count": null,
            "_view_module": "@jupyter-widgets/base",
            "_view_module_version": "1.2.0",
            "_view_name": "StyleView",
            "description_width": ""
          }
        },
        "4ca715a8a51f41429bb7acac8da131b2": {
          "model_module": "@jupyter-widgets/base",
          "model_name": "LayoutModel",
          "model_module_version": "1.2.0",
          "state": {
            "_model_module": "@jupyter-widgets/base",
            "_model_module_version": "1.2.0",
            "_model_name": "LayoutModel",
            "_view_count": null,
            "_view_module": "@jupyter-widgets/base",
            "_view_module_version": "1.2.0",
            "_view_name": "LayoutView",
            "align_content": null,
            "align_items": null,
            "align_self": null,
            "border": null,
            "bottom": null,
            "display": null,
            "flex": "2",
            "flex_flow": null,
            "grid_area": null,
            "grid_auto_columns": null,
            "grid_auto_flow": null,
            "grid_auto_rows": null,
            "grid_column": null,
            "grid_gap": null,
            "grid_row": null,
            "grid_template_areas": null,
            "grid_template_columns": null,
            "grid_template_rows": null,
            "height": null,
            "justify_content": null,
            "justify_items": null,
            "left": null,
            "margin": null,
            "max_height": null,
            "max_width": null,
            "min_height": null,
            "min_width": null,
            "object_fit": null,
            "object_position": null,
            "order": null,
            "overflow": null,
            "overflow_x": null,
            "overflow_y": null,
            "padding": null,
            "right": null,
            "top": null,
            "visibility": null,
            "width": null
          }
        },
        "550734bc7ae140d68bf4a706a3bc67ef": {
          "model_module": "@jupyter-widgets/controls",
          "model_name": "ProgressStyleModel",
          "model_module_version": "1.5.0",
          "state": {
            "_model_module": "@jupyter-widgets/controls",
            "_model_module_version": "1.5.0",
            "_model_name": "ProgressStyleModel",
            "_view_count": null,
            "_view_module": "@jupyter-widgets/base",
            "_view_module_version": "1.2.0",
            "_view_name": "StyleView",
            "bar_color": null,
            "description_width": ""
          }
        },
        "4395991afd3a4fc4a140d7ea49347cb5": {
          "model_module": "@jupyter-widgets/base",
          "model_name": "LayoutModel",
          "model_module_version": "1.2.0",
          "state": {
            "_model_module": "@jupyter-widgets/base",
            "_model_module_version": "1.2.0",
            "_model_name": "LayoutModel",
            "_view_count": null,
            "_view_module": "@jupyter-widgets/base",
            "_view_module_version": "1.2.0",
            "_view_name": "LayoutView",
            "align_content": null,
            "align_items": null,
            "align_self": null,
            "border": null,
            "bottom": null,
            "display": null,
            "flex": null,
            "flex_flow": null,
            "grid_area": null,
            "grid_auto_columns": null,
            "grid_auto_flow": null,
            "grid_auto_rows": null,
            "grid_column": null,
            "grid_gap": null,
            "grid_row": null,
            "grid_template_areas": null,
            "grid_template_columns": null,
            "grid_template_rows": null,
            "height": null,
            "justify_content": null,
            "justify_items": null,
            "left": null,
            "margin": null,
            "max_height": null,
            "max_width": null,
            "min_height": null,
            "min_width": null,
            "object_fit": null,
            "object_position": null,
            "order": null,
            "overflow": null,
            "overflow_x": null,
            "overflow_y": null,
            "padding": null,
            "right": null,
            "top": null,
            "visibility": null,
            "width": null
          }
        },
        "c407289df1cd4cc79a6a6ca9c33159d6": {
          "model_module": "@jupyter-widgets/controls",
          "model_name": "DescriptionStyleModel",
          "model_module_version": "1.5.0",
          "state": {
            "_model_module": "@jupyter-widgets/controls",
            "_model_module_version": "1.5.0",
            "_model_name": "DescriptionStyleModel",
            "_view_count": null,
            "_view_module": "@jupyter-widgets/base",
            "_view_module_version": "1.2.0",
            "_view_name": "StyleView",
            "description_width": ""
          }
        },
        "75c3a7659f5b497e8df0969e02fcc144": {
          "model_module": "@jupyter-widgets/controls",
          "model_name": "HBoxModel",
          "model_module_version": "1.5.0",
          "state": {
            "_dom_classes": [],
            "_model_module": "@jupyter-widgets/controls",
            "_model_module_version": "1.5.0",
            "_model_name": "HBoxModel",
            "_view_count": null,
            "_view_module": "@jupyter-widgets/controls",
            "_view_module_version": "1.5.0",
            "_view_name": "HBoxView",
            "box_style": "",
            "children": [
              "IPY_MODEL_13393d119e824515a8082f06024d19f3",
              "IPY_MODEL_1d5672faeb07441f96c75f0a96946dea",
              "IPY_MODEL_53d80d44a4844aa0a32003a02d7a2cce"
            ],
            "layout": "IPY_MODEL_728d8c85d90d4a278550c93053f66877"
          }
        },
        "13393d119e824515a8082f06024d19f3": {
          "model_module": "@jupyter-widgets/controls",
          "model_name": "HTMLModel",
          "model_module_version": "1.5.0",
          "state": {
            "_dom_classes": [],
            "_model_module": "@jupyter-widgets/controls",
            "_model_module_version": "1.5.0",
            "_model_name": "HTMLModel",
            "_view_count": null,
            "_view_module": "@jupyter-widgets/controls",
            "_view_module_version": "1.5.0",
            "_view_name": "HTMLView",
            "description": "",
            "description_tooltip": null,
            "layout": "IPY_MODEL_a7940bc9900f4b02864f5b0a0ca4b190",
            "placeholder": "​",
            "style": "IPY_MODEL_07926e1f379e4a2abca81d6d9609a74f",
            "value": "Done! Use &#x27;show&#x27; commands to display/save.   "
          }
        },
        "1d5672faeb07441f96c75f0a96946dea": {
          "model_module": "@jupyter-widgets/controls",
          "model_name": "FloatProgressModel",
          "model_module_version": "1.5.0",
          "state": {
            "_dom_classes": [],
            "_model_module": "@jupyter-widgets/controls",
            "_model_module_version": "1.5.0",
            "_model_name": "FloatProgressModel",
            "_view_count": null,
            "_view_module": "@jupyter-widgets/controls",
            "_view_module_version": "1.5.0",
            "_view_name": "ProgressView",
            "bar_style": "success",
            "description": "",
            "description_tooltip": null,
            "layout": "IPY_MODEL_8d2f77ddd13643e0a0af589336ad952c",
            "max": 1,
            "min": 0,
            "orientation": "horizontal",
            "style": "IPY_MODEL_882de000d6ef44119e68f0fdc50e0324",
            "value": 1
          }
        },
        "53d80d44a4844aa0a32003a02d7a2cce": {
          "model_module": "@jupyter-widgets/controls",
          "model_name": "HTMLModel",
          "model_module_version": "1.5.0",
          "state": {
            "_dom_classes": [],
            "_model_module": "@jupyter-widgets/controls",
            "_model_module_version": "1.5.0",
            "_model_name": "HTMLModel",
            "_view_count": null,
            "_view_module": "@jupyter-widgets/controls",
            "_view_module_version": "1.5.0",
            "_view_name": "HTMLView",
            "description": "",
            "description_tooltip": null,
            "layout": "IPY_MODEL_ac018d7d71f748a4bad57b367052c213",
            "placeholder": "​",
            "style": "IPY_MODEL_56aab03149c8462995cb07fa2dd77e1a",
            "value": " [100%]   00:00 -&gt; (00:00 left)"
          }
        },
        "728d8c85d90d4a278550c93053f66877": {
          "model_module": "@jupyter-widgets/base",
          "model_name": "LayoutModel",
          "model_module_version": "1.2.0",
          "state": {
            "_model_module": "@jupyter-widgets/base",
            "_model_module_version": "1.2.0",
            "_model_name": "LayoutModel",
            "_view_count": null,
            "_view_module": "@jupyter-widgets/base",
            "_view_module_version": "1.2.0",
            "_view_name": "LayoutView",
            "align_content": null,
            "align_items": null,
            "align_self": null,
            "border": null,
            "bottom": null,
            "display": "inline-flex",
            "flex": null,
            "flex_flow": "row wrap",
            "grid_area": null,
            "grid_auto_columns": null,
            "grid_auto_flow": null,
            "grid_auto_rows": null,
            "grid_column": null,
            "grid_gap": null,
            "grid_row": null,
            "grid_template_areas": null,
            "grid_template_columns": null,
            "grid_template_rows": null,
            "height": null,
            "justify_content": null,
            "justify_items": null,
            "left": null,
            "margin": null,
            "max_height": null,
            "max_width": null,
            "min_height": null,
            "min_width": null,
            "object_fit": null,
            "object_position": null,
            "order": null,
            "overflow": null,
            "overflow_x": null,
            "overflow_y": null,
            "padding": null,
            "right": null,
            "top": null,
            "visibility": null,
            "width": "100%"
          }
        },
        "a7940bc9900f4b02864f5b0a0ca4b190": {
          "model_module": "@jupyter-widgets/base",
          "model_name": "LayoutModel",
          "model_module_version": "1.2.0",
          "state": {
            "_model_module": "@jupyter-widgets/base",
            "_model_module_version": "1.2.0",
            "_model_name": "LayoutModel",
            "_view_count": null,
            "_view_module": "@jupyter-widgets/base",
            "_view_module_version": "1.2.0",
            "_view_name": "LayoutView",
            "align_content": null,
            "align_items": null,
            "align_self": null,
            "border": null,
            "bottom": null,
            "display": null,
            "flex": null,
            "flex_flow": null,
            "grid_area": null,
            "grid_auto_columns": null,
            "grid_auto_flow": null,
            "grid_auto_rows": null,
            "grid_column": null,
            "grid_gap": null,
            "grid_row": null,
            "grid_template_areas": null,
            "grid_template_columns": null,
            "grid_template_rows": null,
            "height": null,
            "justify_content": null,
            "justify_items": null,
            "left": null,
            "margin": null,
            "max_height": null,
            "max_width": null,
            "min_height": null,
            "min_width": null,
            "object_fit": null,
            "object_position": null,
            "order": null,
            "overflow": null,
            "overflow_x": null,
            "overflow_y": null,
            "padding": null,
            "right": null,
            "top": null,
            "visibility": null,
            "width": null
          }
        },
        "07926e1f379e4a2abca81d6d9609a74f": {
          "model_module": "@jupyter-widgets/controls",
          "model_name": "DescriptionStyleModel",
          "model_module_version": "1.5.0",
          "state": {
            "_model_module": "@jupyter-widgets/controls",
            "_model_module_version": "1.5.0",
            "_model_name": "DescriptionStyleModel",
            "_view_count": null,
            "_view_module": "@jupyter-widgets/base",
            "_view_module_version": "1.2.0",
            "_view_name": "StyleView",
            "description_width": ""
          }
        },
        "8d2f77ddd13643e0a0af589336ad952c": {
          "model_module": "@jupyter-widgets/base",
          "model_name": "LayoutModel",
          "model_module_version": "1.2.0",
          "state": {
            "_model_module": "@jupyter-widgets/base",
            "_model_module_version": "1.2.0",
            "_model_name": "LayoutModel",
            "_view_count": null,
            "_view_module": "@jupyter-widgets/base",
            "_view_module_version": "1.2.0",
            "_view_name": "LayoutView",
            "align_content": null,
            "align_items": null,
            "align_self": null,
            "border": null,
            "bottom": null,
            "display": null,
            "flex": "2",
            "flex_flow": null,
            "grid_area": null,
            "grid_auto_columns": null,
            "grid_auto_flow": null,
            "grid_auto_rows": null,
            "grid_column": null,
            "grid_gap": null,
            "grid_row": null,
            "grid_template_areas": null,
            "grid_template_columns": null,
            "grid_template_rows": null,
            "height": null,
            "justify_content": null,
            "justify_items": null,
            "left": null,
            "margin": null,
            "max_height": null,
            "max_width": null,
            "min_height": null,
            "min_width": null,
            "object_fit": null,
            "object_position": null,
            "order": null,
            "overflow": null,
            "overflow_x": null,
            "overflow_y": null,
            "padding": null,
            "right": null,
            "top": null,
            "visibility": null,
            "width": null
          }
        },
        "882de000d6ef44119e68f0fdc50e0324": {
          "model_module": "@jupyter-widgets/controls",
          "model_name": "ProgressStyleModel",
          "model_module_version": "1.5.0",
          "state": {
            "_model_module": "@jupyter-widgets/controls",
            "_model_module_version": "1.5.0",
            "_model_name": "ProgressStyleModel",
            "_view_count": null,
            "_view_module": "@jupyter-widgets/base",
            "_view_module_version": "1.2.0",
            "_view_name": "StyleView",
            "bar_color": null,
            "description_width": ""
          }
        },
        "ac018d7d71f748a4bad57b367052c213": {
          "model_module": "@jupyter-widgets/base",
          "model_name": "LayoutModel",
          "model_module_version": "1.2.0",
          "state": {
            "_model_module": "@jupyter-widgets/base",
            "_model_module_version": "1.2.0",
            "_model_name": "LayoutModel",
            "_view_count": null,
            "_view_module": "@jupyter-widgets/base",
            "_view_module_version": "1.2.0",
            "_view_name": "LayoutView",
            "align_content": null,
            "align_items": null,
            "align_self": null,
            "border": null,
            "bottom": null,
            "display": null,
            "flex": null,
            "flex_flow": null,
            "grid_area": null,
            "grid_auto_columns": null,
            "grid_auto_flow": null,
            "grid_auto_rows": null,
            "grid_column": null,
            "grid_gap": null,
            "grid_row": null,
            "grid_template_areas": null,
            "grid_template_columns": null,
            "grid_template_rows": null,
            "height": null,
            "justify_content": null,
            "justify_items": null,
            "left": null,
            "margin": null,
            "max_height": null,
            "max_width": null,
            "min_height": null,
            "min_width": null,
            "object_fit": null,
            "object_position": null,
            "order": null,
            "overflow": null,
            "overflow_x": null,
            "overflow_y": null,
            "padding": null,
            "right": null,
            "top": null,
            "visibility": null,
            "width": null
          }
        },
        "56aab03149c8462995cb07fa2dd77e1a": {
          "model_module": "@jupyter-widgets/controls",
          "model_name": "DescriptionStyleModel",
          "model_module_version": "1.5.0",
          "state": {
            "_model_module": "@jupyter-widgets/controls",
            "_model_module_version": "1.5.0",
            "_model_name": "DescriptionStyleModel",
            "_view_count": null,
            "_view_module": "@jupyter-widgets/base",
            "_view_module_version": "1.2.0",
            "_view_name": "StyleView",
            "description_width": ""
          }
        }
      }
    }
  },
  "cells": [
    {
      "cell_type": "markdown",
      "source": [
        "# Environment Setting"
      ],
      "metadata": {
        "id": "kB9wfTFUpfCX"
      },
      "id": "kB9wfTFUpfCX"
    },
    {
      "cell_type": "code",
      "metadata": {
        "colab": {
          "base_uri": "https://localhost:8080/"
        },
        "id": "KYiWqHPPI-t-",
        "outputId": "4d8f3213-103a-41c4-8a0f-26511103f9d1"
      },
      "source": [
        "#google colab\n",
        "from google.colab import drive\n",
        "drive.mount('/content/drive')"
      ],
      "id": "KYiWqHPPI-t-",
      "execution_count": 549,
      "outputs": [
        {
          "output_type": "stream",
          "name": "stdout",
          "text": [
            "Drive already mounted at /content/drive; to attempt to forcibly remount, call drive.mount(\"/content/drive\", force_remount=True).\n"
          ]
        }
      ]
    },
    {
      "cell_type": "code",
      "metadata": {
        "colab": {
          "base_uri": "https://localhost:8080/"
        },
        "id": "BsHwlw_hJ-aj",
        "outputId": "43da69ce-98b5-4aba-a62b-61261150013d"
      },
      "source": [
        "#google colab\n",
        "!pip install sweetviz\n",
        "!pip install graphviz"
      ],
      "id": "BsHwlw_hJ-aj",
      "execution_count": 550,
      "outputs": [
        {
          "output_type": "stream",
          "name": "stdout",
          "text": [
            "Looking in indexes: https://pypi.org/simple, https://us-python.pkg.dev/colab-wheels/public/simple/\n",
            "Requirement already satisfied: sweetviz in /usr/local/lib/python3.8/dist-packages (2.1.4)\n",
            "Requirement already satisfied: importlib-resources>=1.2.0 in /usr/local/lib/python3.8/dist-packages (from sweetviz) (5.10.2)\n",
            "Requirement already satisfied: tqdm>=4.43.0 in /usr/local/lib/python3.8/dist-packages (from sweetviz) (4.64.1)\n",
            "Requirement already satisfied: matplotlib>=3.1.3 in /usr/local/lib/python3.8/dist-packages (from sweetviz) (3.2.2)\n",
            "Requirement already satisfied: scipy>=1.3.2 in /usr/local/lib/python3.8/dist-packages (from sweetviz) (1.7.3)\n",
            "Requirement already satisfied: pandas!=1.0.0,!=1.0.1,!=1.0.2,>=0.25.3 in /usr/local/lib/python3.8/dist-packages (from sweetviz) (1.3.5)\n",
            "Requirement already satisfied: jinja2>=2.11.1 in /usr/local/lib/python3.8/dist-packages (from sweetviz) (2.11.3)\n",
            "Requirement already satisfied: numpy>=1.16.0 in /usr/local/lib/python3.8/dist-packages (from sweetviz) (1.21.6)\n",
            "Requirement already satisfied: zipp>=3.1.0 in /usr/local/lib/python3.8/dist-packages (from importlib-resources>=1.2.0->sweetviz) (3.13.0)\n",
            "Requirement already satisfied: MarkupSafe>=0.23 in /usr/local/lib/python3.8/dist-packages (from jinja2>=2.11.1->sweetviz) (2.0.1)\n",
            "Requirement already satisfied: python-dateutil>=2.1 in /usr/local/lib/python3.8/dist-packages (from matplotlib>=3.1.3->sweetviz) (2.8.2)\n",
            "Requirement already satisfied: cycler>=0.10 in /usr/local/lib/python3.8/dist-packages (from matplotlib>=3.1.3->sweetviz) (0.11.0)\n",
            "Requirement already satisfied: kiwisolver>=1.0.1 in /usr/local/lib/python3.8/dist-packages (from matplotlib>=3.1.3->sweetviz) (1.4.4)\n",
            "Requirement already satisfied: pyparsing!=2.0.4,!=2.1.2,!=2.1.6,>=2.0.1 in /usr/local/lib/python3.8/dist-packages (from matplotlib>=3.1.3->sweetviz) (3.0.9)\n",
            "Requirement already satisfied: pytz>=2017.3 in /usr/local/lib/python3.8/dist-packages (from pandas!=1.0.0,!=1.0.1,!=1.0.2,>=0.25.3->sweetviz) (2022.7.1)\n",
            "Requirement already satisfied: six>=1.5 in /usr/local/lib/python3.8/dist-packages (from python-dateutil>=2.1->matplotlib>=3.1.3->sweetviz) (1.15.0)\n",
            "Looking in indexes: https://pypi.org/simple, https://us-python.pkg.dev/colab-wheels/public/simple/\n",
            "Requirement already satisfied: graphviz in /usr/local/lib/python3.8/dist-packages (0.10.1)\n"
          ]
        }
      ]
    },
    {
      "cell_type": "code",
      "metadata": {
        "id": "f8c0c923"
      },
      "source": [
        "# import libraries\n",
        "%matplotlib inline\n",
        "import pandas as pd\n",
        "import numpy as np\n",
        "import matplotlib.pyplot as plt\n",
        "import seaborn as sns\n",
        "\n",
        "#address missing value\n",
        "from sklearn.impute import SimpleImputer\n",
        "\n",
        "#data scaling\n",
        "from sklearn.preprocessing import PowerTransformer,MinMaxScaler,QuantileTransformer,StandardScaler\n",
        "\n",
        "#data preprocessing pipeline\n",
        "from sklearn.pipeline import Pipeline\n",
        "\n",
        "#modelling\n",
        "from sklearn.metrics import roc_curve, auc, f1_score, roc_auc_score, classification_report, confusion_matrix, make_scorer\n",
        "from sklearn.model_selection import GridSearchCV, RandomizedSearchCV"
      ],
      "id": "f8c0c923",
      "execution_count": 551,
      "outputs": []
    },
    {
      "cell_type": "code",
      "metadata": {
        "id": "3093d217"
      },
      "source": [
        "# Function to plot ROC curve\n",
        "def plot_roc(y_test, y_pred):\n",
        "    fpr, tpr, thresholds = roc_curve(y_test, y_pred, pos_label=1, drop_intermediate = False)\n",
        "    roc_auc = auc(fpr, tpr)\n",
        "    plt.figure()\n",
        "    lw = 2\n",
        "    plt.plot(fpr, tpr, color='darkorange',\n",
        "             lw=lw, label='ROC curve (AUC = %0.2f)' % roc_auc)\n",
        "    plt.plot([0, 1], [0, 1], color='navy', lw=lw, linestyle='--')\n",
        "    plt.xlim([-0.001, 1.001])\n",
        "    plt.ylim([-0.001, 1.001])\n",
        "    plt.xlabel('1-Specificity (False Negative Rate)')\n",
        "    plt.ylabel('Sensitivity (True Positive Rate)')\n",
        "    plt.title('ROC curve')\n",
        "    plt.legend(loc=\"lower right\")\n",
        "    plt.show()"
      ],
      "id": "3093d217",
      "execution_count": 552,
      "outputs": []
    },
    {
      "cell_type": "markdown",
      "metadata": {
        "id": "v_-hPtxipuWx"
      },
      "source": [
        "# EDA"
      ],
      "id": "v_-hPtxipuWx"
    },
    {
      "cell_type": "code",
      "metadata": {
        "id": "15b94b26"
      },
      "source": [
        "# reading data with pandas\n",
        "# google colab path\n",
        "data = pd.read_excel('/content/drive/MyDrive/Data-Science/bankruptcy_data.xlsx')"
      ],
      "id": "15b94b26",
      "execution_count": 553,
      "outputs": []
    },
    {
      "cell_type": "code",
      "metadata": {
        "colab": {
          "base_uri": "https://localhost:8080/"
        },
        "id": "c5a4e8f8",
        "outputId": "5e1db893-0964-404f-d17b-895f440b5017"
      },
      "source": [
        "data.info()"
      ],
      "id": "c5a4e8f8",
      "execution_count": 554,
      "outputs": [
        {
          "output_type": "stream",
          "name": "stdout",
          "text": [
            "<class 'pandas.core.frame.DataFrame'>\n",
            "RangeIndex: 92872 entries, 0 to 92871\n",
            "Data columns (total 13 columns):\n",
            " #   Column              Non-Null Count  Dtype  \n",
            "---  ------              --------------  -----  \n",
            " 0   EPS                 92867 non-null  float64\n",
            " 1   Liquidity           92625 non-null  float64\n",
            " 2   Profitability       92625 non-null  float64\n",
            " 3   Productivity        92625 non-null  float64\n",
            " 4   Leverage Ratio      92846 non-null  float64\n",
            " 5   Asset Turnover      92625 non-null  float64\n",
            " 6   Operational Margin  87315 non-null  float64\n",
            " 7   Return on Equity    92864 non-null  float64\n",
            " 8   Market Book Ratio   92815 non-null  float64\n",
            " 9   Assets Growth       86171 non-null  float64\n",
            " 10  Sales Growth        86171 non-null  float64\n",
            " 11  Employee Growth     85862 non-null  float64\n",
            " 12  BK                  92872 non-null  int64  \n",
            "dtypes: float64(12), int64(1)\n",
            "memory usage: 9.2 MB\n"
          ]
        }
      ]
    },
    {
      "cell_type": "markdown",
      "source": [
        "**comments**\n",
        "*   BK - is the target variable\n",
        "*   All features are numerical values\n",
        "*   All features have some missing values\n",
        "\n"
      ],
      "metadata": {
        "id": "NU6GyAx44bQq"
      },
      "id": "NU6GyAx44bQq"
    },
    {
      "cell_type": "code",
      "metadata": {
        "colab": {
          "base_uri": "https://localhost:8080/",
          "height": 206
        },
        "id": "cfa000e9",
        "outputId": "d1d0dde8-047d-468d-9c14-a02d50de688a"
      },
      "source": [
        "data.head()"
      ],
      "id": "cfa000e9",
      "execution_count": 555,
      "outputs": [
        {
          "output_type": "execute_result",
          "data": {
            "text/plain": [
              "    EPS  Liquidity  Profitability  Productivity  Leverage Ratio  \\\n",
              "0  1.58       0.36           0.18          0.13            1.33   \n",
              "1  1.41       0.36           0.19          0.12            1.31   \n",
              "2  0.31       0.32           0.13          0.08            1.03   \n",
              "3  0.71       0.28           0.14          0.08            0.80   \n",
              "4  0.75       0.41           0.13          0.08            0.20   \n",
              "\n",
              "   Asset Turnover  Operational Margin  Return on Equity  Market Book Ratio  \\\n",
              "0            1.77                0.07              0.15               2.22   \n",
              "1            1.59                0.07              0.13               2.41   \n",
              "2            1.55                0.05              0.04               2.56   \n",
              "3            1.39                0.06              0.05               5.28   \n",
              "4            1.30                0.06              0.04               8.68   \n",
              "\n",
              "   Assets Growth  Sales Growth  Employee Growth  BK  \n",
              "0            NaN           NaN              NaN   0  \n",
              "1       0.126319      0.014278         0.040179   0  \n",
              "2       0.368077      0.327909         0.566524   0  \n",
              "3      -0.020809     -0.118904        -0.095890   0  \n",
              "4       0.233089      0.146807         0.053030   0  "
            ],
            "text/html": [
              "\n",
              "  <div id=\"df-7d589a98-11de-4153-b5ec-45234060a374\">\n",
              "    <div class=\"colab-df-container\">\n",
              "      <div>\n",
              "<style scoped>\n",
              "    .dataframe tbody tr th:only-of-type {\n",
              "        vertical-align: middle;\n",
              "    }\n",
              "\n",
              "    .dataframe tbody tr th {\n",
              "        vertical-align: top;\n",
              "    }\n",
              "\n",
              "    .dataframe thead th {\n",
              "        text-align: right;\n",
              "    }\n",
              "</style>\n",
              "<table border=\"1\" class=\"dataframe\">\n",
              "  <thead>\n",
              "    <tr style=\"text-align: right;\">\n",
              "      <th></th>\n",
              "      <th>EPS</th>\n",
              "      <th>Liquidity</th>\n",
              "      <th>Profitability</th>\n",
              "      <th>Productivity</th>\n",
              "      <th>Leverage Ratio</th>\n",
              "      <th>Asset Turnover</th>\n",
              "      <th>Operational Margin</th>\n",
              "      <th>Return on Equity</th>\n",
              "      <th>Market Book Ratio</th>\n",
              "      <th>Assets Growth</th>\n",
              "      <th>Sales Growth</th>\n",
              "      <th>Employee Growth</th>\n",
              "      <th>BK</th>\n",
              "    </tr>\n",
              "  </thead>\n",
              "  <tbody>\n",
              "    <tr>\n",
              "      <th>0</th>\n",
              "      <td>1.58</td>\n",
              "      <td>0.36</td>\n",
              "      <td>0.18</td>\n",
              "      <td>0.13</td>\n",
              "      <td>1.33</td>\n",
              "      <td>1.77</td>\n",
              "      <td>0.07</td>\n",
              "      <td>0.15</td>\n",
              "      <td>2.22</td>\n",
              "      <td>NaN</td>\n",
              "      <td>NaN</td>\n",
              "      <td>NaN</td>\n",
              "      <td>0</td>\n",
              "    </tr>\n",
              "    <tr>\n",
              "      <th>1</th>\n",
              "      <td>1.41</td>\n",
              "      <td>0.36</td>\n",
              "      <td>0.19</td>\n",
              "      <td>0.12</td>\n",
              "      <td>1.31</td>\n",
              "      <td>1.59</td>\n",
              "      <td>0.07</td>\n",
              "      <td>0.13</td>\n",
              "      <td>2.41</td>\n",
              "      <td>0.126319</td>\n",
              "      <td>0.014278</td>\n",
              "      <td>0.040179</td>\n",
              "      <td>0</td>\n",
              "    </tr>\n",
              "    <tr>\n",
              "      <th>2</th>\n",
              "      <td>0.31</td>\n",
              "      <td>0.32</td>\n",
              "      <td>0.13</td>\n",
              "      <td>0.08</td>\n",
              "      <td>1.03</td>\n",
              "      <td>1.55</td>\n",
              "      <td>0.05</td>\n",
              "      <td>0.04</td>\n",
              "      <td>2.56</td>\n",
              "      <td>0.368077</td>\n",
              "      <td>0.327909</td>\n",
              "      <td>0.566524</td>\n",
              "      <td>0</td>\n",
              "    </tr>\n",
              "    <tr>\n",
              "      <th>3</th>\n",
              "      <td>0.71</td>\n",
              "      <td>0.28</td>\n",
              "      <td>0.14</td>\n",
              "      <td>0.08</td>\n",
              "      <td>0.80</td>\n",
              "      <td>1.39</td>\n",
              "      <td>0.06</td>\n",
              "      <td>0.05</td>\n",
              "      <td>5.28</td>\n",
              "      <td>-0.020809</td>\n",
              "      <td>-0.118904</td>\n",
              "      <td>-0.095890</td>\n",
              "      <td>0</td>\n",
              "    </tr>\n",
              "    <tr>\n",
              "      <th>4</th>\n",
              "      <td>0.75</td>\n",
              "      <td>0.41</td>\n",
              "      <td>0.13</td>\n",
              "      <td>0.08</td>\n",
              "      <td>0.20</td>\n",
              "      <td>1.30</td>\n",
              "      <td>0.06</td>\n",
              "      <td>0.04</td>\n",
              "      <td>8.68</td>\n",
              "      <td>0.233089</td>\n",
              "      <td>0.146807</td>\n",
              "      <td>0.053030</td>\n",
              "      <td>0</td>\n",
              "    </tr>\n",
              "  </tbody>\n",
              "</table>\n",
              "</div>\n",
              "      <button class=\"colab-df-convert\" onclick=\"convertToInteractive('df-7d589a98-11de-4153-b5ec-45234060a374')\"\n",
              "              title=\"Convert this dataframe to an interactive table.\"\n",
              "              style=\"display:none;\">\n",
              "        \n",
              "  <svg xmlns=\"http://www.w3.org/2000/svg\" height=\"24px\"viewBox=\"0 0 24 24\"\n",
              "       width=\"24px\">\n",
              "    <path d=\"M0 0h24v24H0V0z\" fill=\"none\"/>\n",
              "    <path d=\"M18.56 5.44l.94 2.06.94-2.06 2.06-.94-2.06-.94-.94-2.06-.94 2.06-2.06.94zm-11 1L8.5 8.5l.94-2.06 2.06-.94-2.06-.94L8.5 2.5l-.94 2.06-2.06.94zm10 10l.94 2.06.94-2.06 2.06-.94-2.06-.94-.94-2.06-.94 2.06-2.06.94z\"/><path d=\"M17.41 7.96l-1.37-1.37c-.4-.4-.92-.59-1.43-.59-.52 0-1.04.2-1.43.59L10.3 9.45l-7.72 7.72c-.78.78-.78 2.05 0 2.83L4 21.41c.39.39.9.59 1.41.59.51 0 1.02-.2 1.41-.59l7.78-7.78 2.81-2.81c.8-.78.8-2.07 0-2.86zM5.41 20L4 18.59l7.72-7.72 1.47 1.35L5.41 20z\"/>\n",
              "  </svg>\n",
              "      </button>\n",
              "      \n",
              "  <style>\n",
              "    .colab-df-container {\n",
              "      display:flex;\n",
              "      flex-wrap:wrap;\n",
              "      gap: 12px;\n",
              "    }\n",
              "\n",
              "    .colab-df-convert {\n",
              "      background-color: #E8F0FE;\n",
              "      border: none;\n",
              "      border-radius: 50%;\n",
              "      cursor: pointer;\n",
              "      display: none;\n",
              "      fill: #1967D2;\n",
              "      height: 32px;\n",
              "      padding: 0 0 0 0;\n",
              "      width: 32px;\n",
              "    }\n",
              "\n",
              "    .colab-df-convert:hover {\n",
              "      background-color: #E2EBFA;\n",
              "      box-shadow: 0px 1px 2px rgba(60, 64, 67, 0.3), 0px 1px 3px 1px rgba(60, 64, 67, 0.15);\n",
              "      fill: #174EA6;\n",
              "    }\n",
              "\n",
              "    [theme=dark] .colab-df-convert {\n",
              "      background-color: #3B4455;\n",
              "      fill: #D2E3FC;\n",
              "    }\n",
              "\n",
              "    [theme=dark] .colab-df-convert:hover {\n",
              "      background-color: #434B5C;\n",
              "      box-shadow: 0px 1px 3px 1px rgba(0, 0, 0, 0.15);\n",
              "      filter: drop-shadow(0px 1px 2px rgba(0, 0, 0, 0.3));\n",
              "      fill: #FFFFFF;\n",
              "    }\n",
              "  </style>\n",
              "\n",
              "      <script>\n",
              "        const buttonEl =\n",
              "          document.querySelector('#df-7d589a98-11de-4153-b5ec-45234060a374 button.colab-df-convert');\n",
              "        buttonEl.style.display =\n",
              "          google.colab.kernel.accessAllowed ? 'block' : 'none';\n",
              "\n",
              "        async function convertToInteractive(key) {\n",
              "          const element = document.querySelector('#df-7d589a98-11de-4153-b5ec-45234060a374');\n",
              "          const dataTable =\n",
              "            await google.colab.kernel.invokeFunction('convertToInteractive',\n",
              "                                                     [key], {});\n",
              "          if (!dataTable) return;\n",
              "\n",
              "          const docLinkHtml = 'Like what you see? Visit the ' +\n",
              "            '<a target=\"_blank\" href=https://colab.research.google.com/notebooks/data_table.ipynb>data table notebook</a>'\n",
              "            + ' to learn more about interactive tables.';\n",
              "          element.innerHTML = '';\n",
              "          dataTable['output_type'] = 'display_data';\n",
              "          await google.colab.output.renderOutput(dataTable, element);\n",
              "          const docLink = document.createElement('div');\n",
              "          docLink.innerHTML = docLinkHtml;\n",
              "          element.appendChild(docLink);\n",
              "        }\n",
              "      </script>\n",
              "    </div>\n",
              "  </div>\n",
              "  "
            ]
          },
          "metadata": {},
          "execution_count": 555
        }
      ]
    },
    {
      "cell_type": "code",
      "metadata": {
        "colab": {
          "base_uri": "https://localhost:8080/",
          "height": 457
        },
        "id": "31b37ad8",
        "outputId": "2f18350d-58dc-430e-8da6-128ac819d1a7"
      },
      "source": [
        "# check missing values\n",
        "missing_total = data.isnull().sum().sort_values(ascending=False)\n",
        "missing_perc = (data.isnull().sum() / data.isnull().count()).sort_values(ascending=False)\n",
        "missing = pd.concat([missing_total ,missing_perc], axis=1, keys=['missing_total', 'missing_perc'])\n",
        "missing"
      ],
      "id": "31b37ad8",
      "execution_count": 556,
      "outputs": [
        {
          "output_type": "execute_result",
          "data": {
            "text/plain": [
              "                    missing_total  missing_perc\n",
              "Employee Growth              7010      0.075480\n",
              "Assets Growth                6701      0.072153\n",
              "Sales Growth                 6701      0.072153\n",
              "Operational Margin           5557      0.059835\n",
              "Liquidity                     247      0.002660\n",
              "Profitability                 247      0.002660\n",
              "Productivity                  247      0.002660\n",
              "Asset Turnover                247      0.002660\n",
              "Market Book Ratio              57      0.000614\n",
              "Leverage Ratio                 26      0.000280\n",
              "Return on Equity                8      0.000086\n",
              "EPS                             5      0.000054\n",
              "BK                              0      0.000000"
            ],
            "text/html": [
              "\n",
              "  <div id=\"df-9debdbaf-f44b-469e-b047-0806926032dc\">\n",
              "    <div class=\"colab-df-container\">\n",
              "      <div>\n",
              "<style scoped>\n",
              "    .dataframe tbody tr th:only-of-type {\n",
              "        vertical-align: middle;\n",
              "    }\n",
              "\n",
              "    .dataframe tbody tr th {\n",
              "        vertical-align: top;\n",
              "    }\n",
              "\n",
              "    .dataframe thead th {\n",
              "        text-align: right;\n",
              "    }\n",
              "</style>\n",
              "<table border=\"1\" class=\"dataframe\">\n",
              "  <thead>\n",
              "    <tr style=\"text-align: right;\">\n",
              "      <th></th>\n",
              "      <th>missing_total</th>\n",
              "      <th>missing_perc</th>\n",
              "    </tr>\n",
              "  </thead>\n",
              "  <tbody>\n",
              "    <tr>\n",
              "      <th>Employee Growth</th>\n",
              "      <td>7010</td>\n",
              "      <td>0.075480</td>\n",
              "    </tr>\n",
              "    <tr>\n",
              "      <th>Assets Growth</th>\n",
              "      <td>6701</td>\n",
              "      <td>0.072153</td>\n",
              "    </tr>\n",
              "    <tr>\n",
              "      <th>Sales Growth</th>\n",
              "      <td>6701</td>\n",
              "      <td>0.072153</td>\n",
              "    </tr>\n",
              "    <tr>\n",
              "      <th>Operational Margin</th>\n",
              "      <td>5557</td>\n",
              "      <td>0.059835</td>\n",
              "    </tr>\n",
              "    <tr>\n",
              "      <th>Liquidity</th>\n",
              "      <td>247</td>\n",
              "      <td>0.002660</td>\n",
              "    </tr>\n",
              "    <tr>\n",
              "      <th>Profitability</th>\n",
              "      <td>247</td>\n",
              "      <td>0.002660</td>\n",
              "    </tr>\n",
              "    <tr>\n",
              "      <th>Productivity</th>\n",
              "      <td>247</td>\n",
              "      <td>0.002660</td>\n",
              "    </tr>\n",
              "    <tr>\n",
              "      <th>Asset Turnover</th>\n",
              "      <td>247</td>\n",
              "      <td>0.002660</td>\n",
              "    </tr>\n",
              "    <tr>\n",
              "      <th>Market Book Ratio</th>\n",
              "      <td>57</td>\n",
              "      <td>0.000614</td>\n",
              "    </tr>\n",
              "    <tr>\n",
              "      <th>Leverage Ratio</th>\n",
              "      <td>26</td>\n",
              "      <td>0.000280</td>\n",
              "    </tr>\n",
              "    <tr>\n",
              "      <th>Return on Equity</th>\n",
              "      <td>8</td>\n",
              "      <td>0.000086</td>\n",
              "    </tr>\n",
              "    <tr>\n",
              "      <th>EPS</th>\n",
              "      <td>5</td>\n",
              "      <td>0.000054</td>\n",
              "    </tr>\n",
              "    <tr>\n",
              "      <th>BK</th>\n",
              "      <td>0</td>\n",
              "      <td>0.000000</td>\n",
              "    </tr>\n",
              "  </tbody>\n",
              "</table>\n",
              "</div>\n",
              "      <button class=\"colab-df-convert\" onclick=\"convertToInteractive('df-9debdbaf-f44b-469e-b047-0806926032dc')\"\n",
              "              title=\"Convert this dataframe to an interactive table.\"\n",
              "              style=\"display:none;\">\n",
              "        \n",
              "  <svg xmlns=\"http://www.w3.org/2000/svg\" height=\"24px\"viewBox=\"0 0 24 24\"\n",
              "       width=\"24px\">\n",
              "    <path d=\"M0 0h24v24H0V0z\" fill=\"none\"/>\n",
              "    <path d=\"M18.56 5.44l.94 2.06.94-2.06 2.06-.94-2.06-.94-.94-2.06-.94 2.06-2.06.94zm-11 1L8.5 8.5l.94-2.06 2.06-.94-2.06-.94L8.5 2.5l-.94 2.06-2.06.94zm10 10l.94 2.06.94-2.06 2.06-.94-2.06-.94-.94-2.06-.94 2.06-2.06.94z\"/><path d=\"M17.41 7.96l-1.37-1.37c-.4-.4-.92-.59-1.43-.59-.52 0-1.04.2-1.43.59L10.3 9.45l-7.72 7.72c-.78.78-.78 2.05 0 2.83L4 21.41c.39.39.9.59 1.41.59.51 0 1.02-.2 1.41-.59l7.78-7.78 2.81-2.81c.8-.78.8-2.07 0-2.86zM5.41 20L4 18.59l7.72-7.72 1.47 1.35L5.41 20z\"/>\n",
              "  </svg>\n",
              "      </button>\n",
              "      \n",
              "  <style>\n",
              "    .colab-df-container {\n",
              "      display:flex;\n",
              "      flex-wrap:wrap;\n",
              "      gap: 12px;\n",
              "    }\n",
              "\n",
              "    .colab-df-convert {\n",
              "      background-color: #E8F0FE;\n",
              "      border: none;\n",
              "      border-radius: 50%;\n",
              "      cursor: pointer;\n",
              "      display: none;\n",
              "      fill: #1967D2;\n",
              "      height: 32px;\n",
              "      padding: 0 0 0 0;\n",
              "      width: 32px;\n",
              "    }\n",
              "\n",
              "    .colab-df-convert:hover {\n",
              "      background-color: #E2EBFA;\n",
              "      box-shadow: 0px 1px 2px rgba(60, 64, 67, 0.3), 0px 1px 3px 1px rgba(60, 64, 67, 0.15);\n",
              "      fill: #174EA6;\n",
              "    }\n",
              "\n",
              "    [theme=dark] .colab-df-convert {\n",
              "      background-color: #3B4455;\n",
              "      fill: #D2E3FC;\n",
              "    }\n",
              "\n",
              "    [theme=dark] .colab-df-convert:hover {\n",
              "      background-color: #434B5C;\n",
              "      box-shadow: 0px 1px 3px 1px rgba(0, 0, 0, 0.15);\n",
              "      filter: drop-shadow(0px 1px 2px rgba(0, 0, 0, 0.3));\n",
              "      fill: #FFFFFF;\n",
              "    }\n",
              "  </style>\n",
              "\n",
              "      <script>\n",
              "        const buttonEl =\n",
              "          document.querySelector('#df-9debdbaf-f44b-469e-b047-0806926032dc button.colab-df-convert');\n",
              "        buttonEl.style.display =\n",
              "          google.colab.kernel.accessAllowed ? 'block' : 'none';\n",
              "\n",
              "        async function convertToInteractive(key) {\n",
              "          const element = document.querySelector('#df-9debdbaf-f44b-469e-b047-0806926032dc');\n",
              "          const dataTable =\n",
              "            await google.colab.kernel.invokeFunction('convertToInteractive',\n",
              "                                                     [key], {});\n",
              "          if (!dataTable) return;\n",
              "\n",
              "          const docLinkHtml = 'Like what you see? Visit the ' +\n",
              "            '<a target=\"_blank\" href=https://colab.research.google.com/notebooks/data_table.ipynb>data table notebook</a>'\n",
              "            + ' to learn more about interactive tables.';\n",
              "          element.innerHTML = '';\n",
              "          dataTable['output_type'] = 'display_data';\n",
              "          await google.colab.output.renderOutput(dataTable, element);\n",
              "          const docLink = document.createElement('div');\n",
              "          docLink.innerHTML = docLinkHtml;\n",
              "          element.appendChild(docLink);\n",
              "        }\n",
              "      </script>\n",
              "    </div>\n",
              "  </div>\n",
              "  "
            ]
          },
          "metadata": {},
          "execution_count": 556
        }
      ]
    },
    {
      "cell_type": "code",
      "metadata": {
        "colab": {
          "base_uri": "https://localhost:8080/",
          "height": 457
        },
        "id": "4000d04f",
        "outputId": "2a9b92d1-f027-4aa7-cfb4-9481869fa193"
      },
      "source": [
        "# check summary statistics\n",
        "data.describe().transpose()"
      ],
      "id": "4000d04f",
      "execution_count": 557,
      "outputs": [
        {
          "output_type": "execute_result",
          "data": {
            "text/plain": [
              "                      count        mean           std           min  \\\n",
              "EPS                 92867.0  -14.461355   2195.467288 -3.840000e+05   \n",
              "Liquidity           92625.0   -2.631237    121.610921 -2.596852e+04   \n",
              "Profitability       92625.0  -29.537274    677.230667 -7.968200e+04   \n",
              "Productivity        92625.0   -1.222870     35.885556 -5.093000e+03   \n",
              "Leverage Ratio      92846.0    1.345316    253.038093 -7.811000e+03   \n",
              "Asset Turnover      92625.0    1.053613      2.115945 -3.159000e+01   \n",
              "Operational Margin  87315.0   -7.915485    214.460079 -3.017570e+04   \n",
              "Return on Equity    92864.0   -2.112382    352.596902 -8.887514e+04   \n",
              "Market Book Ratio   92815.0  358.506265  26063.637981 -3.151500e+06   \n",
              "Assets Growth       86171.0    1.294075     73.769522 -1.000000e+00   \n",
              "Sales Growth        86171.0    1.900108    177.632638 -2.743103e+01   \n",
              "Employee Growth     85862.0    0.343322     14.074156 -1.000000e+00   \n",
              "BK                  92872.0    0.006008      0.077280  0.000000e+00   \n",
              "\n",
              "                          25%        50%         75%         max  \n",
              "EPS                 -0.140000   0.330000    1.530000    55339.00  \n",
              "Liquidity            0.020000   0.190000    0.400000        1.00  \n",
              "Profitability       -0.640000   0.070000    0.310000      140.58  \n",
              "Productivity        -0.060000   0.060000    0.110000     1102.00  \n",
              "Leverage Ratio       0.000000   0.280000    0.820000    75970.38  \n",
              "Asset Turnover       0.390000   0.830000    1.390000      276.38  \n",
              "Operational Margin  -0.030000   0.060000    0.140000      394.47  \n",
              "Return on Equity    -0.080000   0.030000    0.070000    39500.00  \n",
              "Market Book Ratio   11.200000  58.280000  240.140000  3455419.33  \n",
              "Assets Growth       -0.052596   0.051844    0.192062    14231.00  \n",
              "Sales Growth        -0.033522   0.059733    0.204231    39850.00  \n",
              "Employee Growth     -0.048107   0.017241    0.130944     2699.00  \n",
              "BK                   0.000000   0.000000    0.000000        1.00  "
            ],
            "text/html": [
              "\n",
              "  <div id=\"df-821a260d-602b-420f-ba25-465589ce669d\">\n",
              "    <div class=\"colab-df-container\">\n",
              "      <div>\n",
              "<style scoped>\n",
              "    .dataframe tbody tr th:only-of-type {\n",
              "        vertical-align: middle;\n",
              "    }\n",
              "\n",
              "    .dataframe tbody tr th {\n",
              "        vertical-align: top;\n",
              "    }\n",
              "\n",
              "    .dataframe thead th {\n",
              "        text-align: right;\n",
              "    }\n",
              "</style>\n",
              "<table border=\"1\" class=\"dataframe\">\n",
              "  <thead>\n",
              "    <tr style=\"text-align: right;\">\n",
              "      <th></th>\n",
              "      <th>count</th>\n",
              "      <th>mean</th>\n",
              "      <th>std</th>\n",
              "      <th>min</th>\n",
              "      <th>25%</th>\n",
              "      <th>50%</th>\n",
              "      <th>75%</th>\n",
              "      <th>max</th>\n",
              "    </tr>\n",
              "  </thead>\n",
              "  <tbody>\n",
              "    <tr>\n",
              "      <th>EPS</th>\n",
              "      <td>92867.0</td>\n",
              "      <td>-14.461355</td>\n",
              "      <td>2195.467288</td>\n",
              "      <td>-3.840000e+05</td>\n",
              "      <td>-0.140000</td>\n",
              "      <td>0.330000</td>\n",
              "      <td>1.530000</td>\n",
              "      <td>55339.00</td>\n",
              "    </tr>\n",
              "    <tr>\n",
              "      <th>Liquidity</th>\n",
              "      <td>92625.0</td>\n",
              "      <td>-2.631237</td>\n",
              "      <td>121.610921</td>\n",
              "      <td>-2.596852e+04</td>\n",
              "      <td>0.020000</td>\n",
              "      <td>0.190000</td>\n",
              "      <td>0.400000</td>\n",
              "      <td>1.00</td>\n",
              "    </tr>\n",
              "    <tr>\n",
              "      <th>Profitability</th>\n",
              "      <td>92625.0</td>\n",
              "      <td>-29.537274</td>\n",
              "      <td>677.230667</td>\n",
              "      <td>-7.968200e+04</td>\n",
              "      <td>-0.640000</td>\n",
              "      <td>0.070000</td>\n",
              "      <td>0.310000</td>\n",
              "      <td>140.58</td>\n",
              "    </tr>\n",
              "    <tr>\n",
              "      <th>Productivity</th>\n",
              "      <td>92625.0</td>\n",
              "      <td>-1.222870</td>\n",
              "      <td>35.885556</td>\n",
              "      <td>-5.093000e+03</td>\n",
              "      <td>-0.060000</td>\n",
              "      <td>0.060000</td>\n",
              "      <td>0.110000</td>\n",
              "      <td>1102.00</td>\n",
              "    </tr>\n",
              "    <tr>\n",
              "      <th>Leverage Ratio</th>\n",
              "      <td>92846.0</td>\n",
              "      <td>1.345316</td>\n",
              "      <td>253.038093</td>\n",
              "      <td>-7.811000e+03</td>\n",
              "      <td>0.000000</td>\n",
              "      <td>0.280000</td>\n",
              "      <td>0.820000</td>\n",
              "      <td>75970.38</td>\n",
              "    </tr>\n",
              "    <tr>\n",
              "      <th>Asset Turnover</th>\n",
              "      <td>92625.0</td>\n",
              "      <td>1.053613</td>\n",
              "      <td>2.115945</td>\n",
              "      <td>-3.159000e+01</td>\n",
              "      <td>0.390000</td>\n",
              "      <td>0.830000</td>\n",
              "      <td>1.390000</td>\n",
              "      <td>276.38</td>\n",
              "    </tr>\n",
              "    <tr>\n",
              "      <th>Operational Margin</th>\n",
              "      <td>87315.0</td>\n",
              "      <td>-7.915485</td>\n",
              "      <td>214.460079</td>\n",
              "      <td>-3.017570e+04</td>\n",
              "      <td>-0.030000</td>\n",
              "      <td>0.060000</td>\n",
              "      <td>0.140000</td>\n",
              "      <td>394.47</td>\n",
              "    </tr>\n",
              "    <tr>\n",
              "      <th>Return on Equity</th>\n",
              "      <td>92864.0</td>\n",
              "      <td>-2.112382</td>\n",
              "      <td>352.596902</td>\n",
              "      <td>-8.887514e+04</td>\n",
              "      <td>-0.080000</td>\n",
              "      <td>0.030000</td>\n",
              "      <td>0.070000</td>\n",
              "      <td>39500.00</td>\n",
              "    </tr>\n",
              "    <tr>\n",
              "      <th>Market Book Ratio</th>\n",
              "      <td>92815.0</td>\n",
              "      <td>358.506265</td>\n",
              "      <td>26063.637981</td>\n",
              "      <td>-3.151500e+06</td>\n",
              "      <td>11.200000</td>\n",
              "      <td>58.280000</td>\n",
              "      <td>240.140000</td>\n",
              "      <td>3455419.33</td>\n",
              "    </tr>\n",
              "    <tr>\n",
              "      <th>Assets Growth</th>\n",
              "      <td>86171.0</td>\n",
              "      <td>1.294075</td>\n",
              "      <td>73.769522</td>\n",
              "      <td>-1.000000e+00</td>\n",
              "      <td>-0.052596</td>\n",
              "      <td>0.051844</td>\n",
              "      <td>0.192062</td>\n",
              "      <td>14231.00</td>\n",
              "    </tr>\n",
              "    <tr>\n",
              "      <th>Sales Growth</th>\n",
              "      <td>86171.0</td>\n",
              "      <td>1.900108</td>\n",
              "      <td>177.632638</td>\n",
              "      <td>-2.743103e+01</td>\n",
              "      <td>-0.033522</td>\n",
              "      <td>0.059733</td>\n",
              "      <td>0.204231</td>\n",
              "      <td>39850.00</td>\n",
              "    </tr>\n",
              "    <tr>\n",
              "      <th>Employee Growth</th>\n",
              "      <td>85862.0</td>\n",
              "      <td>0.343322</td>\n",
              "      <td>14.074156</td>\n",
              "      <td>-1.000000e+00</td>\n",
              "      <td>-0.048107</td>\n",
              "      <td>0.017241</td>\n",
              "      <td>0.130944</td>\n",
              "      <td>2699.00</td>\n",
              "    </tr>\n",
              "    <tr>\n",
              "      <th>BK</th>\n",
              "      <td>92872.0</td>\n",
              "      <td>0.006008</td>\n",
              "      <td>0.077280</td>\n",
              "      <td>0.000000e+00</td>\n",
              "      <td>0.000000</td>\n",
              "      <td>0.000000</td>\n",
              "      <td>0.000000</td>\n",
              "      <td>1.00</td>\n",
              "    </tr>\n",
              "  </tbody>\n",
              "</table>\n",
              "</div>\n",
              "      <button class=\"colab-df-convert\" onclick=\"convertToInteractive('df-821a260d-602b-420f-ba25-465589ce669d')\"\n",
              "              title=\"Convert this dataframe to an interactive table.\"\n",
              "              style=\"display:none;\">\n",
              "        \n",
              "  <svg xmlns=\"http://www.w3.org/2000/svg\" height=\"24px\"viewBox=\"0 0 24 24\"\n",
              "       width=\"24px\">\n",
              "    <path d=\"M0 0h24v24H0V0z\" fill=\"none\"/>\n",
              "    <path d=\"M18.56 5.44l.94 2.06.94-2.06 2.06-.94-2.06-.94-.94-2.06-.94 2.06-2.06.94zm-11 1L8.5 8.5l.94-2.06 2.06-.94-2.06-.94L8.5 2.5l-.94 2.06-2.06.94zm10 10l.94 2.06.94-2.06 2.06-.94-2.06-.94-.94-2.06-.94 2.06-2.06.94z\"/><path d=\"M17.41 7.96l-1.37-1.37c-.4-.4-.92-.59-1.43-.59-.52 0-1.04.2-1.43.59L10.3 9.45l-7.72 7.72c-.78.78-.78 2.05 0 2.83L4 21.41c.39.39.9.59 1.41.59.51 0 1.02-.2 1.41-.59l7.78-7.78 2.81-2.81c.8-.78.8-2.07 0-2.86zM5.41 20L4 18.59l7.72-7.72 1.47 1.35L5.41 20z\"/>\n",
              "  </svg>\n",
              "      </button>\n",
              "      \n",
              "  <style>\n",
              "    .colab-df-container {\n",
              "      display:flex;\n",
              "      flex-wrap:wrap;\n",
              "      gap: 12px;\n",
              "    }\n",
              "\n",
              "    .colab-df-convert {\n",
              "      background-color: #E8F0FE;\n",
              "      border: none;\n",
              "      border-radius: 50%;\n",
              "      cursor: pointer;\n",
              "      display: none;\n",
              "      fill: #1967D2;\n",
              "      height: 32px;\n",
              "      padding: 0 0 0 0;\n",
              "      width: 32px;\n",
              "    }\n",
              "\n",
              "    .colab-df-convert:hover {\n",
              "      background-color: #E2EBFA;\n",
              "      box-shadow: 0px 1px 2px rgba(60, 64, 67, 0.3), 0px 1px 3px 1px rgba(60, 64, 67, 0.15);\n",
              "      fill: #174EA6;\n",
              "    }\n",
              "\n",
              "    [theme=dark] .colab-df-convert {\n",
              "      background-color: #3B4455;\n",
              "      fill: #D2E3FC;\n",
              "    }\n",
              "\n",
              "    [theme=dark] .colab-df-convert:hover {\n",
              "      background-color: #434B5C;\n",
              "      box-shadow: 0px 1px 3px 1px rgba(0, 0, 0, 0.15);\n",
              "      filter: drop-shadow(0px 1px 2px rgba(0, 0, 0, 0.3));\n",
              "      fill: #FFFFFF;\n",
              "    }\n",
              "  </style>\n",
              "\n",
              "      <script>\n",
              "        const buttonEl =\n",
              "          document.querySelector('#df-821a260d-602b-420f-ba25-465589ce669d button.colab-df-convert');\n",
              "        buttonEl.style.display =\n",
              "          google.colab.kernel.accessAllowed ? 'block' : 'none';\n",
              "\n",
              "        async function convertToInteractive(key) {\n",
              "          const element = document.querySelector('#df-821a260d-602b-420f-ba25-465589ce669d');\n",
              "          const dataTable =\n",
              "            await google.colab.kernel.invokeFunction('convertToInteractive',\n",
              "                                                     [key], {});\n",
              "          if (!dataTable) return;\n",
              "\n",
              "          const docLinkHtml = 'Like what you see? Visit the ' +\n",
              "            '<a target=\"_blank\" href=https://colab.research.google.com/notebooks/data_table.ipynb>data table notebook</a>'\n",
              "            + ' to learn more about interactive tables.';\n",
              "          element.innerHTML = '';\n",
              "          dataTable['output_type'] = 'display_data';\n",
              "          await google.colab.output.renderOutput(dataTable, element);\n",
              "          const docLink = document.createElement('div');\n",
              "          docLink.innerHTML = docLinkHtml;\n",
              "          element.appendChild(docLink);\n",
              "        }\n",
              "      </script>\n",
              "    </div>\n",
              "  </div>\n",
              "  "
            ]
          },
          "metadata": {},
          "execution_count": 557
        }
      ]
    },
    {
      "cell_type": "code",
      "source": [
        "# Check for duplicates\n",
        "data.duplicated().sum()"
      ],
      "metadata": {
        "colab": {
          "base_uri": "https://localhost:8080/"
        },
        "id": "sNUWv1w_540U",
        "outputId": "0f68e49b-24aa-4e01-8723-84315bf3ba44"
      },
      "id": "sNUWv1w_540U",
      "execution_count": 558,
      "outputs": [
        {
          "output_type": "execute_result",
          "data": {
            "text/plain": [
              "27"
            ]
          },
          "metadata": {},
          "execution_count": 558
        }
      ]
    },
    {
      "cell_type": "code",
      "source": [
        "# Check for duplicates - list all duplicates\n",
        "data[data.duplicated(keep=False)].transform(np.sort).head(20)"
      ],
      "metadata": {
        "colab": {
          "base_uri": "https://localhost:8080/",
          "height": 677
        },
        "id": "mtFo0YKr6sRn",
        "outputId": "24701d05-d320-471f-e8a7-6adf0258c5a3"
      },
      "id": "mtFo0YKr6sRn",
      "execution_count": 559,
      "outputs": [
        {
          "output_type": "execute_result",
          "data": {
            "text/plain": [
              "        EPS  Liquidity  Profitability  Productivity  Leverage Ratio  \\\n",
              "7511  -3.02      -0.08           0.06         -0.04            0.65   \n",
              "20837 -3.02      -0.08           0.06         -0.04            0.65   \n",
              "20840  0.95      -0.07           0.07          0.06            0.65   \n",
              "20841  0.95      -0.07           0.07          0.06            0.65   \n",
              "20844  0.99      -0.07           0.07          0.08            0.66   \n",
              "21789  0.99      -0.07           0.07          0.08            0.66   \n",
              "24388  1.38      -0.05           0.09          0.09            0.67   \n",
              "26864  1.38      -0.05           0.09          0.09            0.67   \n",
              "26865  2.14      -0.05           0.09          0.09            0.69   \n",
              "26866  2.14      -0.05           0.09          0.09            0.69   \n",
              "26867  2.15      -0.04           0.10          0.09            0.69   \n",
              "26868  2.15      -0.04           0.10          0.09            0.69   \n",
              "26869  2.27      -0.04           0.10          0.09            0.72   \n",
              "26870  2.27      -0.04           0.10          0.09            0.72   \n",
              "29194  2.28      -0.04           0.11          0.09            0.73   \n",
              "29227  2.28      -0.04           0.11          0.09            0.73   \n",
              "29228  2.37      -0.03           0.11          0.09            0.75   \n",
              "29229  2.37      -0.03           0.11          0.09            0.75   \n",
              "29260  2.43      -0.02           0.12          0.10            0.76   \n",
              "29261  2.43      -0.02           0.12          0.10            0.76   \n",
              "\n",
              "       Asset Turnover  Operational Margin  Return on Equity  \\\n",
              "7511             0.28               -0.04             -0.14   \n",
              "20837            0.28               -0.04             -0.14   \n",
              "20840            0.29                0.13              0.05   \n",
              "20841            0.29                0.13              0.05   \n",
              "20844            0.31                0.13              0.06   \n",
              "21789            0.31                0.13              0.06   \n",
              "24388            0.33                0.14              0.07   \n",
              "26864            0.33                0.14              0.07   \n",
              "26865            0.39                0.14              0.08   \n",
              "26866            0.39                0.14              0.08   \n",
              "26867            0.40                0.14              0.08   \n",
              "26868            0.40                0.14              0.08   \n",
              "26869            0.42                0.16              0.08   \n",
              "26870            0.42                0.16              0.08   \n",
              "29194            0.42                0.16              0.08   \n",
              "29227            0.42                0.16              0.08   \n",
              "29228            0.48                0.16              0.09   \n",
              "29229            0.48                0.16              0.09   \n",
              "29260            0.49                0.16              0.09   \n",
              "29261            0.49                0.16              0.09   \n",
              "\n",
              "       Market Book Ratio  Assets Growth  Sales Growth  Employee Growth  BK  \n",
              "7511                9.86      -0.060779     -0.268154        -0.344557   0  \n",
              "20837               9.86      -0.060779     -0.268154        -0.344557   0  \n",
              "20840              11.92      -0.018581     -0.253067        -0.199961   0  \n",
              "20841              11.92      -0.018581     -0.253067        -0.199961   0  \n",
              "20844              12.19      -0.010286     -0.072410        -0.077668   0  \n",
              "21789              12.19      -0.010286     -0.072410        -0.077668   0  \n",
              "24388              13.55      -0.002466     -0.053691        -0.016834   0  \n",
              "26864              13.55      -0.002466     -0.053691        -0.016834   0  \n",
              "26865              15.75       0.009877     -0.034895        -0.011623   0  \n",
              "26866              15.75       0.009877     -0.034895        -0.011623   0  \n",
              "26867              16.70       0.014645     -0.033425        -0.011426   0  \n",
              "26868              16.70       0.014645     -0.033425        -0.011426   0  \n",
              "26869              19.14       0.018161     -0.030649        -0.010136   0  \n",
              "26870              19.14       0.018161     -0.030649        -0.010136   0  \n",
              "29194              19.18       0.019072     -0.019947        -0.010078   0  \n",
              "29227              19.18       0.019072     -0.019947        -0.010078   0  \n",
              "29228              19.35       0.020838      0.005396        -0.002000   0  \n",
              "29229              19.35       0.020838      0.005396        -0.002000   0  \n",
              "29260              22.82       0.024507      0.018128        -0.001932   0  \n",
              "29261              22.82       0.024507      0.018128        -0.001932   0  "
            ],
            "text/html": [
              "\n",
              "  <div id=\"df-d88b0fcd-4bfa-4f98-862f-0abbd9aa5f3e\">\n",
              "    <div class=\"colab-df-container\">\n",
              "      <div>\n",
              "<style scoped>\n",
              "    .dataframe tbody tr th:only-of-type {\n",
              "        vertical-align: middle;\n",
              "    }\n",
              "\n",
              "    .dataframe tbody tr th {\n",
              "        vertical-align: top;\n",
              "    }\n",
              "\n",
              "    .dataframe thead th {\n",
              "        text-align: right;\n",
              "    }\n",
              "</style>\n",
              "<table border=\"1\" class=\"dataframe\">\n",
              "  <thead>\n",
              "    <tr style=\"text-align: right;\">\n",
              "      <th></th>\n",
              "      <th>EPS</th>\n",
              "      <th>Liquidity</th>\n",
              "      <th>Profitability</th>\n",
              "      <th>Productivity</th>\n",
              "      <th>Leverage Ratio</th>\n",
              "      <th>Asset Turnover</th>\n",
              "      <th>Operational Margin</th>\n",
              "      <th>Return on Equity</th>\n",
              "      <th>Market Book Ratio</th>\n",
              "      <th>Assets Growth</th>\n",
              "      <th>Sales Growth</th>\n",
              "      <th>Employee Growth</th>\n",
              "      <th>BK</th>\n",
              "    </tr>\n",
              "  </thead>\n",
              "  <tbody>\n",
              "    <tr>\n",
              "      <th>7511</th>\n",
              "      <td>-3.02</td>\n",
              "      <td>-0.08</td>\n",
              "      <td>0.06</td>\n",
              "      <td>-0.04</td>\n",
              "      <td>0.65</td>\n",
              "      <td>0.28</td>\n",
              "      <td>-0.04</td>\n",
              "      <td>-0.14</td>\n",
              "      <td>9.86</td>\n",
              "      <td>-0.060779</td>\n",
              "      <td>-0.268154</td>\n",
              "      <td>-0.344557</td>\n",
              "      <td>0</td>\n",
              "    </tr>\n",
              "    <tr>\n",
              "      <th>20837</th>\n",
              "      <td>-3.02</td>\n",
              "      <td>-0.08</td>\n",
              "      <td>0.06</td>\n",
              "      <td>-0.04</td>\n",
              "      <td>0.65</td>\n",
              "      <td>0.28</td>\n",
              "      <td>-0.04</td>\n",
              "      <td>-0.14</td>\n",
              "      <td>9.86</td>\n",
              "      <td>-0.060779</td>\n",
              "      <td>-0.268154</td>\n",
              "      <td>-0.344557</td>\n",
              "      <td>0</td>\n",
              "    </tr>\n",
              "    <tr>\n",
              "      <th>20840</th>\n",
              "      <td>0.95</td>\n",
              "      <td>-0.07</td>\n",
              "      <td>0.07</td>\n",
              "      <td>0.06</td>\n",
              "      <td>0.65</td>\n",
              "      <td>0.29</td>\n",
              "      <td>0.13</td>\n",
              "      <td>0.05</td>\n",
              "      <td>11.92</td>\n",
              "      <td>-0.018581</td>\n",
              "      <td>-0.253067</td>\n",
              "      <td>-0.199961</td>\n",
              "      <td>0</td>\n",
              "    </tr>\n",
              "    <tr>\n",
              "      <th>20841</th>\n",
              "      <td>0.95</td>\n",
              "      <td>-0.07</td>\n",
              "      <td>0.07</td>\n",
              "      <td>0.06</td>\n",
              "      <td>0.65</td>\n",
              "      <td>0.29</td>\n",
              "      <td>0.13</td>\n",
              "      <td>0.05</td>\n",
              "      <td>11.92</td>\n",
              "      <td>-0.018581</td>\n",
              "      <td>-0.253067</td>\n",
              "      <td>-0.199961</td>\n",
              "      <td>0</td>\n",
              "    </tr>\n",
              "    <tr>\n",
              "      <th>20844</th>\n",
              "      <td>0.99</td>\n",
              "      <td>-0.07</td>\n",
              "      <td>0.07</td>\n",
              "      <td>0.08</td>\n",
              "      <td>0.66</td>\n",
              "      <td>0.31</td>\n",
              "      <td>0.13</td>\n",
              "      <td>0.06</td>\n",
              "      <td>12.19</td>\n",
              "      <td>-0.010286</td>\n",
              "      <td>-0.072410</td>\n",
              "      <td>-0.077668</td>\n",
              "      <td>0</td>\n",
              "    </tr>\n",
              "    <tr>\n",
              "      <th>21789</th>\n",
              "      <td>0.99</td>\n",
              "      <td>-0.07</td>\n",
              "      <td>0.07</td>\n",
              "      <td>0.08</td>\n",
              "      <td>0.66</td>\n",
              "      <td>0.31</td>\n",
              "      <td>0.13</td>\n",
              "      <td>0.06</td>\n",
              "      <td>12.19</td>\n",
              "      <td>-0.010286</td>\n",
              "      <td>-0.072410</td>\n",
              "      <td>-0.077668</td>\n",
              "      <td>0</td>\n",
              "    </tr>\n",
              "    <tr>\n",
              "      <th>24388</th>\n",
              "      <td>1.38</td>\n",
              "      <td>-0.05</td>\n",
              "      <td>0.09</td>\n",
              "      <td>0.09</td>\n",
              "      <td>0.67</td>\n",
              "      <td>0.33</td>\n",
              "      <td>0.14</td>\n",
              "      <td>0.07</td>\n",
              "      <td>13.55</td>\n",
              "      <td>-0.002466</td>\n",
              "      <td>-0.053691</td>\n",
              "      <td>-0.016834</td>\n",
              "      <td>0</td>\n",
              "    </tr>\n",
              "    <tr>\n",
              "      <th>26864</th>\n",
              "      <td>1.38</td>\n",
              "      <td>-0.05</td>\n",
              "      <td>0.09</td>\n",
              "      <td>0.09</td>\n",
              "      <td>0.67</td>\n",
              "      <td>0.33</td>\n",
              "      <td>0.14</td>\n",
              "      <td>0.07</td>\n",
              "      <td>13.55</td>\n",
              "      <td>-0.002466</td>\n",
              "      <td>-0.053691</td>\n",
              "      <td>-0.016834</td>\n",
              "      <td>0</td>\n",
              "    </tr>\n",
              "    <tr>\n",
              "      <th>26865</th>\n",
              "      <td>2.14</td>\n",
              "      <td>-0.05</td>\n",
              "      <td>0.09</td>\n",
              "      <td>0.09</td>\n",
              "      <td>0.69</td>\n",
              "      <td>0.39</td>\n",
              "      <td>0.14</td>\n",
              "      <td>0.08</td>\n",
              "      <td>15.75</td>\n",
              "      <td>0.009877</td>\n",
              "      <td>-0.034895</td>\n",
              "      <td>-0.011623</td>\n",
              "      <td>0</td>\n",
              "    </tr>\n",
              "    <tr>\n",
              "      <th>26866</th>\n",
              "      <td>2.14</td>\n",
              "      <td>-0.05</td>\n",
              "      <td>0.09</td>\n",
              "      <td>0.09</td>\n",
              "      <td>0.69</td>\n",
              "      <td>0.39</td>\n",
              "      <td>0.14</td>\n",
              "      <td>0.08</td>\n",
              "      <td>15.75</td>\n",
              "      <td>0.009877</td>\n",
              "      <td>-0.034895</td>\n",
              "      <td>-0.011623</td>\n",
              "      <td>0</td>\n",
              "    </tr>\n",
              "    <tr>\n",
              "      <th>26867</th>\n",
              "      <td>2.15</td>\n",
              "      <td>-0.04</td>\n",
              "      <td>0.10</td>\n",
              "      <td>0.09</td>\n",
              "      <td>0.69</td>\n",
              "      <td>0.40</td>\n",
              "      <td>0.14</td>\n",
              "      <td>0.08</td>\n",
              "      <td>16.70</td>\n",
              "      <td>0.014645</td>\n",
              "      <td>-0.033425</td>\n",
              "      <td>-0.011426</td>\n",
              "      <td>0</td>\n",
              "    </tr>\n",
              "    <tr>\n",
              "      <th>26868</th>\n",
              "      <td>2.15</td>\n",
              "      <td>-0.04</td>\n",
              "      <td>0.10</td>\n",
              "      <td>0.09</td>\n",
              "      <td>0.69</td>\n",
              "      <td>0.40</td>\n",
              "      <td>0.14</td>\n",
              "      <td>0.08</td>\n",
              "      <td>16.70</td>\n",
              "      <td>0.014645</td>\n",
              "      <td>-0.033425</td>\n",
              "      <td>-0.011426</td>\n",
              "      <td>0</td>\n",
              "    </tr>\n",
              "    <tr>\n",
              "      <th>26869</th>\n",
              "      <td>2.27</td>\n",
              "      <td>-0.04</td>\n",
              "      <td>0.10</td>\n",
              "      <td>0.09</td>\n",
              "      <td>0.72</td>\n",
              "      <td>0.42</td>\n",
              "      <td>0.16</td>\n",
              "      <td>0.08</td>\n",
              "      <td>19.14</td>\n",
              "      <td>0.018161</td>\n",
              "      <td>-0.030649</td>\n",
              "      <td>-0.010136</td>\n",
              "      <td>0</td>\n",
              "    </tr>\n",
              "    <tr>\n",
              "      <th>26870</th>\n",
              "      <td>2.27</td>\n",
              "      <td>-0.04</td>\n",
              "      <td>0.10</td>\n",
              "      <td>0.09</td>\n",
              "      <td>0.72</td>\n",
              "      <td>0.42</td>\n",
              "      <td>0.16</td>\n",
              "      <td>0.08</td>\n",
              "      <td>19.14</td>\n",
              "      <td>0.018161</td>\n",
              "      <td>-0.030649</td>\n",
              "      <td>-0.010136</td>\n",
              "      <td>0</td>\n",
              "    </tr>\n",
              "    <tr>\n",
              "      <th>29194</th>\n",
              "      <td>2.28</td>\n",
              "      <td>-0.04</td>\n",
              "      <td>0.11</td>\n",
              "      <td>0.09</td>\n",
              "      <td>0.73</td>\n",
              "      <td>0.42</td>\n",
              "      <td>0.16</td>\n",
              "      <td>0.08</td>\n",
              "      <td>19.18</td>\n",
              "      <td>0.019072</td>\n",
              "      <td>-0.019947</td>\n",
              "      <td>-0.010078</td>\n",
              "      <td>0</td>\n",
              "    </tr>\n",
              "    <tr>\n",
              "      <th>29227</th>\n",
              "      <td>2.28</td>\n",
              "      <td>-0.04</td>\n",
              "      <td>0.11</td>\n",
              "      <td>0.09</td>\n",
              "      <td>0.73</td>\n",
              "      <td>0.42</td>\n",
              "      <td>0.16</td>\n",
              "      <td>0.08</td>\n",
              "      <td>19.18</td>\n",
              "      <td>0.019072</td>\n",
              "      <td>-0.019947</td>\n",
              "      <td>-0.010078</td>\n",
              "      <td>0</td>\n",
              "    </tr>\n",
              "    <tr>\n",
              "      <th>29228</th>\n",
              "      <td>2.37</td>\n",
              "      <td>-0.03</td>\n",
              "      <td>0.11</td>\n",
              "      <td>0.09</td>\n",
              "      <td>0.75</td>\n",
              "      <td>0.48</td>\n",
              "      <td>0.16</td>\n",
              "      <td>0.09</td>\n",
              "      <td>19.35</td>\n",
              "      <td>0.020838</td>\n",
              "      <td>0.005396</td>\n",
              "      <td>-0.002000</td>\n",
              "      <td>0</td>\n",
              "    </tr>\n",
              "    <tr>\n",
              "      <th>29229</th>\n",
              "      <td>2.37</td>\n",
              "      <td>-0.03</td>\n",
              "      <td>0.11</td>\n",
              "      <td>0.09</td>\n",
              "      <td>0.75</td>\n",
              "      <td>0.48</td>\n",
              "      <td>0.16</td>\n",
              "      <td>0.09</td>\n",
              "      <td>19.35</td>\n",
              "      <td>0.020838</td>\n",
              "      <td>0.005396</td>\n",
              "      <td>-0.002000</td>\n",
              "      <td>0</td>\n",
              "    </tr>\n",
              "    <tr>\n",
              "      <th>29260</th>\n",
              "      <td>2.43</td>\n",
              "      <td>-0.02</td>\n",
              "      <td>0.12</td>\n",
              "      <td>0.10</td>\n",
              "      <td>0.76</td>\n",
              "      <td>0.49</td>\n",
              "      <td>0.16</td>\n",
              "      <td>0.09</td>\n",
              "      <td>22.82</td>\n",
              "      <td>0.024507</td>\n",
              "      <td>0.018128</td>\n",
              "      <td>-0.001932</td>\n",
              "      <td>0</td>\n",
              "    </tr>\n",
              "    <tr>\n",
              "      <th>29261</th>\n",
              "      <td>2.43</td>\n",
              "      <td>-0.02</td>\n",
              "      <td>0.12</td>\n",
              "      <td>0.10</td>\n",
              "      <td>0.76</td>\n",
              "      <td>0.49</td>\n",
              "      <td>0.16</td>\n",
              "      <td>0.09</td>\n",
              "      <td>22.82</td>\n",
              "      <td>0.024507</td>\n",
              "      <td>0.018128</td>\n",
              "      <td>-0.001932</td>\n",
              "      <td>0</td>\n",
              "    </tr>\n",
              "  </tbody>\n",
              "</table>\n",
              "</div>\n",
              "      <button class=\"colab-df-convert\" onclick=\"convertToInteractive('df-d88b0fcd-4bfa-4f98-862f-0abbd9aa5f3e')\"\n",
              "              title=\"Convert this dataframe to an interactive table.\"\n",
              "              style=\"display:none;\">\n",
              "        \n",
              "  <svg xmlns=\"http://www.w3.org/2000/svg\" height=\"24px\"viewBox=\"0 0 24 24\"\n",
              "       width=\"24px\">\n",
              "    <path d=\"M0 0h24v24H0V0z\" fill=\"none\"/>\n",
              "    <path d=\"M18.56 5.44l.94 2.06.94-2.06 2.06-.94-2.06-.94-.94-2.06-.94 2.06-2.06.94zm-11 1L8.5 8.5l.94-2.06 2.06-.94-2.06-.94L8.5 2.5l-.94 2.06-2.06.94zm10 10l.94 2.06.94-2.06 2.06-.94-2.06-.94-.94-2.06-.94 2.06-2.06.94z\"/><path d=\"M17.41 7.96l-1.37-1.37c-.4-.4-.92-.59-1.43-.59-.52 0-1.04.2-1.43.59L10.3 9.45l-7.72 7.72c-.78.78-.78 2.05 0 2.83L4 21.41c.39.39.9.59 1.41.59.51 0 1.02-.2 1.41-.59l7.78-7.78 2.81-2.81c.8-.78.8-2.07 0-2.86zM5.41 20L4 18.59l7.72-7.72 1.47 1.35L5.41 20z\"/>\n",
              "  </svg>\n",
              "      </button>\n",
              "      \n",
              "  <style>\n",
              "    .colab-df-container {\n",
              "      display:flex;\n",
              "      flex-wrap:wrap;\n",
              "      gap: 12px;\n",
              "    }\n",
              "\n",
              "    .colab-df-convert {\n",
              "      background-color: #E8F0FE;\n",
              "      border: none;\n",
              "      border-radius: 50%;\n",
              "      cursor: pointer;\n",
              "      display: none;\n",
              "      fill: #1967D2;\n",
              "      height: 32px;\n",
              "      padding: 0 0 0 0;\n",
              "      width: 32px;\n",
              "    }\n",
              "\n",
              "    .colab-df-convert:hover {\n",
              "      background-color: #E2EBFA;\n",
              "      box-shadow: 0px 1px 2px rgba(60, 64, 67, 0.3), 0px 1px 3px 1px rgba(60, 64, 67, 0.15);\n",
              "      fill: #174EA6;\n",
              "    }\n",
              "\n",
              "    [theme=dark] .colab-df-convert {\n",
              "      background-color: #3B4455;\n",
              "      fill: #D2E3FC;\n",
              "    }\n",
              "\n",
              "    [theme=dark] .colab-df-convert:hover {\n",
              "      background-color: #434B5C;\n",
              "      box-shadow: 0px 1px 3px 1px rgba(0, 0, 0, 0.15);\n",
              "      filter: drop-shadow(0px 1px 2px rgba(0, 0, 0, 0.3));\n",
              "      fill: #FFFFFF;\n",
              "    }\n",
              "  </style>\n",
              "\n",
              "      <script>\n",
              "        const buttonEl =\n",
              "          document.querySelector('#df-d88b0fcd-4bfa-4f98-862f-0abbd9aa5f3e button.colab-df-convert');\n",
              "        buttonEl.style.display =\n",
              "          google.colab.kernel.accessAllowed ? 'block' : 'none';\n",
              "\n",
              "        async function convertToInteractive(key) {\n",
              "          const element = document.querySelector('#df-d88b0fcd-4bfa-4f98-862f-0abbd9aa5f3e');\n",
              "          const dataTable =\n",
              "            await google.colab.kernel.invokeFunction('convertToInteractive',\n",
              "                                                     [key], {});\n",
              "          if (!dataTable) return;\n",
              "\n",
              "          const docLinkHtml = 'Like what you see? Visit the ' +\n",
              "            '<a target=\"_blank\" href=https://colab.research.google.com/notebooks/data_table.ipynb>data table notebook</a>'\n",
              "            + ' to learn more about interactive tables.';\n",
              "          element.innerHTML = '';\n",
              "          dataTable['output_type'] = 'display_data';\n",
              "          await google.colab.output.renderOutput(dataTable, element);\n",
              "          const docLink = document.createElement('div');\n",
              "          docLink.innerHTML = docLinkHtml;\n",
              "          element.appendChild(docLink);\n",
              "        }\n",
              "      </script>\n",
              "    </div>\n",
              "  </div>\n",
              "  "
            ]
          },
          "metadata": {},
          "execution_count": 559
        }
      ]
    },
    {
      "cell_type": "code",
      "source": [
        "# Remove duplicates\n",
        "data = data.drop_duplicates(subset=None, keep='first', inplace=False, ignore_index=False)"
      ],
      "metadata": {
        "id": "aPBuXyiWpmzR"
      },
      "id": "aPBuXyiWpmzR",
      "execution_count": 560,
      "outputs": []
    },
    {
      "cell_type": "code",
      "source": [
        "data.info()"
      ],
      "metadata": {
        "colab": {
          "base_uri": "https://localhost:8080/"
        },
        "id": "FEEvvK6RqA0q",
        "outputId": "944b59c6-ca10-435b-dfd3-cf66af684a99"
      },
      "id": "FEEvvK6RqA0q",
      "execution_count": 561,
      "outputs": [
        {
          "output_type": "stream",
          "name": "stdout",
          "text": [
            "<class 'pandas.core.frame.DataFrame'>\n",
            "Int64Index: 92845 entries, 0 to 92871\n",
            "Data columns (total 13 columns):\n",
            " #   Column              Non-Null Count  Dtype  \n",
            "---  ------              --------------  -----  \n",
            " 0   EPS                 92840 non-null  float64\n",
            " 1   Liquidity           92598 non-null  float64\n",
            " 2   Profitability       92598 non-null  float64\n",
            " 3   Productivity        92598 non-null  float64\n",
            " 4   Leverage Ratio      92819 non-null  float64\n",
            " 5   Asset Turnover      92598 non-null  float64\n",
            " 6   Operational Margin  87288 non-null  float64\n",
            " 7   Return on Equity    92837 non-null  float64\n",
            " 8   Market Book Ratio   92788 non-null  float64\n",
            " 9   Assets Growth       86152 non-null  float64\n",
            " 10  Sales Growth        86152 non-null  float64\n",
            " 11  Employee Growth     85843 non-null  float64\n",
            " 12  BK                  92845 non-null  int64  \n",
            "dtypes: float64(12), int64(1)\n",
            "memory usage: 9.9 MB\n"
          ]
        }
      ]
    },
    {
      "cell_type": "code",
      "source": [
        "# Check for duplicates\n",
        "data.duplicated().sum()"
      ],
      "metadata": {
        "colab": {
          "base_uri": "https://localhost:8080/"
        },
        "id": "RBeysEh5qYM-",
        "outputId": "c1f5a35e-d84f-4b79-b94a-205a5ac58dd4"
      },
      "id": "RBeysEh5qYM-",
      "execution_count": 562,
      "outputs": [
        {
          "output_type": "execute_result",
          "data": {
            "text/plain": [
              "0"
            ]
          },
          "metadata": {},
          "execution_count": 562
        }
      ]
    },
    {
      "cell_type": "markdown",
      "source": [
        "**Comments**: All duplicated records are removed"
      ],
      "metadata": {
        "id": "CyN4tdCxqbOw"
      },
      "id": "CyN4tdCxqbOw"
    },
    {
      "cell_type": "code",
      "source": [
        "# check target balance - highly imbablanced data\n",
        "target = data['BK'].value_counts()\n",
        "\n",
        "print(data['BK'].value_counts())\n",
        "print(' '* 30)\n",
        "print('Financially stable: ', round(target[0]/len(data) * 100,2), '% of the dataset')\n",
        "print('Bankrupt:           ', round(target[1]/len(data) * 100,2), '% of the dataset')"
      ],
      "metadata": {
        "colab": {
          "base_uri": "https://localhost:8080/"
        },
        "id": "hkXcPajKqq9t",
        "outputId": "d656626a-fcfe-4fd4-b76d-5c628da4820a"
      },
      "id": "hkXcPajKqq9t",
      "execution_count": 563,
      "outputs": [
        {
          "output_type": "stream",
          "name": "stdout",
          "text": [
            "0    92287\n",
            "1      558\n",
            "Name: BK, dtype: int64\n",
            "                              \n",
            "Financially stable:  99.4 % of the dataset\n",
            "Bankrupt:            0.6 % of the dataset\n"
          ]
        }
      ]
    },
    {
      "cell_type": "code",
      "source": [
        "sns.set_theme(context = 'paper')\n",
        "\n",
        "# plt.figure(figsize = (10,5))\n",
        "sns.countplot(data.BK)\n",
        "plt.title('Class Distributions \\n (0: Financially Stable || 1: Bankrupt)', fontsize=14)\n",
        "plt.show()"
      ],
      "metadata": {
        "colab": {
          "base_uri": "https://localhost:8080/",
          "height": 368
        },
        "id": "44v26tHyr2SN",
        "outputId": "21892c02-4a75-430e-a7cb-2f1ccd7a362a"
      },
      "id": "44v26tHyr2SN",
      "execution_count": 564,
      "outputs": [
        {
          "output_type": "stream",
          "name": "stderr",
          "text": [
            "/usr/local/lib/python3.8/dist-packages/seaborn/_decorators.py:36: FutureWarning: Pass the following variable as a keyword arg: x. From version 0.12, the only valid positional argument will be `data`, and passing other arguments without an explicit keyword will result in an error or misinterpretation.\n",
            "  warnings.warn(\n"
          ]
        },
        {
          "output_type": "display_data",
          "data": {
            "text/plain": [
              "<Figure size 432x288 with 1 Axes>"
            ],
            "image/png": "[encoded data removed]"
          },
          "metadata": {}
        }
      ]
    },
    {
      "cell_type": "code",
      "source": [
        "data.hist(figsize = (25,10), bins = 100)\n",
        "plt.show()"
      ],
      "metadata": {
        "colab": {
          "base_uri": "https://localhost:8080/",
          "height": 606
        },
        "id": "pH3oLcytsqlY",
        "outputId": "eb1fa851-2179-4496-e51c-26530653f361"
      },
      "id": "pH3oLcytsqlY",
      "execution_count": 565,
      "outputs": [
        {
          "output_type": "display_data",
          "data": {
            "text/plain": [
              "<Figure size 1800x720 with 16 Axes>"
            ],
            "image/png": "[encoded data removed]"
          },
          "metadata": {}
        }
      ]
    },
    {
      "cell_type": "code",
      "metadata": {
        "colab": {
          "base_uri": "https://localhost:8080/",
          "height": 66,
          "referenced_widgets": [
            "b03f87d3eb7743689498065afb8cb161",
            "8a287e633f694720ad22159d539804a1",
            "ceb1d886dc5d4e99af1e5279b60f6568",
            "48f7570ec09341429d8df82dc73e3fd9",
            "24b983c5f9134cc49d353da09e585fe0",
            "cc80205ca5ec4ed18ab000d1471f95ba",
            "3ec5177b9a88414897351816f7d8f14b",
            "4ca715a8a51f41429bb7acac8da131b2",
            "550734bc7ae140d68bf4a706a3bc67ef",
            "4395991afd3a4fc4a140d7ea49347cb5",
            "c407289df1cd4cc79a6a6ca9c33159d6"
          ]
        },
        "id": "nSi4bdr6J2Ln",
        "outputId": "096eabdf-8530-4c60-b978-8ce4f5edaa02"
      },
      "source": [
        "import sweetviz as sv\n",
        "report = sv.analyze(data, target_feat='BK')\n",
        "\n",
        "#jupyter\n",
        "# report.show_html('bankrupt.html')\n",
        "\n",
        "#colab\n",
        "report.show_html('/content/drive/MyDrive/Data-Science/bankrupt_data_raw.html')"
      ],
      "id": "nSi4bdr6J2Ln",
      "execution_count": 566,
      "outputs": [
        {
          "output_type": "display_data",
          "data": {
            "text/plain": [
              "                                             |          | [  0%]   00:00 -> (? left)"
            ],
            "application/vnd.jupyter.widget-view+json": {
              "version_major": 2,
              "version_minor": 0,
              "model_id": "b03f87d3eb7743689498065afb8cb161"
            }
          },
          "metadata": {}
        },
        {
          "output_type": "stream",
          "name": "stdout",
          "text": [
            "Report /content/drive/MyDrive/Data-Science/bankrupt_data_raw.html was generated! NOTEBOOK/COLAB USERS: the web browser MAY not pop up, regardless, the report IS saved in your notebook/colab files.\n"
          ]
        }
      ]
    },
    {
      "cell_type": "code",
      "source": [
        "# Correlation Heatmap (Spearman)\n",
        "\n",
        "f, ax = plt.subplots(figsize=(10,8))\n",
        "mat = data.corr('spearman')\n",
        "mask = np.triu(np.ones_like(mat, dtype=bool))\n",
        "cmap = sns.diverging_palette(230, 20, as_cmap=True)\n",
        "sns.heatmap(mat, mask=mask, cmap=cmap, vmax=1, center=0,# annot = True,\n",
        "            square=True, linewidths=.5, cbar_kws={\"shrink\": .5})\n",
        "plt.show()"
      ],
      "metadata": {
        "colab": {
          "base_uri": "https://localhost:8080/",
          "height": 745
        },
        "id": "ZlhAhS60wQNS",
        "outputId": "b8cd8986-5606-441f-a793-b2db283e29f9"
      },
      "id": "ZlhAhS60wQNS",
      "execution_count": 567,
      "outputs": [
        {
          "output_type": "display_data",
          "data": {
            "text/plain": [
              "<Figure size 1000x800 with 2 Axes>"
            ],
            "image/png": "[encoded data removed]"
          },
          "metadata": {}
        }
      ]
    },
    {
      "cell_type": "markdown",
      "source": [
        "**Comments**\n",
        "correlation heatmap shows EPS is highly correlated with: [ROE, Op. Margin, Productivity, Profitability] (their formulas share the same variable)\n",
        "\n",
        "  *   EPS = (Net income - Preferred dividend) / common shares\n",
        "  *   ROE = Net income / shareholder's equity\n",
        "  *   Op. Margin = Operating income / Revenue"
      ],
      "metadata": {
        "id": "J04-bTLXxJZQ"
      },
      "id": "J04-bTLXxJZQ"
    },
    {
      "cell_type": "code",
      "source": [
        "# Plotting Boxplots of the numerical features\n",
        "\n",
        "plt.figure(figsize = (10,10))\n",
        "ax =sns.boxplot(data = data, orient=\"h\")\n",
        "ax.set_title('Bank Data Boxplots', fontsize = 18)\n",
        "ax.set(xscale=\"log\")\n",
        "plt.show()"
      ],
      "metadata": {
        "colab": {
          "base_uri": "https://localhost:8080/",
          "height": 842
        },
        "id": "gsbPretu1iNJ",
        "outputId": "bd2e5c6e-776f-4024-9ed4-f46a810a5d26"
      },
      "id": "gsbPretu1iNJ",
      "execution_count": 568,
      "outputs": [
        {
          "output_type": "display_data",
          "data": {
            "text/plain": [
              "<Figure size 1000x1000 with 1 Axes>"
            ],
            "image/png": "[encoded data removed]"
          },
          "metadata": {}
        }
      ]
    },
    {
      "cell_type": "code",
      "metadata": {
        "colab": {
          "base_uri": "https://localhost:8080/",
          "height": 143
        },
        "id": "67bb76dd",
        "outputId": "21ef196d-166a-4ba8-d764-fb2f522408d3"
      },
      "source": [
        "data.pivot_table(index='BK')"
      ],
      "id": "67bb76dd",
      "execution_count": 569,
      "outputs": [
        {
          "output_type": "execute_result",
          "data": {
            "text/plain": [
              "    Asset Turnover  Assets Growth         EPS  Employee Growth  \\\n",
              "BK                                                               \n",
              "0          1.05126       1.302652  -13.236567         0.341823   \n",
              "1          1.46649       0.020853 -219.338251         0.618409   \n",
              "\n",
              "    Leverage Ratio  Liquidity  Market Book Ratio  Operational Margin  \\\n",
              "BK                                                                     \n",
              "0         1.348358  -2.643312         360.368025           -7.947752   \n",
              "1         0.862939  -0.767256          60.481545           -3.146859   \n",
              "\n",
              "    Productivity  Profitability  Return on Equity  Sales Growth  \n",
              "BK                                                               \n",
              "0      -1.227019     -29.675381         -1.934606      1.903211  \n",
              "1      -0.602488      -8.193908        -31.832970      1.487656  "
            ],
            "text/html": [
              "\n",
              "  <div id=\"df-1e1f5c9a-6ff3-494a-8ab9-e9357fbc71e6\">\n",
              "    <div class=\"colab-df-container\">\n",
              "      <div>\n",
              "<style scoped>\n",
              "    .dataframe tbody tr th:only-of-type {\n",
              "        vertical-align: middle;\n",
              "    }\n",
              "\n",
              "    .dataframe tbody tr th {\n",
              "        vertical-align: top;\n",
              "    }\n",
              "\n",
              "    .dataframe thead th {\n",
              "        text-align: right;\n",
              "    }\n",
              "</style>\n",
              "<table border=\"1\" class=\"dataframe\">\n",
              "  <thead>\n",
              "    <tr style=\"text-align: right;\">\n",
              "      <th></th>\n",
              "      <th>Asset Turnover</th>\n",
              "      <th>Assets Growth</th>\n",
              "      <th>EPS</th>\n",
              "      <th>Employee Growth</th>\n",
              "      <th>Leverage Ratio</th>\n",
              "      <th>Liquidity</th>\n",
              "      <th>Market Book Ratio</th>\n",
              "      <th>Operational Margin</th>\n",
              "      <th>Productivity</th>\n",
              "      <th>Profitability</th>\n",
              "      <th>Return on Equity</th>\n",
              "      <th>Sales Growth</th>\n",
              "    </tr>\n",
              "    <tr>\n",
              "      <th>BK</th>\n",
              "      <th></th>\n",
              "      <th></th>\n",
              "      <th></th>\n",
              "      <th></th>\n",
              "      <th></th>\n",
              "      <th></th>\n",
              "      <th></th>\n",
              "      <th></th>\n",
              "      <th></th>\n",
              "      <th></th>\n",
              "      <th></th>\n",
              "      <th></th>\n",
              "    </tr>\n",
              "  </thead>\n",
              "  <tbody>\n",
              "    <tr>\n",
              "      <th>0</th>\n",
              "      <td>1.05126</td>\n",
              "      <td>1.302652</td>\n",
              "      <td>-13.236567</td>\n",
              "      <td>0.341823</td>\n",
              "      <td>1.348358</td>\n",
              "      <td>-2.643312</td>\n",
              "      <td>360.368025</td>\n",
              "      <td>-7.947752</td>\n",
              "      <td>-1.227019</td>\n",
              "      <td>-29.675381</td>\n",
              "      <td>-1.934606</td>\n",
              "      <td>1.903211</td>\n",
              "    </tr>\n",
              "    <tr>\n",
              "      <th>1</th>\n",
              "      <td>1.46649</td>\n",
              "      <td>0.020853</td>\n",
              "      <td>-219.338251</td>\n",
              "      <td>0.618409</td>\n",
              "      <td>0.862939</td>\n",
              "      <td>-0.767256</td>\n",
              "      <td>60.481545</td>\n",
              "      <td>-3.146859</td>\n",
              "      <td>-0.602488</td>\n",
              "      <td>-8.193908</td>\n",
              "      <td>-31.832970</td>\n",
              "      <td>1.487656</td>\n",
              "    </tr>\n",
              "  </tbody>\n",
              "</table>\n",
              "</div>\n",
              "      <button class=\"colab-df-convert\" onclick=\"convertToInteractive('df-1e1f5c9a-6ff3-494a-8ab9-e9357fbc71e6')\"\n",
              "              title=\"Convert this dataframe to an interactive table.\"\n",
              "              style=\"display:none;\">\n",
              "        \n",
              "  <svg xmlns=\"http://www.w3.org/2000/svg\" height=\"24px\"viewBox=\"0 0 24 24\"\n",
              "       width=\"24px\">\n",
              "    <path d=\"M0 0h24v24H0V0z\" fill=\"none\"/>\n",
              "    <path d=\"M18.56 5.44l.94 2.06.94-2.06 2.06-.94-2.06-.94-.94-2.06-.94 2.06-2.06.94zm-11 1L8.5 8.5l.94-2.06 2.06-.94-2.06-.94L8.5 2.5l-.94 2.06-2.06.94zm10 10l.94 2.06.94-2.06 2.06-.94-2.06-.94-.94-2.06-.94 2.06-2.06.94z\"/><path d=\"M17.41 7.96l-1.37-1.37c-.4-.4-.92-.59-1.43-.59-.52 0-1.04.2-1.43.59L10.3 9.45l-7.72 7.72c-.78.78-.78 2.05 0 2.83L4 21.41c.39.39.9.59 1.41.59.51 0 1.02-.2 1.41-.59l7.78-7.78 2.81-2.81c.8-.78.8-2.07 0-2.86zM5.41 20L4 18.59l7.72-7.72 1.47 1.35L5.41 20z\"/>\n",
              "  </svg>\n",
              "      </button>\n",
              "      \n",
              "  <style>\n",
              "    .colab-df-container {\n",
              "      display:flex;\n",
              "      flex-wrap:wrap;\n",
              "      gap: 12px;\n",
              "    }\n",
              "\n",
              "    .colab-df-convert {\n",
              "      background-color: #E8F0FE;\n",
              "      border: none;\n",
              "      border-radius: 50%;\n",
              "      cursor: pointer;\n",
              "      display: none;\n",
              "      fill: #1967D2;\n",
              "      height: 32px;\n",
              "      padding: 0 0 0 0;\n",
              "      width: 32px;\n",
              "    }\n",
              "\n",
              "    .colab-df-convert:hover {\n",
              "      background-color: #E2EBFA;\n",
              "      box-shadow: 0px 1px 2px rgba(60, 64, 67, 0.3), 0px 1px 3px 1px rgba(60, 64, 67, 0.15);\n",
              "      fill: #174EA6;\n",
              "    }\n",
              "\n",
              "    [theme=dark] .colab-df-convert {\n",
              "      background-color: #3B4455;\n",
              "      fill: #D2E3FC;\n",
              "    }\n",
              "\n",
              "    [theme=dark] .colab-df-convert:hover {\n",
              "      background-color: #434B5C;\n",
              "      box-shadow: 0px 1px 3px 1px rgba(0, 0, 0, 0.15);\n",
              "      filter: drop-shadow(0px 1px 2px rgba(0, 0, 0, 0.3));\n",
              "      fill: #FFFFFF;\n",
              "    }\n",
              "  </style>\n",
              "\n",
              "      <script>\n",
              "        const buttonEl =\n",
              "          document.querySelector('#df-1e1f5c9a-6ff3-494a-8ab9-e9357fbc71e6 button.colab-df-convert');\n",
              "        buttonEl.style.display =\n",
              "          google.colab.kernel.accessAllowed ? 'block' : 'none';\n",
              "\n",
              "        async function convertToInteractive(key) {\n",
              "          const element = document.querySelector('#df-1e1f5c9a-6ff3-494a-8ab9-e9357fbc71e6');\n",
              "          const dataTable =\n",
              "            await google.colab.kernel.invokeFunction('convertToInteractive',\n",
              "                                                     [key], {});\n",
              "          if (!dataTable) return;\n",
              "\n",
              "          const docLinkHtml = 'Like what you see? Visit the ' +\n",
              "            '<a target=\"_blank\" href=https://colab.research.google.com/notebooks/data_table.ipynb>data table notebook</a>'\n",
              "            + ' to learn more about interactive tables.';\n",
              "          element.innerHTML = '';\n",
              "          dataTable['output_type'] = 'display_data';\n",
              "          await google.colab.output.renderOutput(dataTable, element);\n",
              "          const docLink = document.createElement('div');\n",
              "          docLink.innerHTML = docLinkHtml;\n",
              "          element.appendChild(docLink);\n",
              "        }\n",
              "      </script>\n",
              "    </div>\n",
              "  </div>\n",
              "  "
            ]
          },
          "metadata": {},
          "execution_count": 569
        }
      ]
    },
    {
      "cell_type": "markdown",
      "metadata": {
        "id": "cf4c95a2"
      },
      "source": [
        "# Train Test Data Split\n",
        "\n",
        "Data is split into training and testing sets before any pre-processing steps, data preprocessing pipeline is only exposed to training data set. \n",
        "\n"
      ],
      "id": "cf4c95a2"
    },
    {
      "cell_type": "code",
      "metadata": {
        "id": "307b4bc2"
      },
      "source": [
        "X = data.drop(['BK'], axis=1)\n",
        "y = data['BK']"
      ],
      "id": "307b4bc2",
      "execution_count": 570,
      "outputs": []
    },
    {
      "cell_type": "code",
      "metadata": {
        "colab": {
          "base_uri": "https://localhost:8080/",
          "height": 206
        },
        "id": "b814a927",
        "outputId": "e97c2b5c-94c4-48c2-8543-8736cdf51b64"
      },
      "source": [
        "# check X variable\n",
        "X.head()"
      ],
      "id": "b814a927",
      "execution_count": 571,
      "outputs": [
        {
          "output_type": "execute_result",
          "data": {
            "text/plain": [
              "    EPS  Liquidity  Profitability  Productivity  Leverage Ratio  \\\n",
              "0  1.58       0.36           0.18          0.13            1.33   \n",
              "1  1.41       0.36           0.19          0.12            1.31   \n",
              "2  0.31       0.32           0.13          0.08            1.03   \n",
              "3  0.71       0.28           0.14          0.08            0.80   \n",
              "4  0.75       0.41           0.13          0.08            0.20   \n",
              "\n",
              "   Asset Turnover  Operational Margin  Return on Equity  Market Book Ratio  \\\n",
              "0            1.77                0.07              0.15               2.22   \n",
              "1            1.59                0.07              0.13               2.41   \n",
              "2            1.55                0.05              0.04               2.56   \n",
              "3            1.39                0.06              0.05               5.28   \n",
              "4            1.30                0.06              0.04               8.68   \n",
              "\n",
              "   Assets Growth  Sales Growth  Employee Growth  \n",
              "0            NaN           NaN              NaN  \n",
              "1       0.126319      0.014278         0.040179  \n",
              "2       0.368077      0.327909         0.566524  \n",
              "3      -0.020809     -0.118904        -0.095890  \n",
              "4       0.233089      0.146807         0.053030  "
            ],
            "text/html": [
              "\n",
              "  <div id=\"df-815784e7-76bf-4c14-a279-304c976ffa59\">\n",
              "    <div class=\"colab-df-container\">\n",
              "      <div>\n",
              "<style scoped>\n",
              "    .dataframe tbody tr th:only-of-type {\n",
              "        vertical-align: middle;\n",
              "    }\n",
              "\n",
              "    .dataframe tbody tr th {\n",
              "        vertical-align: top;\n",
              "    }\n",
              "\n",
              "    .dataframe thead th {\n",
              "        text-align: right;\n",
              "    }\n",
              "</style>\n",
              "<table border=\"1\" class=\"dataframe\">\n",
              "  <thead>\n",
              "    <tr style=\"text-align: right;\">\n",
              "      <th></th>\n",
              "      <th>EPS</th>\n",
              "      <th>Liquidity</th>\n",
              "      <th>Profitability</th>\n",
              "      <th>Productivity</th>\n",
              "      <th>Leverage Ratio</th>\n",
              "      <th>Asset Turnover</th>\n",
              "      <th>Operational Margin</th>\n",
              "      <th>Return on Equity</th>\n",
              "      <th>Market Book Ratio</th>\n",
              "      <th>Assets Growth</th>\n",
              "      <th>Sales Growth</th>\n",
              "      <th>Employee Growth</th>\n",
              "    </tr>\n",
              "  </thead>\n",
              "  <tbody>\n",
              "    <tr>\n",
              "      <th>0</th>\n",
              "      <td>1.58</td>\n",
              "      <td>0.36</td>\n",
              "      <td>0.18</td>\n",
              "      <td>0.13</td>\n",
              "      <td>1.33</td>\n",
              "      <td>1.77</td>\n",
              "      <td>0.07</td>\n",
              "      <td>0.15</td>\n",
              "      <td>2.22</td>\n",
              "      <td>NaN</td>\n",
              "      <td>NaN</td>\n",
              "      <td>NaN</td>\n",
              "    </tr>\n",
              "    <tr>\n",
              "      <th>1</th>\n",
              "      <td>1.41</td>\n",
              "      <td>0.36</td>\n",
              "      <td>0.19</td>\n",
              "      <td>0.12</td>\n",
              "      <td>1.31</td>\n",
              "      <td>1.59</td>\n",
              "      <td>0.07</td>\n",
              "      <td>0.13</td>\n",
              "      <td>2.41</td>\n",
              "      <td>0.126319</td>\n",
              "      <td>0.014278</td>\n",
              "      <td>0.040179</td>\n",
              "    </tr>\n",
              "    <tr>\n",
              "      <th>2</th>\n",
              "      <td>0.31</td>\n",
              "      <td>0.32</td>\n",
              "      <td>0.13</td>\n",
              "      <td>0.08</td>\n",
              "      <td>1.03</td>\n",
              "      <td>1.55</td>\n",
              "      <td>0.05</td>\n",
              "      <td>0.04</td>\n",
              "      <td>2.56</td>\n",
              "      <td>0.368077</td>\n",
              "      <td>0.327909</td>\n",
              "      <td>0.566524</td>\n",
              "    </tr>\n",
              "    <tr>\n",
              "      <th>3</th>\n",
              "      <td>0.71</td>\n",
              "      <td>0.28</td>\n",
              "      <td>0.14</td>\n",
              "      <td>0.08</td>\n",
              "      <td>0.80</td>\n",
              "      <td>1.39</td>\n",
              "      <td>0.06</td>\n",
              "      <td>0.05</td>\n",
              "      <td>5.28</td>\n",
              "      <td>-0.020809</td>\n",
              "      <td>-0.118904</td>\n",
              "      <td>-0.095890</td>\n",
              "    </tr>\n",
              "    <tr>\n",
              "      <th>4</th>\n",
              "      <td>0.75</td>\n",
              "      <td>0.41</td>\n",
              "      <td>0.13</td>\n",
              "      <td>0.08</td>\n",
              "      <td>0.20</td>\n",
              "      <td>1.30</td>\n",
              "      <td>0.06</td>\n",
              "      <td>0.04</td>\n",
              "      <td>8.68</td>\n",
              "      <td>0.233089</td>\n",
              "      <td>0.146807</td>\n",
              "      <td>0.053030</td>\n",
              "    </tr>\n",
              "  </tbody>\n",
              "</table>\n",
              "</div>\n",
              "      <button class=\"colab-df-convert\" onclick=\"convertToInteractive('df-815784e7-76bf-4c14-a279-304c976ffa59')\"\n",
              "              title=\"Convert this dataframe to an interactive table.\"\n",
              "              style=\"display:none;\">\n",
              "        \n",
              "  <svg xmlns=\"http://www.w3.org/2000/svg\" height=\"24px\"viewBox=\"0 0 24 24\"\n",
              "       width=\"24px\">\n",
              "    <path d=\"M0 0h24v24H0V0z\" fill=\"none\"/>\n",
              "    <path d=\"M18.56 5.44l.94 2.06.94-2.06 2.06-.94-2.06-.94-.94-2.06-.94 2.06-2.06.94zm-11 1L8.5 8.5l.94-2.06 2.06-.94-2.06-.94L8.5 2.5l-.94 2.06-2.06.94zm10 10l.94 2.06.94-2.06 2.06-.94-2.06-.94-.94-2.06-.94 2.06-2.06.94z\"/><path d=\"M17.41 7.96l-1.37-1.37c-.4-.4-.92-.59-1.43-.59-.52 0-1.04.2-1.43.59L10.3 9.45l-7.72 7.72c-.78.78-.78 2.05 0 2.83L4 21.41c.39.39.9.59 1.41.59.51 0 1.02-.2 1.41-.59l7.78-7.78 2.81-2.81c.8-.78.8-2.07 0-2.86zM5.41 20L4 18.59l7.72-7.72 1.47 1.35L5.41 20z\"/>\n",
              "  </svg>\n",
              "      </button>\n",
              "      \n",
              "  <style>\n",
              "    .colab-df-container {\n",
              "      display:flex;\n",
              "      flex-wrap:wrap;\n",
              "      gap: 12px;\n",
              "    }\n",
              "\n",
              "    .colab-df-convert {\n",
              "      background-color: #E8F0FE;\n",
              "      border: none;\n",
              "      border-radius: 50%;\n",
              "      cursor: pointer;\n",
              "      display: none;\n",
              "      fill: #1967D2;\n",
              "      height: 32px;\n",
              "      padding: 0 0 0 0;\n",
              "      width: 32px;\n",
              "    }\n",
              "\n",
              "    .colab-df-convert:hover {\n",
              "      background-color: #E2EBFA;\n",
              "      box-shadow: 0px 1px 2px rgba(60, 64, 67, 0.3), 0px 1px 3px 1px rgba(60, 64, 67, 0.15);\n",
              "      fill: #174EA6;\n",
              "    }\n",
              "\n",
              "    [theme=dark] .colab-df-convert {\n",
              "      background-color: #3B4455;\n",
              "      fill: #D2E3FC;\n",
              "    }\n",
              "\n",
              "    [theme=dark] .colab-df-convert:hover {\n",
              "      background-color: #434B5C;\n",
              "      box-shadow: 0px 1px 3px 1px rgba(0, 0, 0, 0.15);\n",
              "      filter: drop-shadow(0px 1px 2px rgba(0, 0, 0, 0.3));\n",
              "      fill: #FFFFFF;\n",
              "    }\n",
              "  </style>\n",
              "\n",
              "      <script>\n",
              "        const buttonEl =\n",
              "          document.querySelector('#df-815784e7-76bf-4c14-a279-304c976ffa59 button.colab-df-convert');\n",
              "        buttonEl.style.display =\n",
              "          google.colab.kernel.accessAllowed ? 'block' : 'none';\n",
              "\n",
              "        async function convertToInteractive(key) {\n",
              "          const element = document.querySelector('#df-815784e7-76bf-4c14-a279-304c976ffa59');\n",
              "          const dataTable =\n",
              "            await google.colab.kernel.invokeFunction('convertToInteractive',\n",
              "                                                     [key], {});\n",
              "          if (!dataTable) return;\n",
              "\n",
              "          const docLinkHtml = 'Like what you see? Visit the ' +\n",
              "            '<a target=\"_blank\" href=https://colab.research.google.com/notebooks/data_table.ipynb>data table notebook</a>'\n",
              "            + ' to learn more about interactive tables.';\n",
              "          element.innerHTML = '';\n",
              "          dataTable['output_type'] = 'display_data';\n",
              "          await google.colab.output.renderOutput(dataTable, element);\n",
              "          const docLink = document.createElement('div');\n",
              "          docLink.innerHTML = docLinkHtml;\n",
              "          element.appendChild(docLink);\n",
              "        }\n",
              "      </script>\n",
              "    </div>\n",
              "  </div>\n",
              "  "
            ]
          },
          "metadata": {},
          "execution_count": 571
        }
      ]
    },
    {
      "cell_type": "code",
      "metadata": {
        "colab": {
          "base_uri": "https://localhost:8080/"
        },
        "id": "1f66b588",
        "outputId": "52174af8-09c5-464a-b484-d284410fb806"
      },
      "source": [
        "# check y variable\n",
        "y.head()"
      ],
      "id": "1f66b588",
      "execution_count": 572,
      "outputs": [
        {
          "output_type": "execute_result",
          "data": {
            "text/plain": [
              "0    0\n",
              "1    0\n",
              "2    0\n",
              "3    0\n",
              "4    0\n",
              "Name: BK, dtype: int64"
            ]
          },
          "metadata": {},
          "execution_count": 572
        }
      ]
    },
    {
      "cell_type": "code",
      "metadata": {
        "id": "450652b3",
        "colab": {
          "base_uri": "https://localhost:8080/"
        },
        "outputId": "735fb15e-8118-47d4-bf54-22e5acdb3a26"
      },
      "source": [
        "from sklearn.model_selection import train_test_split\n",
        "X_train, X_test, y_train, y_test = train_test_split(X, y, test_size=0.3, random_state=123)\n",
        "X_train.shape, y_train.shape, X_test.shape, y_test.shape"
      ],
      "id": "450652b3",
      "execution_count": 573,
      "outputs": [
        {
          "output_type": "execute_result",
          "data": {
            "text/plain": [
              "((64991, 12), (64991,), (27854, 12), (27854,))"
            ]
          },
          "metadata": {},
          "execution_count": 573
        }
      ]
    },
    {
      "cell_type": "code",
      "metadata": {
        "colab": {
          "base_uri": "https://localhost:8080/"
        },
        "id": "b7f1264c",
        "outputId": "c9893c67-ba56-4e86-b848-3308bc0dc670"
      },
      "source": [
        "y_train.value_counts()"
      ],
      "id": "b7f1264c",
      "execution_count": 574,
      "outputs": [
        {
          "output_type": "execute_result",
          "data": {
            "text/plain": [
              "0    64595\n",
              "1      396\n",
              "Name: BK, dtype: int64"
            ]
          },
          "metadata": {},
          "execution_count": 574
        }
      ]
    },
    {
      "cell_type": "code",
      "metadata": {
        "colab": {
          "base_uri": "https://localhost:8080/"
        },
        "id": "87f8ad5c",
        "outputId": "09c052e1-7df1-456f-dae1-5a8ca2670ee4"
      },
      "source": [
        "y_test.value_counts()"
      ],
      "id": "87f8ad5c",
      "execution_count": 575,
      "outputs": [
        {
          "output_type": "execute_result",
          "data": {
            "text/plain": [
              "0    27692\n",
              "1      162\n",
              "Name: BK, dtype: int64"
            ]
          },
          "metadata": {},
          "execution_count": 575
        }
      ]
    },
    {
      "cell_type": "markdown",
      "metadata": {
        "id": "b90d8b14"
      },
      "source": [
        "# Building data_pipeline for preprocessing\n",
        "\n",
        "The following data transformation are required as identified in the EDA section above: \n",
        "1.   Remove outlier - cap the values within (0.5 - 0.95) quartile \n",
        "2.   Address missing values - missing value % are low, replace missing value with mean\n",
        "3.   Scale all numeric data - explore different scaling methods\n",
        "\n",
        "\n"
      ],
      "id": "b90d8b14"
    },
    {
      "cell_type": "code",
      "metadata": {
        "id": "p7f4m3XVEF6t"
      },
      "source": [
        "# Making a customized column transformer to handle outliers\n",
        "\n",
        "# https://nbviewer.jupyter.org/github/queirozfcom/python-sandbox/blob/master/python3/notebooks/pipelines-custom-steps/main.ipynb\n",
        "# https://www.section.io/engineering-education/custom-transformer/\n",
        "\n",
        "class CustomTransformer():\n",
        "    def __init__(self, func):\n",
        "        self.func = func\n",
        "\n",
        "    def transform(self, input_df, **transform_params):\n",
        "        return self.func(input_df)\n",
        "\n",
        "    def fit(self, X, y=None, **fit_params):\n",
        "        return self"
      ],
      "id": "p7f4m3XVEF6t",
      "execution_count": 576,
      "outputs": []
    },
    {
      "cell_type": "code",
      "metadata": {
        "id": "q-8EpTA4FFh2"
      },
      "source": [
        "# Function to Address Outliters \n",
        "def cap_data(df):\n",
        "    for col in df.iloc[:,0:12]:\n",
        "        print(\"capping the \",col)\n",
        "        if (((df[col].dtype)=='float64') | ((df[col].dtype)=='int64')):\n",
        "            percentiles = df[col].quantile([0.05,0.95]).values\n",
        "            df[col][df[col] <= percentiles[0]] = percentiles[0]\n",
        "            df[col][df[col] >= percentiles[1]] = percentiles[1]\n",
        "        else:\n",
        "            df[col]=df[col]\n",
        "    return df"
      ],
      "id": "q-8EpTA4FFh2",
      "execution_count": 577,
      "outputs": []
    },
    {
      "cell_type": "code",
      "metadata": {
        "colab": {
          "base_uri": "https://localhost:8080/"
        },
        "id": "d5ae1609",
        "outputId": "e22797d6-a46b-4cdf-d3b9-fe42081a99a2"
      },
      "source": [
        "# numeric features\n",
        "numeric_features = X_train.select_dtypes(include='number').columns.tolist()\n",
        "print(numeric_features)"
      ],
      "id": "d5ae1609",
      "execution_count": 578,
      "outputs": [
        {
          "output_type": "stream",
          "name": "stdout",
          "text": [
            "['EPS', 'Liquidity', 'Profitability', 'Productivity', 'Leverage Ratio', 'Asset Turnover', 'Operational Margin', 'Return on Equity', 'Market Book Ratio', 'Assets Growth', 'Sales Growth', 'Employee Growth']\n"
          ]
        }
      ]
    },
    {
      "cell_type": "code",
      "metadata": {
        "id": "abdd143f"
      },
      "source": [
        "# build pipeline for numeric features\n",
        "numeric_pipeline = Pipeline(steps=[\n",
        "    ('remove_outlier', CustomTransformer(cap_data)),\n",
        "    ('impute', SimpleImputer(strategy='mean')),\n",
        "    ('scale', QuantileTransformer(random_state=0))\n",
        "])\n",
        "\n",
        "\n",
        "    # ('scale', MinMaxScaler())                           #LG Baseline AUC 0.8645154013371067\n",
        "    # ('scale', QuantileTransformer(random_state=0))      #LG Baseline AUC 0.8665507977523481\n",
        "    # ('scale', StandardScaler())                         #LG Baseline AUC 0.8655610748212702"
      ],
      "id": "abdd143f",
      "execution_count": 579,
      "outputs": []
    },
    {
      "cell_type": "code",
      "metadata": {
        "id": "ccc83fe0"
      },
      "source": [
        "# https://scikit-learn.org/stable/modules/generated/sklearn.compose.ColumnTransformer.html\n",
        "\n",
        "from sklearn.compose import ColumnTransformer\n",
        "data_pipeline = ColumnTransformer(transformers=[  ('numeric', numeric_pipeline, numeric_features) ])"
      ],
      "id": "ccc83fe0",
      "execution_count": 580,
      "outputs": []
    },
    {
      "cell_type": "code",
      "metadata": {
        "colab": {
          "base_uri": "https://localhost:8080/"
        },
        "id": "cqTQtFNmKwSW",
        "outputId": "db995950-450c-4396-e53c-ba1ee94ab1db"
      },
      "source": [
        "# fit entire data pipeline\n",
        "data_pipeline.fit_transform(X_train)"
      ],
      "id": "cqTQtFNmKwSW",
      "execution_count": 581,
      "outputs": [
        {
          "output_type": "stream",
          "name": "stdout",
          "text": [
            "capping the  EPS\n",
            "capping the  Liquidity\n",
            "capping the  Profitability\n",
            "capping the  Productivity\n",
            "capping the  Leverage Ratio\n",
            "capping the  Asset Turnover\n",
            "capping the  Operational Margin\n",
            "capping the  Return on Equity\n",
            "capping the  Market Book Ratio\n",
            "capping the  Assets Growth\n",
            "capping the  Sales Growth\n",
            "capping the  Employee Growth\n"
          ]
        },
        {
          "output_type": "execute_result",
          "data": {
            "text/plain": [
              "array([[0.28528529, 0.35985986, 0.29179179, ..., 0.35812946, 0.27851238,\n",
              "        0.71411226],\n",
              "       [0.86086086, 0.27977978, 1.        , ..., 0.24160966, 0.23611023,\n",
              "        0.19652997],\n",
              "       [0.32932933, 0.05905906, 0.0953954 , ..., 0.92846425, 0.31181181,\n",
              "        0.        ],\n",
              "       ...,\n",
              "       [0.48848849, 0.32782783, 0.56506507, ..., 0.91417543, 0.64208049,\n",
              "        0.94474756],\n",
              "       [0.57307307, 0.74474474, 0.69019019, ..., 0.90223074, 0.92029105,\n",
              "        0.92942998],\n",
              "       [1.        , 0.27977978, 0.49049049, ..., 0.85372195, 0.36097872,\n",
              "        0.76176176]])"
            ]
          },
          "metadata": {},
          "execution_count": 581
        }
      ]
    },
    {
      "cell_type": "code",
      "metadata": {
        "id": "QBB1IfUpLGNk",
        "colab": {
          "base_uri": "https://localhost:8080/"
        },
        "outputId": "d885e86c-3117-444c-fde4-6fd89e38aaf9"
      },
      "source": [
        "# we can now use data_pipeline to transform X_train and X_test\n",
        "X_train_transformed = data_pipeline.transform(X_train)\n",
        "X_test_transformed = data_pipeline.transform(X_test)"
      ],
      "id": "QBB1IfUpLGNk",
      "execution_count": 582,
      "outputs": [
        {
          "output_type": "stream",
          "name": "stdout",
          "text": [
            "capping the  EPS\n",
            "capping the  Liquidity\n",
            "capping the  Profitability\n",
            "capping the  Productivity\n",
            "capping the  Leverage Ratio\n",
            "capping the  Asset Turnover\n",
            "capping the  Operational Margin\n",
            "capping the  Return on Equity\n",
            "capping the  Market Book Ratio\n",
            "capping the  Assets Growth\n",
            "capping the  Sales Growth\n",
            "capping the  Employee Growth\n",
            "capping the  EPS\n",
            "capping the  Liquidity\n",
            "capping the  Profitability\n",
            "capping the  Productivity\n",
            "capping the  Leverage Ratio\n",
            "capping the  Asset Turnover\n",
            "capping the  Operational Margin\n",
            "capping the  Return on Equity\n",
            "capping the  Market Book Ratio\n",
            "capping the  Assets Growth\n",
            "capping the  Sales Growth\n",
            "capping the  Employee Growth\n"
          ]
        }
      ]
    },
    {
      "cell_type": "code",
      "metadata": {
        "id": "jgmr93_wNOq8"
      },
      "source": [
        "col_names = X_train.columns.to_list()\n",
        "X_train_processed = pd.DataFrame(X_train_transformed, columns=col_names)\n",
        "data_transformed = pd.merge(X_train_processed, y_train, left_index=True, right_index=True)"
      ],
      "id": "jgmr93_wNOq8",
      "execution_count": 583,
      "outputs": []
    },
    {
      "cell_type": "code",
      "metadata": {
        "colab": {
          "base_uri": "https://localhost:8080/",
          "height": 457
        },
        "id": "gceB1mBkG70Y",
        "outputId": "fa1c9488-472f-4d07-d378-2e1e5baf152a"
      },
      "source": [
        "# summary statistics - make sure outliter is fixed\n",
        "data_transformed.describe().transpose()"
      ],
      "id": "gceB1mBkG70Y",
      "execution_count": 584,
      "outputs": [
        {
          "output_type": "execute_result",
          "data": {
            "text/plain": [
              "                      count      mean       std  min       25%       50%  \\\n",
              "EPS                 45460.0  0.500078  0.292709  0.0  0.251070  0.501502   \n",
              "Liquidity           45460.0  0.499752  0.292723  0.0  0.244745  0.505506   \n",
              "Profitability       45460.0  0.499556  0.292793  0.0  0.249150  0.500501   \n",
              "Productivity        45460.0  0.500616  0.292844  0.0  0.253253  0.512513   \n",
              "Leverage Ratio      45460.0  0.500786  0.292281  0.0  0.174675  0.499499   \n",
              "Asset Turnover      45460.0  0.501463  0.293892  0.0  0.255255  0.504505   \n",
              "Operational Margin  45460.0  0.499712  0.291847  0.0  0.251752  0.516016   \n",
              "Return on Equity    45460.0  0.500077  0.293119  0.0  0.250751  0.497998   \n",
              "Market Book Ratio   45460.0  0.500099  0.293388  0.0  0.249054  0.500758   \n",
              "Assets Growth       45460.0  0.500343  0.292217  0.0  0.250299  0.500290   \n",
              "Sales Growth        45460.0  0.501240  0.292552  0.0  0.250070  0.501927   \n",
              "Employee Growth     45460.0  0.501517  0.291964  0.0  0.251711  0.502169   \n",
              "BK                  45460.0  0.000000  0.000000  0.0  0.000000  0.000000   \n",
              "\n",
              "                         75%  max  \n",
              "EPS                 0.749750  1.0  \n",
              "Liquidity           0.744745  1.0  \n",
              "Profitability       0.748749  1.0  \n",
              "Productivity        0.736236  1.0  \n",
              "Leverage Ratio      0.751251  1.0  \n",
              "Asset Turnover      0.751752  1.0  \n",
              "Operational Margin  0.748749  1.0  \n",
              "Return on Equity    0.767768  1.0  \n",
              "Market Book Ratio   0.750515  1.0  \n",
              "Assets Growth       0.750025  1.0  \n",
              "Sales Growth        0.751759  1.0  \n",
              "Employee Growth     0.751676  1.0  \n",
              "BK                  0.000000  0.0  "
            ],
            "text/html": [
              "\n",
              "  <div id=\"df-468099d4-bc42-4ef6-aff1-d7da4751fa2d\">\n",
              "    <div class=\"colab-df-container\">\n",
              "      <div>\n",
              "<style scoped>\n",
              "    .dataframe tbody tr th:only-of-type {\n",
              "        vertical-align: middle;\n",
              "    }\n",
              "\n",
              "    .dataframe tbody tr th {\n",
              "        vertical-align: top;\n",
              "    }\n",
              "\n",
              "    .dataframe thead th {\n",
              "        text-align: right;\n",
              "    }\n",
              "</style>\n",
              "<table border=\"1\" class=\"dataframe\">\n",
              "  <thead>\n",
              "    <tr style=\"text-align: right;\">\n",
              "      <th></th>\n",
              "      <th>count</th>\n",
              "      <th>mean</th>\n",
              "      <th>std</th>\n",
              "      <th>min</th>\n",
              "      <th>25%</th>\n",
              "      <th>50%</th>\n",
              "      <th>75%</th>\n",
              "      <th>max</th>\n",
              "    </tr>\n",
              "  </thead>\n",
              "  <tbody>\n",
              "    <tr>\n",
              "      <th>EPS</th>\n",
              "      <td>45460.0</td>\n",
              "      <td>0.500078</td>\n",
              "      <td>0.292709</td>\n",
              "      <td>0.0</td>\n",
              "      <td>0.251070</td>\n",
              "      <td>0.501502</td>\n",
              "      <td>0.749750</td>\n",
              "      <td>1.0</td>\n",
              "    </tr>\n",
              "    <tr>\n",
              "      <th>Liquidity</th>\n",
              "      <td>45460.0</td>\n",
              "      <td>0.499752</td>\n",
              "      <td>0.292723</td>\n",
              "      <td>0.0</td>\n",
              "      <td>0.244745</td>\n",
              "      <td>0.505506</td>\n",
              "      <td>0.744745</td>\n",
              "      <td>1.0</td>\n",
              "    </tr>\n",
              "    <tr>\n",
              "      <th>Profitability</th>\n",
              "      <td>45460.0</td>\n",
              "      <td>0.499556</td>\n",
              "      <td>0.292793</td>\n",
              "      <td>0.0</td>\n",
              "      <td>0.249150</td>\n",
              "      <td>0.500501</td>\n",
              "      <td>0.748749</td>\n",
              "      <td>1.0</td>\n",
              "    </tr>\n",
              "    <tr>\n",
              "      <th>Productivity</th>\n",
              "      <td>45460.0</td>\n",
              "      <td>0.500616</td>\n",
              "      <td>0.292844</td>\n",
              "      <td>0.0</td>\n",
              "      <td>0.253253</td>\n",
              "      <td>0.512513</td>\n",
              "      <td>0.736236</td>\n",
              "      <td>1.0</td>\n",
              "    </tr>\n",
              "    <tr>\n",
              "      <th>Leverage Ratio</th>\n",
              "      <td>45460.0</td>\n",
              "      <td>0.500786</td>\n",
              "      <td>0.292281</td>\n",
              "      <td>0.0</td>\n",
              "      <td>0.174675</td>\n",
              "      <td>0.499499</td>\n",
              "      <td>0.751251</td>\n",
              "      <td>1.0</td>\n",
              "    </tr>\n",
              "    <tr>\n",
              "      <th>Asset Turnover</th>\n",
              "      <td>45460.0</td>\n",
              "      <td>0.501463</td>\n",
              "      <td>0.293892</td>\n",
              "      <td>0.0</td>\n",
              "      <td>0.255255</td>\n",
              "      <td>0.504505</td>\n",
              "      <td>0.751752</td>\n",
              "      <td>1.0</td>\n",
              "    </tr>\n",
              "    <tr>\n",
              "      <th>Operational Margin</th>\n",
              "      <td>45460.0</td>\n",
              "      <td>0.499712</td>\n",
              "      <td>0.291847</td>\n",
              "      <td>0.0</td>\n",
              "      <td>0.251752</td>\n",
              "      <td>0.516016</td>\n",
              "      <td>0.748749</td>\n",
              "      <td>1.0</td>\n",
              "    </tr>\n",
              "    <tr>\n",
              "      <th>Return on Equity</th>\n",
              "      <td>45460.0</td>\n",
              "      <td>0.500077</td>\n",
              "      <td>0.293119</td>\n",
              "      <td>0.0</td>\n",
              "      <td>0.250751</td>\n",
              "      <td>0.497998</td>\n",
              "      <td>0.767768</td>\n",
              "      <td>1.0</td>\n",
              "    </tr>\n",
              "    <tr>\n",
              "      <th>Market Book Ratio</th>\n",
              "      <td>45460.0</td>\n",
              "      <td>0.500099</td>\n",
              "      <td>0.293388</td>\n",
              "      <td>0.0</td>\n",
              "      <td>0.249054</td>\n",
              "      <td>0.500758</td>\n",
              "      <td>0.750515</td>\n",
              "      <td>1.0</td>\n",
              "    </tr>\n",
              "    <tr>\n",
              "      <th>Assets Growth</th>\n",
              "      <td>45460.0</td>\n",
              "      <td>0.500343</td>\n",
              "      <td>0.292217</td>\n",
              "      <td>0.0</td>\n",
              "      <td>0.250299</td>\n",
              "      <td>0.500290</td>\n",
              "      <td>0.750025</td>\n",
              "      <td>1.0</td>\n",
              "    </tr>\n",
              "    <tr>\n",
              "      <th>Sales Growth</th>\n",
              "      <td>45460.0</td>\n",
              "      <td>0.501240</td>\n",
              "      <td>0.292552</td>\n",
              "      <td>0.0</td>\n",
              "      <td>0.250070</td>\n",
              "      <td>0.501927</td>\n",
              "      <td>0.751759</td>\n",
              "      <td>1.0</td>\n",
              "    </tr>\n",
              "    <tr>\n",
              "      <th>Employee Growth</th>\n",
              "      <td>45460.0</td>\n",
              "      <td>0.501517</td>\n",
              "      <td>0.291964</td>\n",
              "      <td>0.0</td>\n",
              "      <td>0.251711</td>\n",
              "      <td>0.502169</td>\n",
              "      <td>0.751676</td>\n",
              "      <td>1.0</td>\n",
              "    </tr>\n",
              "    <tr>\n",
              "      <th>BK</th>\n",
              "      <td>45460.0</td>\n",
              "      <td>0.000000</td>\n",
              "      <td>0.000000</td>\n",
              "      <td>0.0</td>\n",
              "      <td>0.000000</td>\n",
              "      <td>0.000000</td>\n",
              "      <td>0.000000</td>\n",
              "      <td>0.0</td>\n",
              "    </tr>\n",
              "  </tbody>\n",
              "</table>\n",
              "</div>\n",
              "      <button class=\"colab-df-convert\" onclick=\"convertToInteractive('df-468099d4-bc42-4ef6-aff1-d7da4751fa2d')\"\n",
              "              title=\"Convert this dataframe to an interactive table.\"\n",
              "              style=\"display:none;\">\n",
              "        \n",
              "  <svg xmlns=\"http://www.w3.org/2000/svg\" height=\"24px\"viewBox=\"0 0 24 24\"\n",
              "       width=\"24px\">\n",
              "    <path d=\"M0 0h24v24H0V0z\" fill=\"none\"/>\n",
              "    <path d=\"M18.56 5.44l.94 2.06.94-2.06 2.06-.94-2.06-.94-.94-2.06-.94 2.06-2.06.94zm-11 1L8.5 8.5l.94-2.06 2.06-.94-2.06-.94L8.5 2.5l-.94 2.06-2.06.94zm10 10l.94 2.06.94-2.06 2.06-.94-2.06-.94-.94-2.06-.94 2.06-2.06.94z\"/><path d=\"M17.41 7.96l-1.37-1.37c-.4-.4-.92-.59-1.43-.59-.52 0-1.04.2-1.43.59L10.3 9.45l-7.72 7.72c-.78.78-.78 2.05 0 2.83L4 21.41c.39.39.9.59 1.41.59.51 0 1.02-.2 1.41-.59l7.78-7.78 2.81-2.81c.8-.78.8-2.07 0-2.86zM5.41 20L4 18.59l7.72-7.72 1.47 1.35L5.41 20z\"/>\n",
              "  </svg>\n",
              "      </button>\n",
              "      \n",
              "  <style>\n",
              "    .colab-df-container {\n",
              "      display:flex;\n",
              "      flex-wrap:wrap;\n",
              "      gap: 12px;\n",
              "    }\n",
              "\n",
              "    .colab-df-convert {\n",
              "      background-color: #E8F0FE;\n",
              "      border: none;\n",
              "      border-radius: 50%;\n",
              "      cursor: pointer;\n",
              "      display: none;\n",
              "      fill: #1967D2;\n",
              "      height: 32px;\n",
              "      padding: 0 0 0 0;\n",
              "      width: 32px;\n",
              "    }\n",
              "\n",
              "    .colab-df-convert:hover {\n",
              "      background-color: #E2EBFA;\n",
              "      box-shadow: 0px 1px 2px rgba(60, 64, 67, 0.3), 0px 1px 3px 1px rgba(60, 64, 67, 0.15);\n",
              "      fill: #174EA6;\n",
              "    }\n",
              "\n",
              "    [theme=dark] .colab-df-convert {\n",
              "      background-color: #3B4455;\n",
              "      fill: #D2E3FC;\n",
              "    }\n",
              "\n",
              "    [theme=dark] .colab-df-convert:hover {\n",
              "      background-color: #434B5C;\n",
              "      box-shadow: 0px 1px 3px 1px rgba(0, 0, 0, 0.15);\n",
              "      filter: drop-shadow(0px 1px 2px rgba(0, 0, 0, 0.3));\n",
              "      fill: #FFFFFF;\n",
              "    }\n",
              "  </style>\n",
              "\n",
              "      <script>\n",
              "        const buttonEl =\n",
              "          document.querySelector('#df-468099d4-bc42-4ef6-aff1-d7da4751fa2d button.colab-df-convert');\n",
              "        buttonEl.style.display =\n",
              "          google.colab.kernel.accessAllowed ? 'block' : 'none';\n",
              "\n",
              "        async function convertToInteractive(key) {\n",
              "          const element = document.querySelector('#df-468099d4-bc42-4ef6-aff1-d7da4751fa2d');\n",
              "          const dataTable =\n",
              "            await google.colab.kernel.invokeFunction('convertToInteractive',\n",
              "                                                     [key], {});\n",
              "          if (!dataTable) return;\n",
              "\n",
              "          const docLinkHtml = 'Like what you see? Visit the ' +\n",
              "            '<a target=\"_blank\" href=https://colab.research.google.com/notebooks/data_table.ipynb>data table notebook</a>'\n",
              "            + ' to learn more about interactive tables.';\n",
              "          element.innerHTML = '';\n",
              "          dataTable['output_type'] = 'display_data';\n",
              "          await google.colab.output.renderOutput(dataTable, element);\n",
              "          const docLink = document.createElement('div');\n",
              "          docLink.innerHTML = docLinkHtml;\n",
              "          element.appendChild(docLink);\n",
              "        }\n",
              "      </script>\n",
              "    </div>\n",
              "  </div>\n",
              "  "
            ]
          },
          "metadata": {},
          "execution_count": 584
        }
      ]
    },
    {
      "cell_type": "code",
      "source": [
        "data_transformed.hist(figsize = (25,10), bins = 50)\n",
        "plt.show()"
      ],
      "metadata": {
        "colab": {
          "base_uri": "https://localhost:8080/",
          "height": 655
        },
        "id": "O4ayPSrBF4cw",
        "outputId": "90c71301-05fa-44af-ff47-404e0c15983d"
      },
      "id": "O4ayPSrBF4cw",
      "execution_count": 585,
      "outputs": [
        {
          "output_type": "display_data",
          "data": {
            "text/plain": [
              "<Figure size 2500x1000 with 16 Axes>"
            ],
            "image/png": "[encoded data removed]"
          },
          "metadata": {}
        }
      ]
    },
    {
      "cell_type": "code",
      "metadata": {
        "id": "j1vGq4p0NCju",
        "colab": {
          "base_uri": "https://localhost:8080/",
          "height": 66,
          "referenced_widgets": [
            "75c3a7659f5b497e8df0969e02fcc144",
            "13393d119e824515a8082f06024d19f3",
            "1d5672faeb07441f96c75f0a96946dea",
            "53d80d44a4844aa0a32003a02d7a2cce",
            "728d8c85d90d4a278550c93053f66877",
            "a7940bc9900f4b02864f5b0a0ca4b190",
            "07926e1f379e4a2abca81d6d9609a74f",
            "8d2f77ddd13643e0a0af589336ad952c",
            "882de000d6ef44119e68f0fdc50e0324",
            "ac018d7d71f748a4bad57b367052c213",
            "56aab03149c8462995cb07fa2dd77e1a"
          ]
        },
        "outputId": "150c41b9-b4b2-45ef-ca0b-133965f05b28"
      },
      "source": [
        "#Plot transformed data\n",
        "report = sv.analyze(data_transformed, target_feat='BK')\n",
        "report.show_html('/content/drive/MyDrive/Data-Science/bankrupt_data_processed.html')"
      ],
      "id": "j1vGq4p0NCju",
      "execution_count": 587,
      "outputs": [
        {
          "output_type": "display_data",
          "data": {
            "text/plain": [
              "                                             |          | [  0%]   00:00 -> (? left)"
            ],
            "application/vnd.jupyter.widget-view+json": {
              "version_major": 2,
              "version_minor": 0,
              "model_id": "75c3a7659f5b497e8df0969e02fcc144"
            }
          },
          "metadata": {}
        },
        {
          "output_type": "stream",
          "name": "stdout",
          "text": [
            "Report /content/drive/MyDrive/Data-Science/bankrupt_data_processed.html was generated! NOTEBOOK/COLAB USERS: the web browser MAY not pop up, regardless, the report IS saved in your notebook/colab files.\n"
          ]
        }
      ]
    },
    {
      "cell_type": "markdown",
      "metadata": {
        "id": "sSL_t4qbJyH7"
      },
      "source": [
        "# Set Confusion Matrix Threshold\n"
      ],
      "id": "sSL_t4qbJyH7"
    },
    {
      "cell_type": "code",
      "metadata": {
        "id": "TzMvaN1AJ2td"
      },
      "source": [
        "class_threshold = 0.5"
      ],
      "id": "TzMvaN1AJ2td",
      "execution_count": 443,
      "outputs": []
    },
    {
      "cell_type": "markdown",
      "metadata": {
        "id": "2f5214da"
      },
      "source": [
        "# Model Training: Logistic Regression baseline model"
      ],
      "id": "2f5214da"
    },
    {
      "cell_type": "markdown",
      "source": [
        "Note: this baseline model is unable to predict positive scenarios. Confusion matrix: false negative = 162 means the model is unable to identify any bankrupt company correctly. (testing set only contains 162 bankrupt companies) --> need to address imbalance data"
      ],
      "metadata": {
        "id": "w4jYopJ9JmJM"
      },
      "id": "w4jYopJ9JmJM"
    },
    {
      "cell_type": "code",
      "metadata": {
        "id": "c08da297"
      },
      "source": [
        "from sklearn.linear_model import LogisticRegression\n",
        "lr_model = LogisticRegression(random_state=123, max_iter=100)"
      ],
      "id": "c08da297",
      "execution_count": 517,
      "outputs": []
    },
    {
      "cell_type": "code",
      "metadata": {
        "id": "df1d44cd"
      },
      "source": [
        "lr_pipeline = Pipeline(steps=[\n",
        "                    ('preprocess', data_pipeline),\n",
        "                    ('model', lr_model)])"
      ],
      "id": "df1d44cd",
      "execution_count": 518,
      "outputs": []
    },
    {
      "cell_type": "code",
      "metadata": {
        "colab": {
          "base_uri": "https://localhost:8080/"
        },
        "id": "76d107ff",
        "outputId": "43489354-67ef-454a-b673-dd5bd46732fd"
      },
      "source": [
        "# fit pipeline with model\n",
        "lr_pipeline.fit(X_train, y_train)"
      ],
      "id": "76d107ff",
      "execution_count": 519,
      "outputs": [
        {
          "output_type": "stream",
          "name": "stdout",
          "text": [
            "capping the  EPS\n",
            "capping the  Liquidity\n",
            "capping the  Profitability\n",
            "capping the  Productivity\n",
            "capping the  Leverage Ratio\n",
            "capping the  Asset Turnover\n",
            "capping the  Operational Margin\n",
            "capping the  Return on Equity\n",
            "capping the  Market Book Ratio\n",
            "capping the  Assets Growth\n",
            "capping the  Sales Growth\n",
            "capping the  Employee Growth\n"
          ]
        },
        {
          "output_type": "execute_result",
          "data": {
            "text/plain": [
              "Pipeline(steps=[('preprocess',\n",
              "                 ColumnTransformer(transformers=[('numeric',\n",
              "                                                  Pipeline(steps=[('remove_outlier',\n",
              "                                                                   <__main__.CustomTransformer object at 0x7f3efde9bd00>),\n",
              "                                                                  ('impute',\n",
              "                                                                   SimpleImputer()),\n",
              "                                                                  ('scale',\n",
              "                                                                   QuantileTransformer(random_state=0))]),\n",
              "                                                  ['EPS', 'Liquidity',\n",
              "                                                   'Profitability',\n",
              "                                                   'Productivity',\n",
              "                                                   'Leverage Ratio',\n",
              "                                                   'Asset Turnover',\n",
              "                                                   'Operational Margin',\n",
              "                                                   'Return on Equity',\n",
              "                                                   'Market Book Ratio',\n",
              "                                                   'Assets Growth',\n",
              "                                                   'Sales Growth',\n",
              "                                                   'Employee Growth'])])),\n",
              "                ('model', LogisticRegression(random_state=123))])"
            ]
          },
          "metadata": {},
          "execution_count": 519
        }
      ]
    },
    {
      "cell_type": "code",
      "metadata": {
        "colab": {
          "base_uri": "https://localhost:8080/"
        },
        "id": "2d110b9f",
        "outputId": "3e099989-3e72-4f07-c045-4723857d2a0e"
      },
      "source": [
        "# predict probability on X_test\n",
        "y_pred_proba = lr_pipeline.predict_proba(X_test)\n",
        "y_pred_proba"
      ],
      "id": "2d110b9f",
      "execution_count": 520,
      "outputs": [
        {
          "output_type": "stream",
          "name": "stdout",
          "text": [
            "capping the  EPS\n",
            "capping the  Liquidity\n",
            "capping the  Profitability\n",
            "capping the  Productivity\n",
            "capping the  Leverage Ratio\n",
            "capping the  Asset Turnover\n",
            "capping the  Operational Margin\n",
            "capping the  Return on Equity\n",
            "capping the  Market Book Ratio\n",
            "capping the  Assets Growth\n",
            "capping the  Sales Growth\n",
            "capping the  Employee Growth\n"
          ]
        },
        {
          "output_type": "execute_result",
          "data": {
            "text/plain": [
              "array([[9.99865151e-01, 1.34848537e-04],\n",
              "       [9.99618009e-01, 3.81990873e-04],\n",
              "       [9.87513381e-01, 1.24866186e-02],\n",
              "       ...,\n",
              "       [9.99879787e-01, 1.20212606e-04],\n",
              "       [9.99674072e-01, 3.25928307e-04],\n",
              "       [9.65064947e-01, 3.49350534e-02]])"
            ]
          },
          "metadata": {},
          "execution_count": 520
        }
      ]
    },
    {
      "cell_type": "code",
      "metadata": {
        "colab": {
          "base_uri": "https://localhost:8080/"
        },
        "id": "7e5eda5b",
        "outputId": "0e57607b-fd8f-4f03-a301-ac22e65cccdd"
      },
      "source": [
        "# AUC on test set\n",
        "roc_auc_score(y_test, y_pred_proba[:,1])"
      ],
      "id": "7e5eda5b",
      "execution_count": 521,
      "outputs": [
        {
          "output_type": "execute_result",
          "data": {
            "text/plain": [
              "0.8665507977523481"
            ]
          },
          "metadata": {},
          "execution_count": 521
        }
      ]
    },
    {
      "cell_type": "code",
      "metadata": {
        "colab": {
          "base_uri": "https://localhost:8080/",
          "height": 397
        },
        "id": "ddec46e4",
        "outputId": "7ab379d9-f2d3-4ec2-cc6c-7a2ebbebcdd2"
      },
      "source": [
        "plot_roc(y_test, y_pred_proba[:,1])"
      ],
      "id": "ddec46e4",
      "execution_count": 522,
      "outputs": [
        {
          "output_type": "display_data",
          "data": {
            "text/plain": [
              "<Figure size 600x400 with 1 Axes>"
            ],
            "image/png": "[encoded data removed]"
          },
          "metadata": {}
        }
      ]
    },
    {
      "cell_type": "code",
      "metadata": {
        "colab": {
          "base_uri": "https://localhost:8080/"
        },
        "id": "a3cdbaba",
        "outputId": "059cc4a3-6721-4249-e383-52735595099d"
      },
      "source": [
        "# confusion matrix\n",
        "y_pred = np.where(y_pred_proba[:,1] > class_threshold, 1, 0) # applying the threshold rule to classify\n",
        "\n",
        "print(confusion_matrix(y_test, y_pred))"
      ],
      "id": "a3cdbaba",
      "execution_count": 523,
      "outputs": [
        {
          "output_type": "stream",
          "name": "stdout",
          "text": [
            "[[27692     0]\n",
            " [  162     0]]\n"
          ]
        }
      ]
    },
    {
      "cell_type": "code",
      "source": [
        "tn, fp, fn, tp = confusion_matrix(y_test, y_pred).ravel()\n",
        "(tn, fp, fn, tp)"
      ],
      "metadata": {
        "colab": {
          "base_uri": "https://localhost:8080/"
        },
        "id": "_J3AVrIzIDwU",
        "outputId": "6a7da8cb-b057-4395-af7b-a3835c09cdfc"
      },
      "id": "_J3AVrIzIDwU",
      "execution_count": 524,
      "outputs": [
        {
          "output_type": "execute_result",
          "data": {
            "text/plain": [
              "(27692, 0, 162, 0)"
            ]
          },
          "metadata": {},
          "execution_count": 524
        }
      ]
    },
    {
      "cell_type": "code",
      "metadata": {
        "colab": {
          "base_uri": "https://localhost:8080/"
        },
        "id": "NOs6-IU3MZuJ",
        "outputId": "6719d3f2-41fd-4b38-dd3b-1ab4bf1fa0a7"
      },
      "source": [
        "# classification report\n",
        "print(classification_report(y_test, y_pred))"
      ],
      "id": "NOs6-IU3MZuJ",
      "execution_count": 525,
      "outputs": [
        {
          "output_type": "stream",
          "name": "stdout",
          "text": [
            "              precision    recall  f1-score   support\n",
            "\n",
            "           0       0.99      1.00      1.00     27692\n",
            "           1       0.00      0.00      0.00       162\n",
            "\n",
            "    accuracy                           0.99     27854\n",
            "   macro avg       0.50      0.50      0.50     27854\n",
            "weighted avg       0.99      0.99      0.99     27854\n",
            "\n"
          ]
        },
        {
          "output_type": "stream",
          "name": "stderr",
          "text": [
            "/usr/local/lib/python3.8/dist-packages/sklearn/metrics/_classification.py:1318: UndefinedMetricWarning: Precision and F-score are ill-defined and being set to 0.0 in labels with no predicted samples. Use `zero_division` parameter to control this behavior.\n",
            "  _warn_prf(average, modifier, msg_start, len(result))\n",
            "/usr/local/lib/python3.8/dist-packages/sklearn/metrics/_classification.py:1318: UndefinedMetricWarning: Precision and F-score are ill-defined and being set to 0.0 in labels with no predicted samples. Use `zero_division` parameter to control this behavior.\n",
            "  _warn_prf(average, modifier, msg_start, len(result))\n",
            "/usr/local/lib/python3.8/dist-packages/sklearn/metrics/_classification.py:1318: UndefinedMetricWarning: Precision and F-score are ill-defined and being set to 0.0 in labels with no predicted samples. Use `zero_division` parameter to control this behavior.\n",
            "  _warn_prf(average, modifier, msg_start, len(result))\n"
          ]
        }
      ]
    },
    {
      "cell_type": "code",
      "source": [
        "# Weighted F1 score\n",
        "f1_score(y_test, y_pred, average='weighted')"
      ],
      "metadata": {
        "colab": {
          "base_uri": "https://localhost:8080/"
        },
        "id": "Y95cfH0RgG9I",
        "outputId": "1584b61d-87d8-4e64-80f9-ab2d49f9342f"
      },
      "id": "Y95cfH0RgG9I",
      "execution_count": 453,
      "outputs": [
        {
          "output_type": "execute_result",
          "data": {
            "text/plain": [
              "0.9912844200701049"
            ]
          },
          "metadata": {},
          "execution_count": 453
        }
      ]
    },
    {
      "cell_type": "markdown",
      "metadata": {
        "id": "41997b20"
      },
      "source": [
        "# Model Training: Logistic Regression - Random Under Sampler, Hyperparameter tunning\n",
        "\n",
        "https://medium.com/@kocur4d/hyper-parameter-tuning-with-pipelines-5310aff069d6"
      ],
      "id": "41997b20"
    },
    {
      "cell_type": "markdown",
      "metadata": {
        "id": "iBJtSh6u24HD"
      },
      "source": [
        "unable to predict positive scenarios (confusion matrix) after hyperparameter tuning"
      ],
      "id": "iBJtSh6u24HD"
    },
    {
      "cell_type": "code",
      "metadata": {
        "id": "c61a7d03"
      },
      "source": [
        "from imblearn.under_sampling import RandomUnderSampler\n",
        "\n",
        "rus = RandomUnderSampler(random_state=0)\n",
        "# X_train_resampled, y_train_resampled = rus.fit_resample(X_train_transformed, y_train)\n",
        "X_train_resampled, y_train_resampled = rus.fit_resample(X_train, y_train)"
      ],
      "id": "c61a7d03",
      "execution_count": 527,
      "outputs": []
    },
    {
      "cell_type": "code",
      "metadata": {
        "id": "7-SN8Axo0r06"
      },
      "source": [
        "X_train_resampled = pd.DataFrame(X_train_resampled, columns=X_train.columns.to_list())\n",
        "y_train_resampled = pd.DataFrame(y_train_resampled, columns=['BK'])"
      ],
      "id": "7-SN8Axo0r06",
      "execution_count": 528,
      "outputs": []
    },
    {
      "cell_type": "code",
      "metadata": {
        "colab": {
          "base_uri": "https://localhost:8080/"
        },
        "id": "2135ac26",
        "outputId": "8f2ecc88-04fb-427d-9d08-ecd4176e2472"
      },
      "source": [
        "X_train_resampled.shape, y_train_resampled.shape"
      ],
      "id": "2135ac26",
      "execution_count": 529,
      "outputs": [
        {
          "output_type": "execute_result",
          "data": {
            "text/plain": [
              "((792, 12), (792, 1))"
            ]
          },
          "metadata": {},
          "execution_count": 529
        }
      ]
    },
    {
      "cell_type": "code",
      "metadata": {
        "colab": {
          "base_uri": "https://localhost:8080/"
        },
        "id": "y-F3Ji2P3Ibt",
        "outputId": "c88dc75b-5017-4c9e-8ee1-8e8d53a61ef8"
      },
      "source": [
        "y_train_resampled.value_counts()"
      ],
      "id": "y-F3Ji2P3Ibt",
      "execution_count": 530,
      "outputs": [
        {
          "output_type": "execute_result",
          "data": {
            "text/plain": [
              "BK\n",
              "0     396\n",
              "1     396\n",
              "dtype: int64"
            ]
          },
          "metadata": {},
          "execution_count": 530
        }
      ]
    },
    {
      "cell_type": "code",
      "metadata": {
        "id": "994e75e3"
      },
      "source": [
        "from sklearn.linear_model import LogisticRegression\n",
        "lr_model = LogisticRegression(random_state=123)"
      ],
      "id": "994e75e3",
      "execution_count": 531,
      "outputs": []
    },
    {
      "cell_type": "code",
      "metadata": {
        "colab": {
          "base_uri": "https://localhost:8080/"
        },
        "id": "5e5d2b83",
        "outputId": "9b89d5cf-1017-4a89-a4ee-26af1fdd1e61"
      },
      "source": [
        "lr_pipeline = Pipeline(steps=[\n",
        "                    ('preprocess', data_pipeline),\n",
        "                    ('model', lr_model)])\n",
        "\n",
        "# fit pipeline with model\n",
        "lr_pipeline.fit(X_train_resampled, y_train_resampled)\n",
        "\n",
        "# predictions from pipeline\n",
        "y_pred = lr_pipeline.predict(X_test)\n",
        "y_pred"
      ],
      "id": "5e5d2b83",
      "execution_count": 532,
      "outputs": [
        {
          "output_type": "stream",
          "name": "stdout",
          "text": [
            "capping the  EPS\n",
            "capping the  Liquidity\n",
            "capping the  Profitability\n",
            "capping the  Productivity\n",
            "capping the  Leverage Ratio\n",
            "capping the  Asset Turnover\n",
            "capping the  Operational Margin\n",
            "capping the  Return on Equity\n",
            "capping the  Market Book Ratio\n",
            "capping the  Assets Growth\n",
            "capping the  Sales Growth\n",
            "capping the  Employee Growth\n",
            "capping the  EPS\n",
            "capping the  Liquidity\n",
            "capping the  Profitability\n",
            "capping the  Productivity\n",
            "capping the  Leverage Ratio\n",
            "capping the  Asset Turnover\n",
            "capping the  Operational Margin\n",
            "capping the  Return on Equity\n",
            "capping the  Market Book Ratio\n",
            "capping the  Assets Growth\n",
            "capping the  Sales Growth\n",
            "capping the  "
          ]
        },
        {
          "output_type": "stream",
          "name": "stderr",
          "text": [
            "/usr/local/lib/python3.8/dist-packages/sklearn/preprocessing/_data.py:2590: UserWarning: n_quantiles (1000) is greater than the total number of samples (792). n_quantiles is set to n_samples.\n",
            "  warnings.warn(\n",
            "/usr/local/lib/python3.8/dist-packages/sklearn/utils/validation.py:993: DataConversionWarning: A column-vector y was passed when a 1d array was expected. Please change the shape of y to (n_samples, ), for example using ravel().\n",
            "  y = column_or_1d(y, warn=True)\n"
          ]
        },
        {
          "output_type": "stream",
          "name": "stdout",
          "text": [
            "Employee Growth\n"
          ]
        },
        {
          "output_type": "execute_result",
          "data": {
            "text/plain": [
              "array([0, 0, 0, ..., 0, 0, 1])"
            ]
          },
          "metadata": {},
          "execution_count": 532
        }
      ]
    },
    {
      "cell_type": "code",
      "metadata": {
        "colab": {
          "base_uri": "https://localhost:8080/"
        },
        "id": "57078591",
        "outputId": "eabe6b5f-4f12-467e-eca3-95f623e06ebe"
      },
      "source": [
        "# predict probability on X_test\n",
        "y_pred_proba = lr_pipeline.predict_proba(X_test)\n",
        "y_pred_proba"
      ],
      "id": "57078591",
      "execution_count": 533,
      "outputs": [
        {
          "output_type": "stream",
          "name": "stdout",
          "text": [
            "capping the  EPS\n",
            "capping the  Liquidity\n",
            "capping the  Profitability\n",
            "capping the  Productivity\n",
            "capping the  Leverage Ratio\n",
            "capping the  Asset Turnover\n",
            "capping the  Operational Margin\n",
            "capping the  Return on Equity\n",
            "capping the  Market Book Ratio\n",
            "capping the  Assets Growth\n",
            "capping the  Sales Growth\n",
            "capping the  Employee Growth\n"
          ]
        },
        {
          "output_type": "execute_result",
          "data": {
            "text/plain": [
              "array([[0.9472865 , 0.0527135 ],\n",
              "       [0.84530817, 0.15469183],\n",
              "       [0.52700587, 0.47299413],\n",
              "       ...,\n",
              "       [0.95643697, 0.04356303],\n",
              "       [0.94236634, 0.05763366],\n",
              "       [0.23520981, 0.76479019]])"
            ]
          },
          "metadata": {},
          "execution_count": 533
        }
      ]
    },
    {
      "cell_type": "code",
      "metadata": {
        "colab": {
          "base_uri": "https://localhost:8080/"
        },
        "id": "y5t-JjS4MuLz",
        "outputId": "79824e86-de4e-42c4-c167-65f51f8af75c"
      },
      "source": [
        "# AUC on test set\n",
        "roc_auc_score(y_test, y_pred_proba[:,1])"
      ],
      "id": "y5t-JjS4MuLz",
      "execution_count": 534,
      "outputs": [
        {
          "output_type": "execute_result",
          "data": {
            "text/plain": [
              "0.8701242771010214"
            ]
          },
          "metadata": {},
          "execution_count": 534
        }
      ]
    },
    {
      "cell_type": "code",
      "metadata": {
        "colab": {
          "base_uri": "https://localhost:8080/",
          "height": 397
        },
        "id": "CuIIa_Af06Fp",
        "outputId": "9578a3ff-e856-44b7-8630-f1d73bbb473f"
      },
      "source": [
        "plot_roc(y_test, y_pred_proba[:,1])"
      ],
      "id": "CuIIa_Af06Fp",
      "execution_count": 535,
      "outputs": [
        {
          "output_type": "display_data",
          "data": {
            "text/plain": [
              "<Figure size 600x400 with 1 Axes>"
            ],
            "image/png": "[encoded data removed]"
          },
          "metadata": {}
        }
      ]
    },
    {
      "cell_type": "code",
      "metadata": {
        "colab": {
          "base_uri": "https://localhost:8080/"
        },
        "id": "g3NwRvlJI3Fu",
        "outputId": "5ffe7f47-a92b-4d83-8672-f0546f2986c8"
      },
      "source": [
        "# confusion matrix\n",
        "y_pred = np.where(y_pred_proba[:,1] > class_threshold, 1, 0) # applying the threshold rule to classify\n",
        "\n",
        "print(confusion_matrix(y_test, y_pred))"
      ],
      "id": "g3NwRvlJI3Fu",
      "execution_count": 536,
      "outputs": [
        {
          "output_type": "stream",
          "name": "stdout",
          "text": [
            "[[22630  5062]\n",
            " [   39   123]]\n"
          ]
        }
      ]
    },
    {
      "cell_type": "code",
      "metadata": {
        "colab": {
          "base_uri": "https://localhost:8080/"
        },
        "id": "O9r4NR8n2Qlt",
        "outputId": "7d039ea8-6604-49d5-a34a-148480130161"
      },
      "source": [
        "tn, fp, fn, tp = confusion_matrix(y_test, y_pred).ravel()\n",
        "tn, fp, fn, tp"
      ],
      "id": "O9r4NR8n2Qlt",
      "execution_count": 537,
      "outputs": [
        {
          "output_type": "execute_result",
          "data": {
            "text/plain": [
              "(22630, 5062, 39, 123)"
            ]
          },
          "metadata": {},
          "execution_count": 537
        }
      ]
    },
    {
      "cell_type": "code",
      "metadata": {
        "id": "zZceIIQI1dhw"
      },
      "source": [
        "# Create dictionary with candidate learning algorithms and their hyperparameters\n",
        "grid_param = [\n",
        "                {'model__class_weight': [None, 'balanced'],\n",
        "                 'model__solver': ['newton-cg', 'lbfgs', 'liblinear'],\n",
        "                 'model__C': np.logspace(0, 4, 10),\n",
        "                 'model__penalty': ['l2']\n",
        "                 }\n",
        "            ]\n",
        "# grid_lr = {\n",
        "# 'cls__class_weight': [None, 'balanced'],\n",
        "# 'cls__C': [0, .001, .01, .1, 1]\n",
        "# }"
      ],
      "id": "zZceIIQI1dhw",
      "execution_count": 538,
      "outputs": []
    },
    {
      "cell_type": "code",
      "metadata": {
        "id": "Qlvk6Oau1dsO"
      },
      "source": [
        "# Hyper-parameter tuning (\"optimization\") using the function GridSearchCV for maximizing AUC\n",
        "score_func = make_scorer(roc_auc_score, greater_is_better=True)\n",
        "\n",
        "# create a gridsearch of the pipeline, the fit the best model\n",
        "gridsearch = GridSearchCV(lr_pipeline, grid_param, cv=5, verbose=0, n_jobs=-1, scoring = score_func) # Fit grid search"
      ],
      "id": "Qlvk6Oau1dsO",
      "execution_count": 539,
      "outputs": []
    },
    {
      "cell_type": "code",
      "metadata": {
        "id": "3-cPmAF711cb",
        "colab": {
          "base_uri": "https://localhost:8080/"
        },
        "outputId": "de2acbde-f652-4070-8f39-bd665020485f"
      },
      "source": [
        "gridsearch_model = gridsearch.fit(X_train,y_train)"
      ],
      "id": "3-cPmAF711cb",
      "execution_count": 540,
      "outputs": [
        {
          "output_type": "stream",
          "name": "stdout",
          "text": [
            "capping the  EPS\n",
            "capping the  Liquidity\n",
            "capping the  Profitability\n",
            "capping the  Productivity\n",
            "capping the  Leverage Ratio\n",
            "capping the  Asset Turnover\n",
            "capping the  Operational Margin\n",
            "capping the  Return on Equity\n",
            "capping the  Market Book Ratio\n",
            "capping the  Assets Growth\n",
            "capping the  Sales Growth\n",
            "capping the  Employee Growth\n"
          ]
        }
      ]
    },
    {
      "cell_type": "code",
      "source": [
        "print(\"Best Score: \", gridsearch_model.best_score_)\n",
        "print(\"Best Params: \", gridsearch_model.best_params_)"
      ],
      "metadata": {
        "colab": {
          "base_uri": "https://localhost:8080/"
        },
        "id": "LMjr_jMOSE8k",
        "outputId": "e7687523-9ef2-4340-e2b0-1ddbd591f8b2"
      },
      "id": "LMjr_jMOSE8k",
      "execution_count": 541,
      "outputs": [
        {
          "output_type": "stream",
          "name": "stdout",
          "text": [
            "Best Score:  0.8245391036751875\n",
            "Best Params:  {'model__C': 1.0, 'model__class_weight': 'balanced', 'model__penalty': 'l2', 'model__solver': 'liblinear'}\n"
          ]
        }
      ]
    },
    {
      "cell_type": "code",
      "metadata": {
        "colab": {
          "base_uri": "https://localhost:8080/"
        },
        "id": "TgplgaOA1-Zq",
        "outputId": "e9e4e68f-5921-4b40-bc2e-328680c8206e"
      },
      "source": [
        "y_pred_proba = gridsearch_model.predict_proba(X_test)\n",
        "y_pred_proba"
      ],
      "id": "TgplgaOA1-Zq",
      "execution_count": 542,
      "outputs": [
        {
          "output_type": "stream",
          "name": "stdout",
          "text": [
            "capping the  EPS\n",
            "capping the  Liquidity\n",
            "capping the  Profitability\n",
            "capping the  Productivity\n",
            "capping the  Leverage Ratio\n",
            "capping the  Asset Turnover\n",
            "capping the  Operational Margin\n",
            "capping the  Return on Equity\n",
            "capping the  Market Book Ratio\n",
            "capping the  Assets Growth\n",
            "capping the  Sales Growth\n",
            "capping the  Employee Growth\n"
          ]
        },
        {
          "output_type": "execute_result",
          "data": {
            "text/plain": [
              "array([[0.98417702, 0.01582298],\n",
              "       [0.92302669, 0.07697331],\n",
              "       [0.51258827, 0.48741173],\n",
              "       ...,\n",
              "       [0.98747511, 0.01252489],\n",
              "       [0.92388806, 0.07611194],\n",
              "       [0.1895597 , 0.8104403 ]])"
            ]
          },
          "metadata": {},
          "execution_count": 542
        }
      ]
    },
    {
      "cell_type": "code",
      "metadata": {
        "colab": {
          "base_uri": "https://localhost:8080/"
        },
        "id": "X_9sifr01-lK",
        "outputId": "9539fac4-6484-4514-ac03-8411a7378556"
      },
      "source": [
        "roc_auc_score(y_test, y_pred_proba[:,1])"
      ],
      "id": "X_9sifr01-lK",
      "execution_count": 543,
      "outputs": [
        {
          "output_type": "execute_result",
          "data": {
            "text/plain": [
              "0.8728977304137399"
            ]
          },
          "metadata": {},
          "execution_count": 543
        }
      ]
    },
    {
      "cell_type": "code",
      "metadata": {
        "colab": {
          "base_uri": "https://localhost:8080/",
          "height": 397
        },
        "id": "6xP2i0MC1d1q",
        "outputId": "ee175728-e3a9-4fec-ef95-e99eecdb9385"
      },
      "source": [
        "plot_roc(y_test, y_pred_proba[:,1])"
      ],
      "id": "6xP2i0MC1d1q",
      "execution_count": 544,
      "outputs": [
        {
          "output_type": "display_data",
          "data": {
            "text/plain": [
              "<Figure size 600x400 with 1 Axes>"
            ],
            "image/png": "[encoded data removed]"
          },
          "metadata": {}
        }
      ]
    },
    {
      "cell_type": "code",
      "metadata": {
        "colab": {
          "base_uri": "https://localhost:8080/"
        },
        "id": "bkt9wn1CI7y6",
        "outputId": "5fff0a31-eaed-4984-871a-97bc1ffd63fd"
      },
      "source": [
        "# confusion matrix\n",
        "y_pred = np.where(y_pred_proba[:,1] > class_threshold, 1, 0) # applying the threshold rule to classify\n",
        "\n",
        "print(confusion_matrix(y_test, y_pred))"
      ],
      "id": "bkt9wn1CI7y6",
      "execution_count": 545,
      "outputs": [
        {
          "output_type": "stream",
          "name": "stdout",
          "text": [
            "[[22269  5423]\n",
            " [   37   125]]\n"
          ]
        }
      ]
    },
    {
      "cell_type": "code",
      "metadata": {
        "colab": {
          "base_uri": "https://localhost:8080/"
        },
        "id": "rr1W7RUs1HD3",
        "outputId": "3516d80c-64bc-478b-a728-bac6eea34179"
      },
      "source": [
        "tn, fp, fn, tp = confusion_matrix(y_test, y_pred).ravel()\n",
        "tn, fp, fn, tp"
      ],
      "id": "rr1W7RUs1HD3",
      "execution_count": 546,
      "outputs": [
        {
          "output_type": "execute_result",
          "data": {
            "text/plain": [
              "(22269, 5423, 37, 125)"
            ]
          },
          "metadata": {},
          "execution_count": 546
        }
      ]
    },
    {
      "cell_type": "code",
      "metadata": {
        "colab": {
          "base_uri": "https://localhost:8080/"
        },
        "id": "JnCFbDuBMuPH",
        "outputId": "49b67076-113a-4a3a-9b5f-0e93a9e87601"
      },
      "source": [
        "# classification report\n",
        "print(classification_report(y_test, y_pred))"
      ],
      "id": "JnCFbDuBMuPH",
      "execution_count": 547,
      "outputs": [
        {
          "output_type": "stream",
          "name": "stdout",
          "text": [
            "              precision    recall  f1-score   support\n",
            "\n",
            "           0       1.00      0.80      0.89     27692\n",
            "           1       0.02      0.77      0.04       162\n",
            "\n",
            "    accuracy                           0.80     27854\n",
            "   macro avg       0.51      0.79      0.47     27854\n",
            "weighted avg       0.99      0.80      0.89     27854\n",
            "\n"
          ]
        }
      ]
    },
    {
      "cell_type": "code",
      "source": [
        "# Weighted F1 score\n",
        "f1_score(y_test, y_pred, average='weighted')"
      ],
      "metadata": {
        "colab": {
          "base_uri": "https://localhost:8080/"
        },
        "id": "nKorGLMwU-Ev",
        "outputId": "3289134f-2af2-4918-b40f-d511e3ffce16"
      },
      "id": "nKorGLMwU-Ev",
      "execution_count": 475,
      "outputs": [
        {
          "output_type": "execute_result",
          "data": {
            "text/plain": [
              "0.885869370866668"
            ]
          },
          "metadata": {},
          "execution_count": 475
        }
      ]
    },
    {
      "cell_type": "markdown",
      "metadata": {
        "id": "fd51cb14"
      },
      "source": [
        "# Model: Random Forest, balanced"
      ],
      "id": "fd51cb14"
    },
    {
      "cell_type": "code",
      "metadata": {
        "id": "c14de87d"
      },
      "source": [
        "from sklearn.ensemble import RandomForestClassifier\n",
        "rf_model = RandomForestClassifier(random_state=123, class_weight='balanced')"
      ],
      "id": "c14de87d",
      "execution_count": 476,
      "outputs": []
    },
    {
      "cell_type": "code",
      "metadata": {
        "id": "9962d442"
      },
      "source": [
        "rf_pipeline = Pipeline(steps=[\n",
        "                    ('preprocess', data_pipeline),\n",
        "                    ('model', rf_model)])"
      ],
      "id": "9962d442",
      "execution_count": 477,
      "outputs": []
    },
    {
      "cell_type": "code",
      "metadata": {
        "colab": {
          "base_uri": "https://localhost:8080/"
        },
        "id": "nez4taw6mxyQ",
        "outputId": "ca39716e-c793-4bc5-d7bd-cbbba24476d2"
      },
      "source": [
        "# fit pipeline with model\n",
        "rf_pipeline.fit(X_train, y_train)"
      ],
      "id": "nez4taw6mxyQ",
      "execution_count": 478,
      "outputs": [
        {
          "output_type": "stream",
          "name": "stdout",
          "text": [
            "capping the  EPS\n",
            "capping the  Liquidity\n",
            "capping the  Profitability\n",
            "capping the  Productivity\n",
            "capping the  Leverage Ratio\n",
            "capping the  Asset Turnover\n",
            "capping the  Operational Margin\n",
            "capping the  Return on Equity\n",
            "capping the  Market Book Ratio\n",
            "capping the  Assets Growth\n",
            "capping the  Sales Growth\n",
            "capping the  Employee Growth\n"
          ]
        },
        {
          "output_type": "execute_result",
          "data": {
            "text/plain": [
              "Pipeline(steps=[('preprocess',\n",
              "                 ColumnTransformer(transformers=[('numeric',\n",
              "                                                  Pipeline(steps=[('remove_outlier',\n",
              "                                                                   <__main__.CustomTransformer object at 0x7f3efde9bd00>),\n",
              "                                                                  ('impute',\n",
              "                                                                   SimpleImputer()),\n",
              "                                                                  ('scale',\n",
              "                                                                   QuantileTransformer(random_state=0))]),\n",
              "                                                  ['EPS', 'Liquidity',\n",
              "                                                   'Profitability',\n",
              "                                                   'Productivity',\n",
              "                                                   'Leverage Ratio',\n",
              "                                                   'Asset Turnover',\n",
              "                                                   'Operational Margin',\n",
              "                                                   'Return on Equity',\n",
              "                                                   'Market Book Ratio',\n",
              "                                                   'Assets Growth',\n",
              "                                                   'Sales Growth',\n",
              "                                                   'Employee Growth'])])),\n",
              "                ('model',\n",
              "                 RandomForestClassifier(class_weight='balanced',\n",
              "                                        random_state=123))])"
            ]
          },
          "metadata": {},
          "execution_count": 478
        }
      ]
    },
    {
      "cell_type": "code",
      "metadata": {
        "id": "7e2aeedb",
        "colab": {
          "base_uri": "https://localhost:8080/"
        },
        "outputId": "0de3d8d5-7970-4f6e-8b19-8a84ee92ed5a"
      },
      "source": [
        "# predictions from pipeline\n",
        "y_pred = rf_pipeline.predict(X_test)\n",
        "y_pred_proba = rf_pipeline.predict_proba(X_test)"
      ],
      "id": "7e2aeedb",
      "execution_count": 479,
      "outputs": [
        {
          "output_type": "stream",
          "name": "stdout",
          "text": [
            "capping the  EPS\n",
            "capping the  Liquidity\n",
            "capping the  Profitability\n",
            "capping the  Productivity\n",
            "capping the  Leverage Ratio\n",
            "capping the  Asset Turnover\n",
            "capping the  Operational Margin\n",
            "capping the  Return on Equity\n",
            "capping the  Market Book Ratio\n",
            "capping the  Assets Growth\n",
            "capping the  Sales Growth\n",
            "capping the  Employee Growth\n",
            "capping the  EPS\n",
            "capping the  Liquidity\n",
            "capping the  Profitability\n",
            "capping the  Productivity\n",
            "capping the  Leverage Ratio\n",
            "capping the  Asset Turnover\n",
            "capping the  Operational Margin\n",
            "capping the  Return on Equity\n",
            "capping the  Market Book Ratio\n",
            "capping the  Assets Growth\n",
            "capping the  Sales Growth\n",
            "capping the  Employee Growth\n"
          ]
        }
      ]
    },
    {
      "cell_type": "code",
      "metadata": {
        "colab": {
          "base_uri": "https://localhost:8080/"
        },
        "id": "OgEfJ0N7m9tb",
        "outputId": "5e09c915-7bb0-4aac-ac49-12045c4890d4"
      },
      "source": [
        "roc_auc_score(y_test, y_pred_proba[:,1])"
      ],
      "id": "OgEfJ0N7m9tb",
      "execution_count": 480,
      "outputs": [
        {
          "output_type": "execute_result",
          "data": {
            "text/plain": [
              "0.8516731890299468"
            ]
          },
          "metadata": {},
          "execution_count": 480
        }
      ]
    },
    {
      "cell_type": "code",
      "metadata": {
        "colab": {
          "base_uri": "https://localhost:8080/",
          "height": 464
        },
        "id": "zkMGXqP7nMW7",
        "outputId": "f48b55d7-f1d1-4a58-e260-a5c930dcdbf7"
      },
      "source": [
        "# plot feature_importances_\n",
        "d = {'Stats':X_train.columns,'FI':rf_pipeline[1].feature_importances_}\n",
        "df = pd.DataFrame(d)\n",
        "df = df.sort_values(by='FI', ascending=False)\n",
        "ax = df.plot.bar(x='Stats', y='FI', rot=90)"
      ],
      "id": "zkMGXqP7nMW7",
      "execution_count": 481,
      "outputs": [
        {
          "output_type": "display_data",
          "data": {
            "text/plain": [
              "<Figure size 600x400 with 1 Axes>"
            ],
            "image/png": "[encoded data removed]"
          },
          "metadata": {}
        }
      ]
    },
    {
      "cell_type": "code",
      "metadata": {
        "id": "a4f18a2a"
      },
      "source": [
        "# Create dictionary with candidate learning algorithms and their hyperparameters\n",
        "grid_param = [\n",
        "                {\n",
        "                 \"model__n_estimators\": [10, 100],\n",
        "                 \"model__max_depth\":[5,10,15],\n",
        "                 \"model__max_features\":[0.8, \"auto\"]\n",
        "                 }\n",
        "            ]"
      ],
      "id": "a4f18a2a",
      "execution_count": 482,
      "outputs": []
    },
    {
      "cell_type": "code",
      "metadata": {
        "id": "f438aa1d"
      },
      "source": [
        "# Hyper-parameter tuning (\"optimization\") using the function GridSearchCV for maximizing AUC\n",
        "score_func = make_scorer(roc_auc_score, greater_is_better=True)\n",
        "\n",
        "# create a gridsearch of the pipeline, the fit the best model\n",
        "randsearch = RandomizedSearchCV(rf_pipeline, grid_param, cv=5, verbose=0, n_jobs=-1, scoring = score_func) # Fit grid search"
      ],
      "id": "f438aa1d",
      "execution_count": 483,
      "outputs": []
    },
    {
      "cell_type": "code",
      "metadata": {
        "id": "MDF-uZcLmHCP",
        "colab": {
          "base_uri": "https://localhost:8080/"
        },
        "outputId": "b61943c8-ffdb-4376-d46b-3993b6fd8fca"
      },
      "source": [
        "randsearch_model = randsearch.fit(X_train,y_train)"
      ],
      "id": "MDF-uZcLmHCP",
      "execution_count": 484,
      "outputs": [
        {
          "output_type": "stream",
          "name": "stdout",
          "text": [
            "capping the  EPS\n",
            "capping the  Liquidity\n",
            "capping the  Profitability\n",
            "capping the  Productivity\n",
            "capping the  Leverage Ratio\n",
            "capping the  Asset Turnover\n",
            "capping the  Operational Margin\n",
            "capping the  Return on Equity\n",
            "capping the  Market Book Ratio\n",
            "capping the  Assets Growth\n",
            "capping the  Sales Growth\n",
            "capping the  Employee Growth\n"
          ]
        }
      ]
    },
    {
      "cell_type": "code",
      "source": [
        "print(\"Best Score: \", randsearch_model.best_score_)\n",
        "print(\"Best Params: \", randsearch_model.best_params_)"
      ],
      "metadata": {
        "colab": {
          "base_uri": "https://localhost:8080/"
        },
        "id": "zSSHVlXKUAmQ",
        "outputId": "1c50e0d0-1abe-4a68-e238-4d2d7eea68df"
      },
      "id": "zSSHVlXKUAmQ",
      "execution_count": 485,
      "outputs": [
        {
          "output_type": "stream",
          "name": "stdout",
          "text": [
            "Best Score:  0.8227945335640472\n",
            "Best Params:  {'model__n_estimators': 100, 'model__max_features': 'auto', 'model__max_depth': 5}\n"
          ]
        }
      ]
    },
    {
      "cell_type": "code",
      "metadata": {
        "colab": {
          "base_uri": "https://localhost:8080/"
        },
        "id": "kgIhAnG6sl83",
        "outputId": "a2f449c4-e2b2-46a4-9ec1-8111ea171023"
      },
      "source": [
        "randsearch_model.best_estimator_"
      ],
      "id": "kgIhAnG6sl83",
      "execution_count": 486,
      "outputs": [
        {
          "output_type": "execute_result",
          "data": {
            "text/plain": [
              "Pipeline(steps=[('preprocess',\n",
              "                 ColumnTransformer(transformers=[('numeric',\n",
              "                                                  Pipeline(steps=[('remove_outlier',\n",
              "                                                                   <__main__.CustomTransformer object at 0x7f3ed8436d30>),\n",
              "                                                                  ('impute',\n",
              "                                                                   SimpleImputer()),\n",
              "                                                                  ('scale',\n",
              "                                                                   QuantileTransformer(random_state=0))]),\n",
              "                                                  ['EPS', 'Liquidity',\n",
              "                                                   'Profitability',\n",
              "                                                   'Productivity',\n",
              "                                                   'Leverage Ratio',\n",
              "                                                   'Asset Turnover',\n",
              "                                                   'Operational Margin',\n",
              "                                                   'Return on Equity',\n",
              "                                                   'Market Book Ratio',\n",
              "                                                   'Assets Growth',\n",
              "                                                   'Sales Growth',\n",
              "                                                   'Employee Growth'])])),\n",
              "                ('model',\n",
              "                 RandomForestClassifier(class_weight='balanced', max_depth=5,\n",
              "                                        random_state=123))])"
            ]
          },
          "metadata": {},
          "execution_count": 486
        }
      ]
    },
    {
      "cell_type": "code",
      "metadata": {
        "colab": {
          "base_uri": "https://localhost:8080/"
        },
        "id": "mKsEmKf1l8ib",
        "outputId": "024471a3-62fe-456f-d247-a2388e554a73"
      },
      "source": [
        "# predict probability on X_test\n",
        "y_pred_proba = randsearch_model.predict_proba(X_test)\n",
        "y_pred_proba"
      ],
      "id": "mKsEmKf1l8ib",
      "execution_count": 487,
      "outputs": [
        {
          "output_type": "stream",
          "name": "stdout",
          "text": [
            "capping the  EPS\n",
            "capping the  Liquidity\n",
            "capping the  Profitability\n",
            "capping the  Productivity\n",
            "capping the  Leverage Ratio\n",
            "capping the  Asset Turnover\n",
            "capping the  Operational Margin\n",
            "capping the  Return on Equity\n",
            "capping the  Market Book Ratio\n",
            "capping the  Assets Growth\n",
            "capping the  Sales Growth\n",
            "capping the  Employee Growth\n"
          ]
        },
        {
          "output_type": "execute_result",
          "data": {
            "text/plain": [
              "array([[0.97683677, 0.02316323],\n",
              "       [0.87872018, 0.12127982],\n",
              "       [0.73364706, 0.26635294],\n",
              "       ...,\n",
              "       [0.96572963, 0.03427037],\n",
              "       [0.79579568, 0.20420432],\n",
              "       [0.21901695, 0.78098305]])"
            ]
          },
          "metadata": {},
          "execution_count": 487
        }
      ]
    },
    {
      "cell_type": "code",
      "metadata": {
        "colab": {
          "base_uri": "https://localhost:8080/"
        },
        "id": "3b2JCVFvl8mj",
        "outputId": "8b9535c4-3e53-438f-c890-f8d6f28fce49"
      },
      "source": [
        "roc_auc_score(y_test, y_pred_proba[:,1])"
      ],
      "id": "3b2JCVFvl8mj",
      "execution_count": 488,
      "outputs": [
        {
          "output_type": "execute_result",
          "data": {
            "text/plain": [
              "0.8897010635509118"
            ]
          },
          "metadata": {},
          "execution_count": 488
        }
      ]
    },
    {
      "cell_type": "code",
      "metadata": {
        "colab": {
          "base_uri": "https://localhost:8080/",
          "height": 397
        },
        "id": "7kRi0Tmul8qW",
        "outputId": "c0f4a2a9-baf1-4597-8656-e1149dcaef06"
      },
      "source": [
        "plot_roc(y_test, y_pred_proba[:,1])"
      ],
      "id": "7kRi0Tmul8qW",
      "execution_count": 489,
      "outputs": [
        {
          "output_type": "display_data",
          "data": {
            "text/plain": [
              "<Figure size 600x400 with 1 Axes>"
            ],
            "image/png": "[encoded data removed]"
          },
          "metadata": {}
        }
      ]
    },
    {
      "cell_type": "code",
      "metadata": {
        "colab": {
          "base_uri": "https://localhost:8080/"
        },
        "id": "2N8H6bKYJTJZ",
        "outputId": "91621029-80ac-4c16-ff92-9d74e88b1fb7"
      },
      "source": [
        "# confusion matrix\n",
        "y_pred = np.where(y_pred_proba[:,1] > class_threshold, 1, 0) # applying the threshold rule to classify\n",
        "\n",
        "print(confusion_matrix(y_test, y_pred))"
      ],
      "id": "2N8H6bKYJTJZ",
      "execution_count": 490,
      "outputs": [
        {
          "output_type": "stream",
          "name": "stdout",
          "text": [
            "[[24707  2985]\n",
            " [   47   115]]\n"
          ]
        }
      ]
    },
    {
      "cell_type": "code",
      "metadata": {
        "colab": {
          "base_uri": "https://localhost:8080/"
        },
        "id": "PjDcl_66mful",
        "outputId": "f4a2ccc3-a91c-4459-e37e-036590c2b4f7"
      },
      "source": [
        "tn, fp, fn, tp = confusion_matrix(y_test, y_pred).ravel()\n",
        "tn, fp, fn, tp"
      ],
      "id": "PjDcl_66mful",
      "execution_count": 491,
      "outputs": [
        {
          "output_type": "execute_result",
          "data": {
            "text/plain": [
              "(24707, 2985, 47, 115)"
            ]
          },
          "metadata": {},
          "execution_count": 491
        }
      ]
    },
    {
      "cell_type": "code",
      "metadata": {
        "colab": {
          "base_uri": "https://localhost:8080/"
        },
        "id": "3gdUc4L7M4IE",
        "outputId": "5c3899ca-901f-401d-a67a-4265cda144ed"
      },
      "source": [
        "# classification report\n",
        "print(classification_report(y_test, y_pred))"
      ],
      "id": "3gdUc4L7M4IE",
      "execution_count": 492,
      "outputs": [
        {
          "output_type": "stream",
          "name": "stdout",
          "text": [
            "              precision    recall  f1-score   support\n",
            "\n",
            "           0       1.00      0.89      0.94     27692\n",
            "           1       0.04      0.71      0.07       162\n",
            "\n",
            "    accuracy                           0.89     27854\n",
            "   macro avg       0.52      0.80      0.51     27854\n",
            "weighted avg       0.99      0.89      0.94     27854\n",
            "\n"
          ]
        }
      ]
    },
    {
      "cell_type": "code",
      "source": [
        "# Weighted F1 score\n",
        "f1_score(y_test, y_pred, average='weighted')"
      ],
      "metadata": {
        "colab": {
          "base_uri": "https://localhost:8080/"
        },
        "id": "kYbVn5E2e-F5",
        "outputId": "6a20c960-3442-42ad-8839-91bc826f5261"
      },
      "id": "kYbVn5E2e-F5",
      "execution_count": 493,
      "outputs": [
        {
          "output_type": "execute_result",
          "data": {
            "text/plain": [
              "0.9371184332791092"
            ]
          },
          "metadata": {},
          "execution_count": 493
        }
      ]
    },
    {
      "cell_type": "code",
      "metadata": {
        "colab": {
          "base_uri": "https://localhost:8080/"
        },
        "id": "iUHHeKEjSmT8",
        "outputId": "a4483a22-d12c-4d3b-b7f2-f29f85ada609"
      },
      "source": [
        "# for plotting the one of the tree from RF model\n",
        "randsearch_model.best_estimator_[1].estimators_[1]"
      ],
      "id": "iUHHeKEjSmT8",
      "execution_count": 494,
      "outputs": [
        {
          "output_type": "execute_result",
          "data": {
            "text/plain": [
              "DecisionTreeClassifier(max_depth=5, max_features='auto', random_state=914636141)"
            ]
          },
          "metadata": {},
          "execution_count": 494
        }
      ]
    },
    {
      "cell_type": "code",
      "metadata": {
        "colab": {
          "base_uri": "https://localhost:8080/",
          "height": 936
        },
        "id": "P8tj-t_RLvYe",
        "outputId": "19048c55-d4e8-40a2-d4b9-63bd9764cdfd"
      },
      "source": [
        "# for plotting the one of the tree from RF model\n",
        "import graphviz\n",
        "from sklearn.tree import export_graphviz\n",
        "\n",
        "dot_data = export_graphviz(\n",
        "                           randsearch_model.best_estimator_[1].estimators_[1],\n",
        "                           feature_names = X_train.columns.to_list(),\n",
        "                            class_names = 'BK',\n",
        "                           filled=True, impurity=True, \n",
        "                           rounded=True)\n",
        "\n",
        "graph = graphviz.Source(dot_data, format='png')\n",
        "graph"
      ],
      "id": "P8tj-t_RLvYe",
      "execution_count": 495,
      "outputs": [
        {
          "output_type": "execute_result",
          "data": {
            "text/plain": [
              "<graphviz.files.Source at 0x7f3eeec507c0>"
            ],
            "image/svg+xml": "<?xml version=\"1.0\" encoding=\"UTF-8\" standalone=\"no\"?>\n<!DOCTYPE svg PUBLIC \"-//W3C//DTD SVG 1.1//EN\"\n \"http://www.w3.org/Graphics/SVG/1.1/DTD/svg11.dtd\">\n<!-- Generated by graphviz version 2.43.0 (0)\n -->\n<!-- Title: Tree Pages: 1 -->\n<svg width=\"4510pt\" height=\"671pt\"\n viewBox=\"0.00 0.00 4510.00 671.00\" xmlns=\"http://www.w3.org/2000/svg\" xmlns:xlink=\"http://www.w3.org/1999/xlink\">\n<g id=\"graph0\" class=\"graph\" transform=\"scale(1 1) rotate(0) translate(4 667)\">\n<title>Tree</title>\n<polygon fill=\"white\" stroke=\"transparent\" points=\"-4,4 -4,-667 4506,-667 4506,4 -4,4\"/>\n<!-- 0 -->\n<g id=\"node1\" class=\"node\">\n<title>0</title>\n<path fill=\"#f8fcfe\" stroke=\"black\" d=\"M1910,-663C1910,-663 1727,-663 1727,-663 1721,-663 1715,-657 1715,-651 1715,-651 1715,-592 1715,-592 1715,-586 1721,-580 1727,-580 1727,-580 1910,-580 1910,-580 1916,-580 1922,-586 1922,-592 1922,-592 1922,-651 1922,-651 1922,-657 1916,-663 1910,-663\"/>\n<text text-anchor=\"middle\" x=\"1818.5\" y=\"-647.8\" font-family=\"Helvetica,sans-Serif\" font-size=\"14.00\">Market Book Ratio &lt;= 0.204</text>\n<text text-anchor=\"middle\" x=\"1818.5\" y=\"-632.8\" font-family=\"Helvetica,sans-Serif\" font-size=\"14.00\">gini = 0.5</text>\n<text text-anchor=\"middle\" x=\"1818.5\" y=\"-617.8\" font-family=\"Helvetica,sans-Serif\" font-size=\"14.00\">samples = 40974</text>\n<text text-anchor=\"middle\" x=\"1818.5\" y=\"-602.8\" font-family=\"Helvetica,sans-Serif\" font-size=\"14.00\">value = [32488.457, 33644.331]</text>\n<text text-anchor=\"middle\" x=\"1818.5\" y=\"-587.8\" font-family=\"Helvetica,sans-Serif\" font-size=\"14.00\">class = K</text>\n</g>\n<!-- 1 -->\n<g id=\"node2\" class=\"node\">\n<title>1</title>\n<path fill=\"#73baed\" stroke=\"black\" d=\"M1361.5,-544C1361.5,-544 1185.5,-544 1185.5,-544 1179.5,-544 1173.5,-538 1173.5,-532 1173.5,-532 1173.5,-473 1173.5,-473 1173.5,-467 1179.5,-461 1185.5,-461 1185.5,-461 1361.5,-461 1361.5,-461 1367.5,-461 1373.5,-467 1373.5,-473 1373.5,-473 1373.5,-532 1373.5,-532 1373.5,-538 1367.5,-544 1361.5,-544\"/>\n<text text-anchor=\"middle\" x=\"1273.5\" y=\"-528.8\" font-family=\"Helvetica,sans-Serif\" font-size=\"14.00\">EPS &lt;= 0.218</text>\n<text text-anchor=\"middle\" x=\"1273.5\" y=\"-513.8\" font-family=\"Helvetica,sans-Serif\" font-size=\"14.00\">gini = 0.351</text>\n<text text-anchor=\"middle\" x=\"1273.5\" y=\"-498.8\" font-family=\"Helvetica,sans-Serif\" font-size=\"14.00\">samples = 8387</text>\n<text text-anchor=\"middle\" x=\"1273.5\" y=\"-483.8\" font-family=\"Helvetica,sans-Serif\" font-size=\"14.00\">value = [6531.799, 22238.082]</text>\n<text text-anchor=\"middle\" x=\"1273.5\" y=\"-468.8\" font-family=\"Helvetica,sans-Serif\" font-size=\"14.00\">class = K</text>\n</g>\n<!-- 0&#45;&gt;1 -->\n<g id=\"edge1\" class=\"edge\">\n<title>0&#45;&gt;1</title>\n<path fill=\"none\" stroke=\"black\" d=\"M1714.71,-598.22C1619.91,-577.87 1480.19,-547.87 1383.49,-527.11\"/>\n<polygon fill=\"black\" stroke=\"black\" points=\"1384.2,-523.68 1373.69,-525.01 1382.73,-530.53 1384.2,-523.68\"/>\n<text text-anchor=\"middle\" x=\"1387.26\" y=\"-542.3\" font-family=\"Helvetica,sans-Serif\" font-size=\"14.00\">True</text>\n</g>\n<!-- 24 -->\n<g id=\"node25\" class=\"node\">\n<title>24</title>\n<path fill=\"#f0b890\" stroke=\"black\" d=\"M2726,-544C2726,-544 2543,-544 2543,-544 2537,-544 2531,-538 2531,-532 2531,-532 2531,-473 2531,-473 2531,-467 2537,-461 2543,-461 2543,-461 2726,-461 2726,-461 2732,-461 2738,-467 2738,-473 2738,-473 2738,-532 2738,-532 2738,-538 2732,-544 2726,-544\"/>\n<text text-anchor=\"middle\" x=\"2634.5\" y=\"-528.8\" font-family=\"Helvetica,sans-Serif\" font-size=\"14.00\">Productivity &lt;= 0.385</text>\n<text text-anchor=\"middle\" x=\"2634.5\" y=\"-513.8\" font-family=\"Helvetica,sans-Serif\" font-size=\"14.00\">gini = 0.424</text>\n<text text-anchor=\"middle\" x=\"2634.5\" y=\"-498.8\" font-family=\"Helvetica,sans-Serif\" font-size=\"14.00\">samples = 32587</text>\n<text text-anchor=\"middle\" x=\"2634.5\" y=\"-483.8\" font-family=\"Helvetica,sans-Serif\" font-size=\"14.00\">value = [25956.658, 11406.249]</text>\n<text text-anchor=\"middle\" x=\"2634.5\" y=\"-468.8\" font-family=\"Helvetica,sans-Serif\" font-size=\"14.00\">class = B</text>\n</g>\n<!-- 0&#45;&gt;24 -->\n<g id=\"edge24\" class=\"edge\">\n<title>0&#45;&gt;24</title>\n<path fill=\"none\" stroke=\"black\" d=\"M1922.26,-605.62C2075.57,-583.64 2361.58,-542.63 2520.54,-519.84\"/>\n<polygon fill=\"black\" stroke=\"black\" points=\"2521.42,-523.25 2530.83,-518.37 2520.43,-516.32 2521.42,-523.25\"/>\n<text text-anchor=\"middle\" x=\"2515.84\" y=\"-534.67\" font-family=\"Helvetica,sans-Serif\" font-size=\"14.00\">False</text>\n</g>\n<!-- 2 -->\n<g id=\"node3\" class=\"node\">\n<title>2</title>\n<path fill=\"#50a8e8\" stroke=\"black\" d=\"M1059.5,-425C1059.5,-425 883.5,-425 883.5,-425 877.5,-425 871.5,-419 871.5,-413 871.5,-413 871.5,-354 871.5,-354 871.5,-348 877.5,-342 883.5,-342 883.5,-342 1059.5,-342 1059.5,-342 1065.5,-342 1071.5,-348 1071.5,-354 1071.5,-354 1071.5,-413 1071.5,-413 1071.5,-419 1065.5,-425 1059.5,-425\"/>\n<text text-anchor=\"middle\" x=\"971.5\" y=\"-409.8\" font-family=\"Helvetica,sans-Serif\" font-size=\"14.00\">Liquidity &lt;= 0.89</text>\n<text text-anchor=\"middle\" x=\"971.5\" y=\"-394.8\" font-family=\"Helvetica,sans-Serif\" font-size=\"14.00\">gini = 0.184</text>\n<text text-anchor=\"middle\" x=\"971.5\" y=\"-379.8\" font-family=\"Helvetica,sans-Serif\" font-size=\"14.00\">samples = 2505</text>\n<text text-anchor=\"middle\" x=\"971.5\" y=\"-364.8\" font-family=\"Helvetica,sans-Serif\" font-size=\"14.00\">value = [1886.998, 16575.987]</text>\n<text text-anchor=\"middle\" x=\"971.5\" y=\"-349.8\" font-family=\"Helvetica,sans-Serif\" font-size=\"14.00\">class = K</text>\n</g>\n<!-- 1&#45;&gt;2 -->\n<g id=\"edge2\" class=\"edge\">\n<title>1&#45;&gt;2</title>\n<path fill=\"none\" stroke=\"black\" d=\"M1173.36,-462.7C1143.84,-451.27 1111.39,-438.7 1081.31,-427.04\"/>\n<polygon fill=\"black\" stroke=\"black\" points=\"1082.22,-423.64 1071.63,-423.29 1079.69,-430.17 1082.22,-423.64\"/>\n</g>\n<!-- 11 -->\n<g id=\"node12\" class=\"node\">\n<title>11</title>\n<path fill=\"#dbedfa\" stroke=\"black\" d=\"M1357.5,-425C1357.5,-425 1189.5,-425 1189.5,-425 1183.5,-425 1177.5,-419 1177.5,-413 1177.5,-413 1177.5,-354 1177.5,-354 1177.5,-348 1183.5,-342 1189.5,-342 1189.5,-342 1357.5,-342 1357.5,-342 1363.5,-342 1369.5,-348 1369.5,-354 1369.5,-354 1369.5,-413 1369.5,-413 1369.5,-419 1363.5,-425 1357.5,-425\"/>\n<text text-anchor=\"middle\" x=\"1273.5\" y=\"-409.8\" font-family=\"Helvetica,sans-Serif\" font-size=\"14.00\">Profitability &lt;= 0.529</text>\n<text text-anchor=\"middle\" x=\"1273.5\" y=\"-394.8\" font-family=\"Helvetica,sans-Serif\" font-size=\"14.00\">gini = 0.495</text>\n<text text-anchor=\"middle\" x=\"1273.5\" y=\"-379.8\" font-family=\"Helvetica,sans-Serif\" font-size=\"14.00\">samples = 5882</text>\n<text text-anchor=\"middle\" x=\"1273.5\" y=\"-364.8\" font-family=\"Helvetica,sans-Serif\" font-size=\"14.00\">value = [4644.801, 5662.095]</text>\n<text text-anchor=\"middle\" x=\"1273.5\" y=\"-349.8\" font-family=\"Helvetica,sans-Serif\" font-size=\"14.00\">class = K</text>\n</g>\n<!-- 1&#45;&gt;11 -->\n<g id=\"edge11\" class=\"edge\">\n<title>1&#45;&gt;11</title>\n<path fill=\"none\" stroke=\"black\" d=\"M1273.5,-460.91C1273.5,-452.65 1273.5,-443.86 1273.5,-435.3\"/>\n<polygon fill=\"black\" stroke=\"black\" points=\"1277,-435.02 1273.5,-425.02 1270,-435.02 1277,-435.02\"/>\n</g>\n<!-- 3 -->\n<g id=\"node4\" class=\"node\">\n<title>3</title>\n<path fill=\"#4ea7e8\" stroke=\"black\" d=\"M652.5,-306C652.5,-306 476.5,-306 476.5,-306 470.5,-306 464.5,-300 464.5,-294 464.5,-294 464.5,-235 464.5,-235 464.5,-229 470.5,-223 476.5,-223 476.5,-223 652.5,-223 652.5,-223 658.5,-223 664.5,-229 664.5,-235 664.5,-235 664.5,-294 664.5,-294 664.5,-300 658.5,-306 652.5,-306\"/>\n<text text-anchor=\"middle\" x=\"564.5\" y=\"-290.8\" font-family=\"Helvetica,sans-Serif\" font-size=\"14.00\">Return on Equity &lt;= 0.156</text>\n<text text-anchor=\"middle\" x=\"564.5\" y=\"-275.8\" font-family=\"Helvetica,sans-Serif\" font-size=\"14.00\">gini = 0.171</text>\n<text text-anchor=\"middle\" x=\"564.5\" y=\"-260.8\" font-family=\"Helvetica,sans-Serif\" font-size=\"14.00\">samples = 2291</text>\n<text text-anchor=\"middle\" x=\"564.5\" y=\"-245.8\" font-family=\"Helvetica,sans-Serif\" font-size=\"14.00\">value = [1722.998, 16575.987]</text>\n<text text-anchor=\"middle\" x=\"564.5\" y=\"-230.8\" font-family=\"Helvetica,sans-Serif\" font-size=\"14.00\">class = K</text>\n</g>\n<!-- 2&#45;&gt;3 -->\n<g id=\"edge3\" class=\"edge\">\n<title>2&#45;&gt;3</title>\n<path fill=\"none\" stroke=\"black\" d=\"M871.42,-353.73C811.65,-336.55 735.68,-314.71 674.28,-297.06\"/>\n<polygon fill=\"black\" stroke=\"black\" points=\"675.13,-293.66 664.55,-294.26 673.19,-300.39 675.13,-293.66\"/>\n</g>\n<!-- 10 -->\n<g id=\"node11\" class=\"node\">\n<title>10</title>\n<path fill=\"#e58139\" stroke=\"black\" d=\"M1033,-298.5C1033,-298.5 910,-298.5 910,-298.5 904,-298.5 898,-292.5 898,-286.5 898,-286.5 898,-242.5 898,-242.5 898,-236.5 904,-230.5 910,-230.5 910,-230.5 1033,-230.5 1033,-230.5 1039,-230.5 1045,-236.5 1045,-242.5 1045,-242.5 1045,-286.5 1045,-286.5 1045,-292.5 1039,-298.5 1033,-298.5\"/>\n<text text-anchor=\"middle\" x=\"971.5\" y=\"-283.3\" font-family=\"Helvetica,sans-Serif\" font-size=\"14.00\">gini = &#45;0.0</text>\n<text text-anchor=\"middle\" x=\"971.5\" y=\"-268.3\" font-family=\"Helvetica,sans-Serif\" font-size=\"14.00\">samples = 214</text>\n<text text-anchor=\"middle\" x=\"971.5\" y=\"-253.3\" font-family=\"Helvetica,sans-Serif\" font-size=\"14.00\">value = [163.999, 0.0]</text>\n<text text-anchor=\"middle\" x=\"971.5\" y=\"-238.3\" font-family=\"Helvetica,sans-Serif\" font-size=\"14.00\">class = B</text>\n</g>\n<!-- 2&#45;&gt;10 -->\n<g id=\"edge10\" class=\"edge\">\n<title>2&#45;&gt;10</title>\n<path fill=\"none\" stroke=\"black\" d=\"M971.5,-341.91C971.5,-331.2 971.5,-319.62 971.5,-308.78\"/>\n<polygon fill=\"black\" stroke=\"black\" points=\"975,-308.67 971.5,-298.67 968,-308.67 975,-308.67\"/>\n</g>\n<!-- 4 -->\n<g id=\"node5\" class=\"node\">\n<title>4</title>\n<path fill=\"#49a5e7\" stroke=\"black\" d=\"M353.5,-187C353.5,-187 177.5,-187 177.5,-187 171.5,-187 165.5,-181 165.5,-175 165.5,-175 165.5,-116 165.5,-116 165.5,-110 171.5,-104 177.5,-104 177.5,-104 353.5,-104 353.5,-104 359.5,-104 365.5,-110 365.5,-116 365.5,-116 365.5,-175 365.5,-175 365.5,-181 359.5,-187 353.5,-187\"/>\n<text text-anchor=\"middle\" x=\"265.5\" y=\"-171.8\" font-family=\"Helvetica,sans-Serif\" font-size=\"14.00\">Asset Turnover &lt;= 0.074</text>\n<text text-anchor=\"middle\" x=\"265.5\" y=\"-156.8\" font-family=\"Helvetica,sans-Serif\" font-size=\"14.00\">gini = 0.137</text>\n<text text-anchor=\"middle\" x=\"265.5\" y=\"-141.8\" font-family=\"Helvetica,sans-Serif\" font-size=\"14.00\">samples = 1763</text>\n<text text-anchor=\"middle\" x=\"265.5\" y=\"-126.8\" font-family=\"Helvetica,sans-Serif\" font-size=\"14.00\">value = [1306.964, 16411.869]</text>\n<text text-anchor=\"middle\" x=\"265.5\" y=\"-111.8\" font-family=\"Helvetica,sans-Serif\" font-size=\"14.00\">class = K</text>\n</g>\n<!-- 3&#45;&gt;4 -->\n<g id=\"edge4\" class=\"edge\">\n<title>3&#45;&gt;4</title>\n<path fill=\"none\" stroke=\"black\" d=\"M464.11,-224.22C435.48,-213.01 404.15,-200.75 375.01,-189.35\"/>\n<polygon fill=\"black\" stroke=\"black\" points=\"376.22,-186.07 365.63,-185.68 373.67,-192.58 376.22,-186.07\"/>\n</g>\n<!-- 7 -->\n<g id=\"node8\" class=\"node\">\n<title>7</title>\n<path fill=\"#efb387\" stroke=\"black\" d=\"M644,-187C644,-187 485,-187 485,-187 479,-187 473,-181 473,-175 473,-175 473,-116 473,-116 473,-110 479,-104 485,-104 485,-104 644,-104 644,-104 650,-104 656,-110 656,-116 656,-116 656,-175 656,-175 656,-181 650,-187 644,-187\"/>\n<text text-anchor=\"middle\" x=\"564.5\" y=\"-171.8\" font-family=\"Helvetica,sans-Serif\" font-size=\"14.00\">Employee Growth &lt;= 0.976</text>\n<text text-anchor=\"middle\" x=\"564.5\" y=\"-156.8\" font-family=\"Helvetica,sans-Serif\" font-size=\"14.00\">gini = 0.406</text>\n<text text-anchor=\"middle\" x=\"564.5\" y=\"-141.8\" font-family=\"Helvetica,sans-Serif\" font-size=\"14.00\">samples = 528</text>\n<text text-anchor=\"middle\" x=\"564.5\" y=\"-126.8\" font-family=\"Helvetica,sans-Serif\" font-size=\"14.00\">value = [416.035, 164.119]</text>\n<text text-anchor=\"middle\" x=\"564.5\" y=\"-111.8\" font-family=\"Helvetica,sans-Serif\" font-size=\"14.00\">class = B</text>\n</g>\n<!-- 3&#45;&gt;7 -->\n<g id=\"edge7\" class=\"edge\">\n<title>3&#45;&gt;7</title>\n<path fill=\"none\" stroke=\"black\" d=\"M564.5,-222.91C564.5,-214.65 564.5,-205.86 564.5,-197.3\"/>\n<polygon fill=\"black\" stroke=\"black\" points=\"568,-197.02 564.5,-187.02 561,-197.02 568,-197.02\"/>\n</g>\n<!-- 5 -->\n<g id=\"node6\" class=\"node\">\n<title>5</title>\n<path fill=\"#e58139\" stroke=\"black\" d=\"M135,-68C135,-68 12,-68 12,-68 6,-68 0,-62 0,-56 0,-56 0,-12 0,-12 0,-6 6,0 12,0 12,0 135,0 135,0 141,0 147,-6 147,-12 147,-12 147,-56 147,-56 147,-62 141,-68 135,-68\"/>\n<text text-anchor=\"middle\" x=\"73.5\" y=\"-52.8\" font-family=\"Helvetica,sans-Serif\" font-size=\"14.00\">gini = 0.0</text>\n<text text-anchor=\"middle\" x=\"73.5\" y=\"-37.8\" font-family=\"Helvetica,sans-Serif\" font-size=\"14.00\">samples = 128</text>\n<text text-anchor=\"middle\" x=\"73.5\" y=\"-22.8\" font-family=\"Helvetica,sans-Serif\" font-size=\"14.00\">value = [104.638, 0.0]</text>\n<text text-anchor=\"middle\" x=\"73.5\" y=\"-7.8\" font-family=\"Helvetica,sans-Serif\" font-size=\"14.00\">class = B</text>\n</g>\n<!-- 4&#45;&gt;5 -->\n<g id=\"edge5\" class=\"edge\">\n<title>4&#45;&gt;5</title>\n<path fill=\"none\" stroke=\"black\" d=\"M194.28,-103.88C176.65,-93.83 157.82,-83.09 140.4,-73.16\"/>\n<polygon fill=\"black\" stroke=\"black\" points=\"141.86,-69.96 131.44,-68.04 138.39,-76.04 141.86,-69.96\"/>\n</g>\n<!-- 6 -->\n<g id=\"node7\" class=\"node\">\n<title>6</title>\n<path fill=\"#48a4e7\" stroke=\"black\" d=\"M353.5,-68C353.5,-68 177.5,-68 177.5,-68 171.5,-68 165.5,-62 165.5,-56 165.5,-56 165.5,-12 165.5,-12 165.5,-6 171.5,0 177.5,0 177.5,0 353.5,0 353.5,0 359.5,0 365.5,-6 365.5,-12 365.5,-12 365.5,-56 365.5,-56 365.5,-62 359.5,-68 353.5,-68\"/>\n<text text-anchor=\"middle\" x=\"265.5\" y=\"-52.8\" font-family=\"Helvetica,sans-Serif\" font-size=\"14.00\">gini = 0.127</text>\n<text text-anchor=\"middle\" x=\"265.5\" y=\"-37.8\" font-family=\"Helvetica,sans-Serif\" font-size=\"14.00\">samples = 1635</text>\n<text text-anchor=\"middle\" x=\"265.5\" y=\"-22.8\" font-family=\"Helvetica,sans-Serif\" font-size=\"14.00\">value = [1202.326, 16411.869]</text>\n<text text-anchor=\"middle\" x=\"265.5\" y=\"-7.8\" font-family=\"Helvetica,sans-Serif\" font-size=\"14.00\">class = K</text>\n</g>\n<!-- 4&#45;&gt;6 -->\n<g id=\"edge6\" class=\"edge\">\n<title>4&#45;&gt;6</title>\n<path fill=\"none\" stroke=\"black\" d=\"M265.5,-103.73C265.5,-95.52 265.5,-86.86 265.5,-78.56\"/>\n<polygon fill=\"black\" stroke=\"black\" points=\"269,-78.3 265.5,-68.3 262,-78.3 269,-78.3\"/>\n</g>\n<!-- 8 -->\n<g id=\"node9\" class=\"node\">\n<title>8</title>\n<path fill=\"#ea9b62\" stroke=\"black\" d=\"M541.5,-68C541.5,-68 395.5,-68 395.5,-68 389.5,-68 383.5,-62 383.5,-56 383.5,-56 383.5,-12 383.5,-12 383.5,-6 389.5,0 395.5,0 395.5,0 541.5,0 541.5,0 547.5,0 553.5,-6 553.5,-12 553.5,-12 553.5,-56 553.5,-56 553.5,-62 547.5,-68 541.5,-68\"/>\n<text text-anchor=\"middle\" x=\"468.5\" y=\"-52.8\" font-family=\"Helvetica,sans-Serif\" font-size=\"14.00\">gini = 0.283</text>\n<text text-anchor=\"middle\" x=\"468.5\" y=\"-37.8\" font-family=\"Helvetica,sans-Serif\" font-size=\"14.00\">samples = 505</text>\n<text text-anchor=\"middle\" x=\"468.5\" y=\"-22.8\" font-family=\"Helvetica,sans-Serif\" font-size=\"14.00\">value = [398.931, 82.059]</text>\n<text text-anchor=\"middle\" x=\"468.5\" y=\"-7.8\" font-family=\"Helvetica,sans-Serif\" font-size=\"14.00\">class = B</text>\n</g>\n<!-- 7&#45;&gt;8 -->\n<g id=\"edge8\" class=\"edge\">\n<title>7&#45;&gt;8</title>\n<path fill=\"none\" stroke=\"black\" d=\"M528.75,-103.73C520.84,-94.7 512.44,-85.12 504.52,-76.08\"/>\n<polygon fill=\"black\" stroke=\"black\" points=\"506.92,-73.51 497.69,-68.3 501.65,-78.13 506.92,-73.51\"/>\n</g>\n<!-- 9 -->\n<g id=\"node10\" class=\"node\">\n<title>9</title>\n<path fill=\"#62b1ea\" stroke=\"black\" d=\"M721.5,-68C721.5,-68 583.5,-68 583.5,-68 577.5,-68 571.5,-62 571.5,-56 571.5,-56 571.5,-12 571.5,-12 571.5,-6 577.5,0 583.5,0 583.5,0 721.5,0 721.5,0 727.5,0 733.5,-6 733.5,-12 733.5,-12 733.5,-56 733.5,-56 733.5,-62 727.5,-68 721.5,-68\"/>\n<text text-anchor=\"middle\" x=\"652.5\" y=\"-52.8\" font-family=\"Helvetica,sans-Serif\" font-size=\"14.00\">gini = 0.285</text>\n<text text-anchor=\"middle\" x=\"652.5\" y=\"-37.8\" font-family=\"Helvetica,sans-Serif\" font-size=\"14.00\">samples = 23</text>\n<text text-anchor=\"middle\" x=\"652.5\" y=\"-22.8\" font-family=\"Helvetica,sans-Serif\" font-size=\"14.00\">value = [17.104, 82.059]</text>\n<text text-anchor=\"middle\" x=\"652.5\" y=\"-7.8\" font-family=\"Helvetica,sans-Serif\" font-size=\"14.00\">class = K</text>\n</g>\n<!-- 7&#45;&gt;9 -->\n<g id=\"edge9\" class=\"edge\">\n<title>7&#45;&gt;9</title>\n<path fill=\"none\" stroke=\"black\" d=\"M597.27,-103.73C604.45,-94.79 612.06,-85.32 619.26,-76.36\"/>\n<polygon fill=\"black\" stroke=\"black\" points=\"622.2,-78.29 625.74,-68.3 616.75,-73.9 622.2,-78.29\"/>\n</g>\n<!-- 12 -->\n<g id=\"node13\" class=\"node\">\n<title>12</title>\n<path fill=\"#9bcef2\" stroke=\"black\" d=\"M1300.5,-306C1300.5,-306 1132.5,-306 1132.5,-306 1126.5,-306 1120.5,-300 1120.5,-294 1120.5,-294 1120.5,-235 1120.5,-235 1120.5,-229 1126.5,-223 1132.5,-223 1132.5,-223 1300.5,-223 1300.5,-223 1306.5,-223 1312.5,-229 1312.5,-235 1312.5,-235 1312.5,-294 1312.5,-294 1312.5,-300 1306.5,-306 1300.5,-306\"/>\n<text text-anchor=\"middle\" x=\"1216.5\" y=\"-290.8\" font-family=\"Helvetica,sans-Serif\" font-size=\"14.00\">Profitability &lt;= 0.06</text>\n<text text-anchor=\"middle\" x=\"1216.5\" y=\"-275.8\" font-family=\"Helvetica,sans-Serif\" font-size=\"14.00\">gini = 0.443</text>\n<text text-anchor=\"middle\" x=\"1216.5\" y=\"-260.8\" font-family=\"Helvetica,sans-Serif\" font-size=\"14.00\">samples = 3496</text>\n<text text-anchor=\"middle\" x=\"1216.5\" y=\"-245.8\" font-family=\"Helvetica,sans-Serif\" font-size=\"14.00\">value = [2767.865, 5580.035]</text>\n<text text-anchor=\"middle\" x=\"1216.5\" y=\"-230.8\" font-family=\"Helvetica,sans-Serif\" font-size=\"14.00\">class = K</text>\n</g>\n<!-- 11&#45;&gt;12 -->\n<g id=\"edge12\" class=\"edge\">\n<title>11&#45;&gt;12</title>\n<path fill=\"none\" stroke=\"black\" d=\"M1253.72,-341.91C1249.52,-333.29 1245.04,-324.09 1240.7,-315.17\"/>\n<polygon fill=\"black\" stroke=\"black\" points=\"1243.77,-313.48 1236.24,-306.02 1237.47,-316.54 1243.77,-313.48\"/>\n</g>\n<!-- 19 -->\n<g id=\"node20\" class=\"node\">\n<title>19</title>\n<path fill=\"#e68742\" stroke=\"black\" d=\"M1496,-306C1496,-306 1343,-306 1343,-306 1337,-306 1331,-300 1331,-294 1331,-294 1331,-235 1331,-235 1331,-229 1337,-223 1343,-223 1343,-223 1496,-223 1496,-223 1502,-223 1508,-229 1508,-235 1508,-235 1508,-294 1508,-294 1508,-300 1502,-306 1496,-306\"/>\n<text text-anchor=\"middle\" x=\"1419.5\" y=\"-290.8\" font-family=\"Helvetica,sans-Serif\" font-size=\"14.00\">Assets Growth &lt;= 0.808</text>\n<text text-anchor=\"middle\" x=\"1419.5\" y=\"-275.8\" font-family=\"Helvetica,sans-Serif\" font-size=\"14.00\">gini = 0.08</text>\n<text text-anchor=\"middle\" x=\"1419.5\" y=\"-260.8\" font-family=\"Helvetica,sans-Serif\" font-size=\"14.00\">samples = 2386</text>\n<text text-anchor=\"middle\" x=\"1419.5\" y=\"-245.8\" font-family=\"Helvetica,sans-Serif\" font-size=\"14.00\">value = [1876.936, 82.059]</text>\n<text text-anchor=\"middle\" x=\"1419.5\" y=\"-230.8\" font-family=\"Helvetica,sans-Serif\" font-size=\"14.00\">class = B</text>\n</g>\n<!-- 11&#45;&gt;19 -->\n<g id=\"edge19\" class=\"edge\">\n<title>11&#45;&gt;19</title>\n<path fill=\"none\" stroke=\"black\" d=\"M1324.15,-341.91C1336.04,-332.38 1348.81,-322.15 1361.01,-312.37\"/>\n<polygon fill=\"black\" stroke=\"black\" points=\"1363.32,-315.01 1368.94,-306.02 1358.94,-309.54 1363.32,-315.01\"/>\n</g>\n<!-- 13 -->\n<g id=\"node14\" class=\"node\">\n<title>13</title>\n<path fill=\"#eb9d66\" stroke=\"black\" d=\"M1095,-187C1095,-187 934,-187 934,-187 928,-187 922,-181 922,-175 922,-175 922,-116 922,-116 922,-110 928,-104 934,-104 934,-104 1095,-104 1095,-104 1101,-104 1107,-110 1107,-116 1107,-116 1107,-175 1107,-175 1107,-181 1101,-187 1095,-187\"/>\n<text text-anchor=\"middle\" x=\"1014.5\" y=\"-171.8\" font-family=\"Helvetica,sans-Serif\" font-size=\"14.00\">EPS &lt;= 0.349</text>\n<text text-anchor=\"middle\" x=\"1014.5\" y=\"-156.8\" font-family=\"Helvetica,sans-Serif\" font-size=\"14.00\">gini = 0.3</text>\n<text text-anchor=\"middle\" x=\"1014.5\" y=\"-141.8\" font-family=\"Helvetica,sans-Serif\" font-size=\"14.00\">samples = 1361</text>\n<text text-anchor=\"middle\" x=\"1014.5\" y=\"-126.8\" font-family=\"Helvetica,sans-Serif\" font-size=\"14.00\">value = [1092.155, 246.178]</text>\n<text text-anchor=\"middle\" x=\"1014.5\" y=\"-111.8\" font-family=\"Helvetica,sans-Serif\" font-size=\"14.00\">class = B</text>\n</g>\n<!-- 12&#45;&gt;13 -->\n<g id=\"edge13\" class=\"edge\">\n<title>12&#45;&gt;13</title>\n<path fill=\"none\" stroke=\"black\" d=\"M1146.42,-222.91C1129.34,-213.02 1110.96,-202.37 1093.49,-192.25\"/>\n<polygon fill=\"black\" stroke=\"black\" points=\"1094.87,-189 1084.46,-187.02 1091.36,-195.06 1094.87,-189\"/>\n</g>\n<!-- 16 -->\n<g id=\"node17\" class=\"node\">\n<title>16</title>\n<path fill=\"#77bced\" stroke=\"black\" d=\"M1298,-187C1298,-187 1137,-187 1137,-187 1131,-187 1125,-181 1125,-175 1125,-175 1125,-116 1125,-116 1125,-110 1131,-104 1137,-104 1137,-104 1298,-104 1298,-104 1304,-104 1310,-110 1310,-116 1310,-116 1310,-175 1310,-175 1310,-181 1304,-187 1298,-187\"/>\n<text text-anchor=\"middle\" x=\"1217.5\" y=\"-171.8\" font-family=\"Helvetica,sans-Serif\" font-size=\"14.00\">Employee Growth &lt;= 0.206</text>\n<text text-anchor=\"middle\" x=\"1217.5\" y=\"-156.8\" font-family=\"Helvetica,sans-Serif\" font-size=\"14.00\">gini = 0.364</text>\n<text text-anchor=\"middle\" x=\"1217.5\" y=\"-141.8\" font-family=\"Helvetica,sans-Serif\" font-size=\"14.00\">samples = 2135</text>\n<text text-anchor=\"middle\" x=\"1217.5\" y=\"-126.8\" font-family=\"Helvetica,sans-Serif\" font-size=\"14.00\">value = [1675.71, 5333.857]</text>\n<text text-anchor=\"middle\" x=\"1217.5\" y=\"-111.8\" font-family=\"Helvetica,sans-Serif\" font-size=\"14.00\">class = K</text>\n</g>\n<!-- 12&#45;&gt;16 -->\n<g id=\"edge16\" class=\"edge\">\n<title>12&#45;&gt;16</title>\n<path fill=\"none\" stroke=\"black\" d=\"M1216.85,-222.91C1216.92,-214.65 1216.99,-205.86 1217.07,-197.3\"/>\n<polygon fill=\"black\" stroke=\"black\" points=\"1220.57,-197.05 1217.15,-187.02 1213.57,-196.99 1220.57,-197.05\"/>\n</g>\n<!-- 14 -->\n<g id=\"node15\" class=\"node\">\n<title>14</title>\n<path fill=\"#efb286\" stroke=\"black\" d=\"M917,-68C917,-68 764,-68 764,-68 758,-68 752,-62 752,-56 752,-56 752,-12 752,-12 752,-6 758,0 764,0 764,0 917,0 917,0 923,0 929,-6 929,-12 929,-12 929,-56 929,-56 929,-62 923,-68 917,-68\"/>\n<text text-anchor=\"middle\" x=\"840.5\" y=\"-52.8\" font-family=\"Helvetica,sans-Serif\" font-size=\"14.00\">gini = 0.402</text>\n<text text-anchor=\"middle\" x=\"840.5\" y=\"-37.8\" font-family=\"Helvetica,sans-Serif\" font-size=\"14.00\">samples = 804</text>\n<text text-anchor=\"middle\" x=\"840.5\" y=\"-22.8\" font-family=\"Helvetica,sans-Serif\" font-size=\"14.00\">value = [635.874, 246.178]</text>\n<text text-anchor=\"middle\" x=\"840.5\" y=\"-7.8\" font-family=\"Helvetica,sans-Serif\" font-size=\"14.00\">class = B</text>\n</g>\n<!-- 13&#45;&gt;14 -->\n<g id=\"edge14\" class=\"edge\">\n<title>13&#45;&gt;14</title>\n<path fill=\"none\" stroke=\"black\" d=\"M949.71,-103.73C933.97,-93.82 917.2,-83.27 901.64,-73.48\"/>\n<polygon fill=\"black\" stroke=\"black\" points=\"903.47,-70.49 893.14,-68.13 899.74,-76.41 903.47,-70.49\"/>\n</g>\n<!-- 15 -->\n<g id=\"node16\" class=\"node\">\n<title>15</title>\n<path fill=\"#e58139\" stroke=\"black\" d=\"M1075.5,-68C1075.5,-68 959.5,-68 959.5,-68 953.5,-68 947.5,-62 947.5,-56 947.5,-56 947.5,-12 947.5,-12 947.5,-6 953.5,0 959.5,0 959.5,0 1075.5,0 1075.5,0 1081.5,0 1087.5,-6 1087.5,-12 1087.5,-12 1087.5,-56 1087.5,-56 1087.5,-62 1081.5,-68 1075.5,-68\"/>\n<text text-anchor=\"middle\" x=\"1017.5\" y=\"-52.8\" font-family=\"Helvetica,sans-Serif\" font-size=\"14.00\">gini = &#45;0.0</text>\n<text text-anchor=\"middle\" x=\"1017.5\" y=\"-37.8\" font-family=\"Helvetica,sans-Serif\" font-size=\"14.00\">samples = 557</text>\n<text text-anchor=\"middle\" x=\"1017.5\" y=\"-22.8\" font-family=\"Helvetica,sans-Serif\" font-size=\"14.00\">value = [456.28, 0.0]</text>\n<text text-anchor=\"middle\" x=\"1017.5\" y=\"-7.8\" font-family=\"Helvetica,sans-Serif\" font-size=\"14.00\">class = B</text>\n</g>\n<!-- 13&#45;&gt;15 -->\n<g id=\"edge15\" class=\"edge\">\n<title>13&#45;&gt;15</title>\n<path fill=\"none\" stroke=\"black\" d=\"M1015.62,-103.73C1015.84,-95.52 1016.08,-86.86 1016.31,-78.56\"/>\n<polygon fill=\"black\" stroke=\"black\" points=\"1019.81,-78.39 1016.59,-68.3 1012.82,-78.2 1019.81,-78.39\"/>\n</g>\n<!-- 17 -->\n<g id=\"node18\" class=\"node\">\n<title>17</title>\n<path fill=\"#56abe9\" stroke=\"black\" d=\"M1279,-68C1279,-68 1118,-68 1118,-68 1112,-68 1106,-62 1106,-56 1106,-56 1106,-12 1106,-12 1106,-6 1112,0 1118,0 1118,0 1279,0 1279,0 1285,0 1291,-6 1291,-12 1291,-12 1291,-56 1291,-56 1291,-62 1285,-68 1279,-68\"/>\n<text text-anchor=\"middle\" x=\"1198.5\" y=\"-52.8\" font-family=\"Helvetica,sans-Serif\" font-size=\"14.00\">gini = 0.222</text>\n<text text-anchor=\"middle\" x=\"1198.5\" y=\"-37.8\" font-family=\"Helvetica,sans-Serif\" font-size=\"14.00\">samples = 597</text>\n<text text-anchor=\"middle\" x=\"1198.5\" y=\"-22.8\" font-family=\"Helvetica,sans-Serif\" font-size=\"14.00\">value = [467.348, 3200.314]</text>\n<text text-anchor=\"middle\" x=\"1198.5\" y=\"-7.8\" font-family=\"Helvetica,sans-Serif\" font-size=\"14.00\">class = K</text>\n</g>\n<!-- 16&#45;&gt;17 -->\n<g id=\"edge17\" class=\"edge\">\n<title>16&#45;&gt;17</title>\n<path fill=\"none\" stroke=\"black\" d=\"M1210.43,-103.73C1208.98,-95.43 1207.47,-86.67 1206.01,-78.28\"/>\n<polygon fill=\"black\" stroke=\"black\" points=\"1209.44,-77.55 1204.28,-68.3 1202.54,-78.75 1209.44,-77.55\"/>\n</g>\n<!-- 18 -->\n<g id=\"node19\" class=\"node\">\n<title>18</title>\n<path fill=\"#a9d5f4\" stroke=\"black\" d=\"M1489.5,-68C1489.5,-68 1321.5,-68 1321.5,-68 1315.5,-68 1309.5,-62 1309.5,-56 1309.5,-56 1309.5,-12 1309.5,-12 1309.5,-6 1315.5,0 1321.5,0 1321.5,0 1489.5,0 1489.5,0 1495.5,0 1501.5,-6 1501.5,-12 1501.5,-12 1501.5,-56 1501.5,-56 1501.5,-62 1495.5,-68 1489.5,-68\"/>\n<text text-anchor=\"middle\" x=\"1405.5\" y=\"-52.8\" font-family=\"Helvetica,sans-Serif\" font-size=\"14.00\">gini = 0.462</text>\n<text text-anchor=\"middle\" x=\"1405.5\" y=\"-37.8\" font-family=\"Helvetica,sans-Serif\" font-size=\"14.00\">samples = 1538</text>\n<text text-anchor=\"middle\" x=\"1405.5\" y=\"-22.8\" font-family=\"Helvetica,sans-Serif\" font-size=\"14.00\">value = [1208.363, 2133.543]</text>\n<text text-anchor=\"middle\" x=\"1405.5\" y=\"-7.8\" font-family=\"Helvetica,sans-Serif\" font-size=\"14.00\">class = K</text>\n</g>\n<!-- 16&#45;&gt;18 -->\n<g id=\"edge18\" class=\"edge\">\n<title>16&#45;&gt;18</title>\n<path fill=\"none\" stroke=\"black\" d=\"M1287.24,-103.88C1304.5,-93.83 1322.94,-83.09 1339.99,-73.16\"/>\n<polygon fill=\"black\" stroke=\"black\" points=\"1341.89,-76.1 1348.77,-68.04 1338.37,-70.05 1341.89,-76.1\"/>\n</g>\n<!-- 20 -->\n<g id=\"node21\" class=\"node\">\n<title>20</title>\n<path fill=\"#e58139\" stroke=\"black\" d=\"M1476,-179.5C1476,-179.5 1353,-179.5 1353,-179.5 1347,-179.5 1341,-173.5 1341,-167.5 1341,-167.5 1341,-123.5 1341,-123.5 1341,-117.5 1347,-111.5 1353,-111.5 1353,-111.5 1476,-111.5 1476,-111.5 1482,-111.5 1488,-117.5 1488,-123.5 1488,-123.5 1488,-167.5 1488,-167.5 1488,-173.5 1482,-179.5 1476,-179.5\"/>\n<text text-anchor=\"middle\" x=\"1414.5\" y=\"-164.3\" font-family=\"Helvetica,sans-Serif\" font-size=\"14.00\">gini = 0.0</text>\n<text text-anchor=\"middle\" x=\"1414.5\" y=\"-149.3\" font-family=\"Helvetica,sans-Serif\" font-size=\"14.00\">samples = 2131</text>\n<text text-anchor=\"middle\" x=\"1414.5\" y=\"-134.3\" font-family=\"Helvetica,sans-Serif\" font-size=\"14.00\">value = [1675.71, 0.0]</text>\n<text text-anchor=\"middle\" x=\"1414.5\" y=\"-119.3\" font-family=\"Helvetica,sans-Serif\" font-size=\"14.00\">class = B</text>\n</g>\n<!-- 19&#45;&gt;20 -->\n<g id=\"edge20\" class=\"edge\">\n<title>19&#45;&gt;20</title>\n<path fill=\"none\" stroke=\"black\" d=\"M1417.77,-222.91C1417.31,-212.2 1416.81,-200.62 1416.35,-189.78\"/>\n<polygon fill=\"black\" stroke=\"black\" points=\"1419.84,-189.51 1415.92,-179.67 1412.85,-189.81 1419.84,-189.51\"/>\n</g>\n<!-- 21 -->\n<g id=\"node22\" class=\"node\">\n<title>21</title>\n<path fill=\"#f0b48a\" stroke=\"black\" d=\"M1664.5,-187C1664.5,-187 1518.5,-187 1518.5,-187 1512.5,-187 1506.5,-181 1506.5,-175 1506.5,-175 1506.5,-116 1506.5,-116 1506.5,-110 1512.5,-104 1518.5,-104 1518.5,-104 1664.5,-104 1664.5,-104 1670.5,-104 1676.5,-110 1676.5,-116 1676.5,-116 1676.5,-175 1676.5,-175 1676.5,-181 1670.5,-187 1664.5,-187\"/>\n<text text-anchor=\"middle\" x=\"1591.5\" y=\"-171.8\" font-family=\"Helvetica,sans-Serif\" font-size=\"14.00\">Assets Growth &lt;= 0.808</text>\n<text text-anchor=\"middle\" x=\"1591.5\" y=\"-156.8\" font-family=\"Helvetica,sans-Serif\" font-size=\"14.00\">gini = 0.412</text>\n<text text-anchor=\"middle\" x=\"1591.5\" y=\"-141.8\" font-family=\"Helvetica,sans-Serif\" font-size=\"14.00\">samples = 255</text>\n<text text-anchor=\"middle\" x=\"1591.5\" y=\"-126.8\" font-family=\"Helvetica,sans-Serif\" font-size=\"14.00\">value = [201.226, 82.059]</text>\n<text text-anchor=\"middle\" x=\"1591.5\" y=\"-111.8\" font-family=\"Helvetica,sans-Serif\" font-size=\"14.00\">class = B</text>\n</g>\n<!-- 19&#45;&gt;21 -->\n<g id=\"edge21\" class=\"edge\">\n<title>19&#45;&gt;21</title>\n<path fill=\"none\" stroke=\"black\" d=\"M1479.17,-222.91C1493.45,-213.2 1508.8,-202.76 1523.42,-192.81\"/>\n<polygon fill=\"black\" stroke=\"black\" points=\"1525.63,-195.54 1531.93,-187.02 1521.69,-189.75 1525.63,-195.54\"/>\n</g>\n<!-- 22 -->\n<g id=\"node23\" class=\"node\">\n<title>22</title>\n<path fill=\"#399de5\" stroke=\"black\" d=\"M1647.5,-68C1647.5,-68 1531.5,-68 1531.5,-68 1525.5,-68 1519.5,-62 1519.5,-56 1519.5,-56 1519.5,-12 1519.5,-12 1519.5,-6 1525.5,0 1531.5,0 1531.5,0 1647.5,0 1647.5,0 1653.5,0 1659.5,-6 1659.5,-12 1659.5,-12 1659.5,-56 1659.5,-56 1659.5,-62 1653.5,-68 1647.5,-68\"/>\n<text text-anchor=\"middle\" x=\"1589.5\" y=\"-52.8\" font-family=\"Helvetica,sans-Serif\" font-size=\"14.00\">gini = 0.0</text>\n<text text-anchor=\"middle\" x=\"1589.5\" y=\"-37.8\" font-family=\"Helvetica,sans-Serif\" font-size=\"14.00\">samples = 1</text>\n<text text-anchor=\"middle\" x=\"1589.5\" y=\"-22.8\" font-family=\"Helvetica,sans-Serif\" font-size=\"14.00\">value = [0.0, 82.059]</text>\n<text text-anchor=\"middle\" x=\"1589.5\" y=\"-7.8\" font-family=\"Helvetica,sans-Serif\" font-size=\"14.00\">class = K</text>\n</g>\n<!-- 21&#45;&gt;22 -->\n<g id=\"edge22\" class=\"edge\">\n<title>21&#45;&gt;22</title>\n<path fill=\"none\" stroke=\"black\" d=\"M1590.76,-103.73C1590.61,-95.52 1590.45,-86.86 1590.3,-78.56\"/>\n<polygon fill=\"black\" stroke=\"black\" points=\"1593.79,-78.23 1590.11,-68.3 1586.79,-78.36 1593.79,-78.23\"/>\n</g>\n<!-- 23 -->\n<g id=\"node24\" class=\"node\">\n<title>23</title>\n<path fill=\"#e58139\" stroke=\"black\" d=\"M1813,-68C1813,-68 1690,-68 1690,-68 1684,-68 1678,-62 1678,-56 1678,-56 1678,-12 1678,-12 1678,-6 1684,0 1690,0 1690,0 1813,0 1813,0 1819,0 1825,-6 1825,-12 1825,-12 1825,-56 1825,-56 1825,-62 1819,-68 1813,-68\"/>\n<text text-anchor=\"middle\" x=\"1751.5\" y=\"-52.8\" font-family=\"Helvetica,sans-Serif\" font-size=\"14.00\">gini = 0.0</text>\n<text text-anchor=\"middle\" x=\"1751.5\" y=\"-37.8\" font-family=\"Helvetica,sans-Serif\" font-size=\"14.00\">samples = 254</text>\n<text text-anchor=\"middle\" x=\"1751.5\" y=\"-22.8\" font-family=\"Helvetica,sans-Serif\" font-size=\"14.00\">value = [201.226, 0.0]</text>\n<text text-anchor=\"middle\" x=\"1751.5\" y=\"-7.8\" font-family=\"Helvetica,sans-Serif\" font-size=\"14.00\">class = B</text>\n</g>\n<!-- 21&#45;&gt;23 -->\n<g id=\"edge23\" class=\"edge\">\n<title>21&#45;&gt;23</title>\n<path fill=\"none\" stroke=\"black\" d=\"M1651.08,-103.73C1665.28,-94.01 1680.4,-83.66 1694.48,-74.02\"/>\n<polygon fill=\"black\" stroke=\"black\" points=\"1696.82,-76.66 1703.1,-68.13 1692.87,-70.88 1696.82,-76.66\"/>\n</g>\n<!-- 25 -->\n<g id=\"node26\" class=\"node\">\n<title>25</title>\n<path fill=\"#dcedfa\" stroke=\"black\" d=\"M2722.5,-425C2722.5,-425 2546.5,-425 2546.5,-425 2540.5,-425 2534.5,-419 2534.5,-413 2534.5,-413 2534.5,-354 2534.5,-354 2534.5,-348 2540.5,-342 2546.5,-342 2546.5,-342 2722.5,-342 2722.5,-342 2728.5,-342 2734.5,-348 2734.5,-354 2734.5,-354 2734.5,-413 2734.5,-413 2734.5,-419 2728.5,-425 2722.5,-425\"/>\n<text text-anchor=\"middle\" x=\"2634.5\" y=\"-409.8\" font-family=\"Helvetica,sans-Serif\" font-size=\"14.00\">Asset Turnover &lt;= 0.598</text>\n<text text-anchor=\"middle\" x=\"2634.5\" y=\"-394.8\" font-family=\"Helvetica,sans-Serif\" font-size=\"14.00\">gini = 0.495</text>\n<text text-anchor=\"middle\" x=\"2634.5\" y=\"-379.8\" font-family=\"Helvetica,sans-Serif\" font-size=\"14.00\">samples = 10748</text>\n<text text-anchor=\"middle\" x=\"2634.5\" y=\"-364.8\" font-family=\"Helvetica,sans-Serif\" font-size=\"14.00\">value = [8486.711, 10339.477]</text>\n<text text-anchor=\"middle\" x=\"2634.5\" y=\"-349.8\" font-family=\"Helvetica,sans-Serif\" font-size=\"14.00\">class = K</text>\n</g>\n<!-- 24&#45;&gt;25 -->\n<g id=\"edge25\" class=\"edge\">\n<title>24&#45;&gt;25</title>\n<path fill=\"none\" stroke=\"black\" d=\"M2634.5,-460.91C2634.5,-452.65 2634.5,-443.86 2634.5,-435.3\"/>\n<polygon fill=\"black\" stroke=\"black\" points=\"2638,-435.02 2634.5,-425.02 2631,-435.02 2638,-435.02\"/>\n</g>\n<!-- 40 -->\n<g id=\"node41\" class=\"node\">\n<title>40</title>\n<path fill=\"#e78945\" stroke=\"black\" d=\"M3837.5,-425C3837.5,-425 3661.5,-425 3661.5,-425 3655.5,-425 3649.5,-419 3649.5,-413 3649.5,-413 3649.5,-354 3649.5,-354 3649.5,-348 3655.5,-342 3661.5,-342 3661.5,-342 3837.5,-342 3837.5,-342 3843.5,-342 3849.5,-348 3849.5,-354 3849.5,-354 3849.5,-413 3849.5,-413 3849.5,-419 3843.5,-425 3837.5,-425\"/>\n<text text-anchor=\"middle\" x=\"3749.5\" y=\"-409.8\" font-family=\"Helvetica,sans-Serif\" font-size=\"14.00\">Assets Growth &lt;= 0.84</text>\n<text text-anchor=\"middle\" x=\"3749.5\" y=\"-394.8\" font-family=\"Helvetica,sans-Serif\" font-size=\"14.00\">gini = 0.108</text>\n<text text-anchor=\"middle\" x=\"3749.5\" y=\"-379.8\" font-family=\"Helvetica,sans-Serif\" font-size=\"14.00\">samples = 21839</text>\n<text text-anchor=\"middle\" x=\"3749.5\" y=\"-364.8\" font-family=\"Helvetica,sans-Serif\" font-size=\"14.00\">value = [17469.947, 1066.771]</text>\n<text text-anchor=\"middle\" x=\"3749.5\" y=\"-349.8\" font-family=\"Helvetica,sans-Serif\" font-size=\"14.00\">class = B</text>\n</g>\n<!-- 24&#45;&gt;40 -->\n<g id=\"edge40\" class=\"edge\">\n<title>24&#45;&gt;40</title>\n<path fill=\"none\" stroke=\"black\" d=\"M2738.4,-490.6C2948.87,-468.51 3423.87,-418.67 3639.42,-396.05\"/>\n<polygon fill=\"black\" stroke=\"black\" points=\"3639.91,-399.52 3649.49,-394.99 3639.18,-392.56 3639.91,-399.52\"/>\n</g>\n<!-- 26 -->\n<g id=\"node27\" class=\"node\">\n<title>26</title>\n<path fill=\"#fbeade\" stroke=\"black\" d=\"M2523.5,-306C2523.5,-306 2355.5,-306 2355.5,-306 2349.5,-306 2343.5,-300 2343.5,-294 2343.5,-294 2343.5,-235 2343.5,-235 2343.5,-229 2349.5,-223 2355.5,-223 2355.5,-223 2523.5,-223 2523.5,-223 2529.5,-223 2535.5,-229 2535.5,-235 2535.5,-235 2535.5,-294 2535.5,-294 2535.5,-300 2529.5,-306 2523.5,-306\"/>\n<text text-anchor=\"middle\" x=\"2439.5\" y=\"-290.8\" font-family=\"Helvetica,sans-Serif\" font-size=\"14.00\">Return on Equity &lt;= 0.161</text>\n<text text-anchor=\"middle\" x=\"2439.5\" y=\"-275.8\" font-family=\"Helvetica,sans-Serif\" font-size=\"14.00\">gini = 0.496</text>\n<text text-anchor=\"middle\" x=\"2439.5\" y=\"-260.8\" font-family=\"Helvetica,sans-Serif\" font-size=\"14.00\">samples = 8578</text>\n<text text-anchor=\"middle\" x=\"2439.5\" y=\"-245.8\" font-family=\"Helvetica,sans-Serif\" font-size=\"14.00\">value = [6791.884, 5662.095]</text>\n<text text-anchor=\"middle\" x=\"2439.5\" y=\"-230.8\" font-family=\"Helvetica,sans-Serif\" font-size=\"14.00\">class = B</text>\n</g>\n<!-- 25&#45;&gt;26 -->\n<g id=\"edge26\" class=\"edge\">\n<title>25&#45;&gt;26</title>\n<path fill=\"none\" stroke=\"black\" d=\"M2566.85,-341.91C2550.36,-332.02 2532.61,-321.37 2515.76,-311.25\"/>\n<polygon fill=\"black\" stroke=\"black\" points=\"2517.41,-308.16 2507.03,-306.02 2513.81,-314.17 2517.41,-308.16\"/>\n</g>\n<!-- 33 -->\n<g id=\"node34\" class=\"node\">\n<title>33</title>\n<path fill=\"#81c1ee\" stroke=\"black\" d=\"M2913.5,-306C2913.5,-306 2745.5,-306 2745.5,-306 2739.5,-306 2733.5,-300 2733.5,-294 2733.5,-294 2733.5,-235 2733.5,-235 2733.5,-229 2739.5,-223 2745.5,-223 2745.5,-223 2913.5,-223 2913.5,-223 2919.5,-223 2925.5,-229 2925.5,-235 2925.5,-235 2925.5,-294 2925.5,-294 2925.5,-300 2919.5,-306 2913.5,-306\"/>\n<text text-anchor=\"middle\" x=\"2829.5\" y=\"-290.8\" font-family=\"Helvetica,sans-Serif\" font-size=\"14.00\">Return on Equity &lt;= 0.162</text>\n<text text-anchor=\"middle\" x=\"2829.5\" y=\"-275.8\" font-family=\"Helvetica,sans-Serif\" font-size=\"14.00\">gini = 0.39</text>\n<text text-anchor=\"middle\" x=\"2829.5\" y=\"-260.8\" font-family=\"Helvetica,sans-Serif\" font-size=\"14.00\">samples = 2170</text>\n<text text-anchor=\"middle\" x=\"2829.5\" y=\"-245.8\" font-family=\"Helvetica,sans-Serif\" font-size=\"14.00\">value = [1694.827, 4677.383]</text>\n<text text-anchor=\"middle\" x=\"2829.5\" y=\"-230.8\" font-family=\"Helvetica,sans-Serif\" font-size=\"14.00\">class = K</text>\n</g>\n<!-- 25&#45;&gt;33 -->\n<g id=\"edge33\" class=\"edge\">\n<title>25&#45;&gt;33</title>\n<path fill=\"none\" stroke=\"black\" d=\"M2702.15,-341.91C2718.64,-332.02 2736.39,-321.37 2753.24,-311.25\"/>\n<polygon fill=\"black\" stroke=\"black\" points=\"2755.19,-314.17 2761.97,-306.02 2751.59,-308.16 2755.19,-314.17\"/>\n</g>\n<!-- 27 -->\n<g id=\"node28\" class=\"node\">\n<title>27</title>\n<path fill=\"#a3d1f3\" stroke=\"black\" d=\"M2211.5,-187C2211.5,-187 2043.5,-187 2043.5,-187 2037.5,-187 2031.5,-181 2031.5,-175 2031.5,-175 2031.5,-116 2031.5,-116 2031.5,-110 2037.5,-104 2043.5,-104 2043.5,-104 2211.5,-104 2211.5,-104 2217.5,-104 2223.5,-110 2223.5,-116 2223.5,-116 2223.5,-175 2223.5,-175 2223.5,-181 2217.5,-187 2211.5,-187\"/>\n<text text-anchor=\"middle\" x=\"2127.5\" y=\"-171.8\" font-family=\"Helvetica,sans-Serif\" font-size=\"14.00\">Asset Turnover &lt;= 0.087</text>\n<text text-anchor=\"middle\" x=\"2127.5\" y=\"-156.8\" font-family=\"Helvetica,sans-Serif\" font-size=\"14.00\">gini = 0.454</text>\n<text text-anchor=\"middle\" x=\"2127.5\" y=\"-141.8\" font-family=\"Helvetica,sans-Serif\" font-size=\"14.00\">samples = 2447</text>\n<text text-anchor=\"middle\" x=\"2127.5\" y=\"-126.8\" font-family=\"Helvetica,sans-Serif\" font-size=\"14.00\">value = [1925.231, 3610.611]</text>\n<text text-anchor=\"middle\" x=\"2127.5\" y=\"-111.8\" font-family=\"Helvetica,sans-Serif\" font-size=\"14.00\">class = K</text>\n</g>\n<!-- 26&#45;&gt;27 -->\n<g id=\"edge27\" class=\"edge\">\n<title>26&#45;&gt;27</title>\n<path fill=\"none\" stroke=\"black\" d=\"M2343.34,-227.44C2308.42,-214.34 2268.77,-199.48 2233.08,-186.09\"/>\n<polygon fill=\"black\" stroke=\"black\" points=\"2234.2,-182.77 2223.61,-182.54 2231.74,-189.33 2234.2,-182.77\"/>\n</g>\n<!-- 30 -->\n<g id=\"node31\" class=\"node\">\n<title>30</title>\n<path fill=\"#f0b68c\" stroke=\"black\" d=\"M2523.5,-187C2523.5,-187 2355.5,-187 2355.5,-187 2349.5,-187 2343.5,-181 2343.5,-175 2343.5,-175 2343.5,-116 2343.5,-116 2343.5,-110 2349.5,-104 2355.5,-104 2355.5,-104 2523.5,-104 2523.5,-104 2529.5,-104 2535.5,-110 2535.5,-116 2535.5,-116 2535.5,-175 2535.5,-175 2535.5,-181 2529.5,-187 2523.5,-187\"/>\n<text text-anchor=\"middle\" x=\"2439.5\" y=\"-171.8\" font-family=\"Helvetica,sans-Serif\" font-size=\"14.00\">Assets Growth &lt;= 0.727</text>\n<text text-anchor=\"middle\" x=\"2439.5\" y=\"-156.8\" font-family=\"Helvetica,sans-Serif\" font-size=\"14.00\">gini = 0.417</text>\n<text text-anchor=\"middle\" x=\"2439.5\" y=\"-141.8\" font-family=\"Helvetica,sans-Serif\" font-size=\"14.00\">samples = 6131</text>\n<text text-anchor=\"middle\" x=\"2439.5\" y=\"-126.8\" font-family=\"Helvetica,sans-Serif\" font-size=\"14.00\">value = [4866.653, 2051.484]</text>\n<text text-anchor=\"middle\" x=\"2439.5\" y=\"-111.8\" font-family=\"Helvetica,sans-Serif\" font-size=\"14.00\">class = B</text>\n</g>\n<!-- 26&#45;&gt;30 -->\n<g id=\"edge30\" class=\"edge\">\n<title>26&#45;&gt;30</title>\n<path fill=\"none\" stroke=\"black\" d=\"M2439.5,-222.91C2439.5,-214.65 2439.5,-205.86 2439.5,-197.3\"/>\n<polygon fill=\"black\" stroke=\"black\" points=\"2443,-197.02 2439.5,-187.02 2436,-197.02 2443,-197.02\"/>\n</g>\n<!-- 28 -->\n<g id=\"node29\" class=\"node\">\n<title>28</title>\n<path fill=\"#efb488\" stroke=\"black\" d=\"M2001.5,-68C2001.5,-68 1855.5,-68 1855.5,-68 1849.5,-68 1843.5,-62 1843.5,-56 1843.5,-56 1843.5,-12 1843.5,-12 1843.5,-6 1849.5,0 1855.5,0 1855.5,0 2001.5,0 2001.5,0 2007.5,0 2013.5,-6 2013.5,-12 2013.5,-12 2013.5,-56 2013.5,-56 2013.5,-62 2007.5,-68 2001.5,-68\"/>\n<text text-anchor=\"middle\" x=\"1928.5\" y=\"-52.8\" font-family=\"Helvetica,sans-Serif\" font-size=\"14.00\">gini = 0.409</text>\n<text text-anchor=\"middle\" x=\"1928.5\" y=\"-37.8\" font-family=\"Helvetica,sans-Serif\" font-size=\"14.00\">samples = 788</text>\n<text text-anchor=\"middle\" x=\"1928.5\" y=\"-22.8\" font-family=\"Helvetica,sans-Serif\" font-size=\"14.00\">value = [613.74, 246.178]</text>\n<text text-anchor=\"middle\" x=\"1928.5\" y=\"-7.8\" font-family=\"Helvetica,sans-Serif\" font-size=\"14.00\">class = B</text>\n</g>\n<!-- 27&#45;&gt;28 -->\n<g id=\"edge28\" class=\"edge\">\n<title>27&#45;&gt;28</title>\n<path fill=\"none\" stroke=\"black\" d=\"M2053.68,-103.88C2035.24,-93.73 2015.54,-82.89 1997.35,-72.88\"/>\n<polygon fill=\"black\" stroke=\"black\" points=\"1999,-69.8 1988.55,-68.04 1995.63,-75.93 1999,-69.8\"/>\n</g>\n<!-- 29 -->\n<g id=\"node30\" class=\"node\">\n<title>29</title>\n<path fill=\"#86c3ef\" stroke=\"black\" d=\"M2211.5,-68C2211.5,-68 2043.5,-68 2043.5,-68 2037.5,-68 2031.5,-62 2031.5,-56 2031.5,-56 2031.5,-12 2031.5,-12 2031.5,-6 2037.5,0 2043.5,0 2043.5,0 2211.5,0 2211.5,0 2217.5,0 2223.5,-6 2223.5,-12 2223.5,-12 2223.5,-56 2223.5,-56 2223.5,-62 2217.5,-68 2211.5,-68\"/>\n<text text-anchor=\"middle\" x=\"2127.5\" y=\"-52.8\" font-family=\"Helvetica,sans-Serif\" font-size=\"14.00\">gini = 0.404</text>\n<text text-anchor=\"middle\" x=\"2127.5\" y=\"-37.8\" font-family=\"Helvetica,sans-Serif\" font-size=\"14.00\">samples = 1659</text>\n<text text-anchor=\"middle\" x=\"2127.5\" y=\"-22.8\" font-family=\"Helvetica,sans-Serif\" font-size=\"14.00\">value = [1311.491, 3364.433]</text>\n<text text-anchor=\"middle\" x=\"2127.5\" y=\"-7.8\" font-family=\"Helvetica,sans-Serif\" font-size=\"14.00\">class = K</text>\n</g>\n<!-- 27&#45;&gt;29 -->\n<g id=\"edge29\" class=\"edge\">\n<title>27&#45;&gt;29</title>\n<path fill=\"none\" stroke=\"black\" d=\"M2127.5,-103.73C2127.5,-95.52 2127.5,-86.86 2127.5,-78.56\"/>\n<polygon fill=\"black\" stroke=\"black\" points=\"2131,-78.3 2127.5,-68.3 2124,-78.3 2131,-78.3\"/>\n</g>\n<!-- 31 -->\n<g id=\"node32\" class=\"node\">\n<title>31</title>\n<path fill=\"#ea9a61\" stroke=\"black\" d=\"M2415,-68C2415,-68 2254,-68 2254,-68 2248,-68 2242,-62 2242,-56 2242,-56 2242,-12 2242,-12 2242,-6 2248,0 2254,0 2254,0 2415,0 2415,0 2421,0 2427,-6 2427,-12 2427,-12 2427,-56 2427,-56 2427,-62 2421,-68 2415,-68\"/>\n<text text-anchor=\"middle\" x=\"2334.5\" y=\"-52.8\" font-family=\"Helvetica,sans-Serif\" font-size=\"14.00\">gini = 0.278</text>\n<text text-anchor=\"middle\" x=\"2334.5\" y=\"-37.8\" font-family=\"Helvetica,sans-Serif\" font-size=\"14.00\">samples = 4136</text>\n<text text-anchor=\"middle\" x=\"2334.5\" y=\"-22.8\" font-family=\"Helvetica,sans-Serif\" font-size=\"14.00\">value = [3279.985, 656.475]</text>\n<text text-anchor=\"middle\" x=\"2334.5\" y=\"-7.8\" font-family=\"Helvetica,sans-Serif\" font-size=\"14.00\">class = B</text>\n</g>\n<!-- 30&#45;&gt;31 -->\n<g id=\"edge31\" class=\"edge\">\n<title>30&#45;&gt;31</title>\n<path fill=\"none\" stroke=\"black\" d=\"M2400.4,-103.73C2391.57,-94.51 2382.19,-84.74 2373.37,-75.53\"/>\n<polygon fill=\"black\" stroke=\"black\" points=\"2375.88,-73.1 2366.43,-68.3 2370.83,-77.94 2375.88,-73.1\"/>\n</g>\n<!-- 32 -->\n<g id=\"node33\" class=\"node\">\n<title>32</title>\n<path fill=\"#fcf0e7\" stroke=\"black\" d=\"M2625.5,-68C2625.5,-68 2457.5,-68 2457.5,-68 2451.5,-68 2445.5,-62 2445.5,-56 2445.5,-56 2445.5,-12 2445.5,-12 2445.5,-6 2451.5,0 2457.5,0 2457.5,0 2625.5,0 2625.5,0 2631.5,0 2637.5,-6 2637.5,-12 2637.5,-12 2637.5,-56 2637.5,-56 2637.5,-62 2631.5,-68 2625.5,-68\"/>\n<text text-anchor=\"middle\" x=\"2541.5\" y=\"-52.8\" font-family=\"Helvetica,sans-Serif\" font-size=\"14.00\">gini = 0.498</text>\n<text text-anchor=\"middle\" x=\"2541.5\" y=\"-37.8\" font-family=\"Helvetica,sans-Serif\" font-size=\"14.00\">samples = 1995</text>\n<text text-anchor=\"middle\" x=\"2541.5\" y=\"-22.8\" font-family=\"Helvetica,sans-Serif\" font-size=\"14.00\">value = [1586.668, 1395.009]</text>\n<text text-anchor=\"middle\" x=\"2541.5\" y=\"-7.8\" font-family=\"Helvetica,sans-Serif\" font-size=\"14.00\">class = B</text>\n</g>\n<!-- 30&#45;&gt;32 -->\n<g id=\"edge32\" class=\"edge\">\n<title>30&#45;&gt;32</title>\n<path fill=\"none\" stroke=\"black\" d=\"M2477.48,-103.73C2485.98,-94.61 2494.99,-84.93 2503.49,-75.81\"/>\n<polygon fill=\"black\" stroke=\"black\" points=\"2506.23,-78 2510.48,-68.3 2501.1,-73.23 2506.23,-78\"/>\n</g>\n<!-- 34 -->\n<g id=\"node35\" class=\"node\">\n<title>34</title>\n<path fill=\"#5aaee9\" stroke=\"black\" d=\"M2910,-187C2910,-187 2749,-187 2749,-187 2743,-187 2737,-181 2737,-175 2737,-175 2737,-116 2737,-116 2737,-110 2743,-104 2749,-104 2749,-104 2910,-104 2910,-104 2916,-104 2922,-110 2922,-116 2922,-116 2922,-175 2922,-175 2922,-181 2916,-187 2910,-187\"/>\n<text text-anchor=\"middle\" x=\"2829.5\" y=\"-171.8\" font-family=\"Helvetica,sans-Serif\" font-size=\"14.00\">Liquidity &lt;= 0.742</text>\n<text text-anchor=\"middle\" x=\"2829.5\" y=\"-156.8\" font-family=\"Helvetica,sans-Serif\" font-size=\"14.00\">gini = 0.247</text>\n<text text-anchor=\"middle\" x=\"2829.5\" y=\"-141.8\" font-family=\"Helvetica,sans-Serif\" font-size=\"14.00\">samples = 761</text>\n<text text-anchor=\"middle\" x=\"2829.5\" y=\"-126.8\" font-family=\"Helvetica,sans-Serif\" font-size=\"14.00\">value = [596.132, 3528.552]</text>\n<text text-anchor=\"middle\" x=\"2829.5\" y=\"-111.8\" font-family=\"Helvetica,sans-Serif\" font-size=\"14.00\">class = K</text>\n</g>\n<!-- 33&#45;&gt;34 -->\n<g id=\"edge34\" class=\"edge\">\n<title>33&#45;&gt;34</title>\n<path fill=\"none\" stroke=\"black\" d=\"M2829.5,-222.91C2829.5,-214.65 2829.5,-205.86 2829.5,-197.3\"/>\n<polygon fill=\"black\" stroke=\"black\" points=\"2833,-197.02 2829.5,-187.02 2826,-197.02 2833,-197.02\"/>\n</g>\n<!-- 37 -->\n<g id=\"node38\" class=\"node\">\n<title>37</title>\n<path fill=\"#f6fbfe\" stroke=\"black\" d=\"M3200.5,-187C3200.5,-187 3032.5,-187 3032.5,-187 3026.5,-187 3020.5,-181 3020.5,-175 3020.5,-175 3020.5,-116 3020.5,-116 3020.5,-110 3026.5,-104 3032.5,-104 3032.5,-104 3200.5,-104 3200.5,-104 3206.5,-104 3212.5,-110 3212.5,-116 3212.5,-116 3212.5,-175 3212.5,-175 3212.5,-181 3206.5,-187 3200.5,-187\"/>\n<text text-anchor=\"middle\" x=\"3116.5\" y=\"-171.8\" font-family=\"Helvetica,sans-Serif\" font-size=\"14.00\">Assets Growth &lt;= 0.95</text>\n<text text-anchor=\"middle\" x=\"3116.5\" y=\"-156.8\" font-family=\"Helvetica,sans-Serif\" font-size=\"14.00\">gini = 0.5</text>\n<text text-anchor=\"middle\" x=\"3116.5\" y=\"-141.8\" font-family=\"Helvetica,sans-Serif\" font-size=\"14.00\">samples = 1409</text>\n<text text-anchor=\"middle\" x=\"3116.5\" y=\"-126.8\" font-family=\"Helvetica,sans-Serif\" font-size=\"14.00\">value = [1098.695, 1148.831]</text>\n<text text-anchor=\"middle\" x=\"3116.5\" y=\"-111.8\" font-family=\"Helvetica,sans-Serif\" font-size=\"14.00\">class = K</text>\n</g>\n<!-- 33&#45;&gt;37 -->\n<g id=\"edge37\" class=\"edge\">\n<title>33&#45;&gt;37</title>\n<path fill=\"none\" stroke=\"black\" d=\"M2925.87,-224.22C2953.22,-213.06 2983.16,-200.86 3011.02,-189.5\"/>\n<polygon fill=\"black\" stroke=\"black\" points=\"3012.45,-192.7 3020.39,-185.68 3009.81,-186.22 3012.45,-192.7\"/>\n</g>\n<!-- 35 -->\n<g id=\"node36\" class=\"node\">\n<title>35</title>\n<path fill=\"#54aae9\" stroke=\"black\" d=\"M2829,-68C2829,-68 2668,-68 2668,-68 2662,-68 2656,-62 2656,-56 2656,-56 2656,-12 2656,-12 2656,-6 2662,0 2668,0 2668,0 2829,0 2829,0 2835,0 2841,-6 2841,-12 2841,-12 2841,-56 2841,-56 2841,-62 2835,-68 2829,-68\"/>\n<text text-anchor=\"middle\" x=\"2748.5\" y=\"-52.8\" font-family=\"Helvetica,sans-Serif\" font-size=\"14.00\">gini = 0.21</text>\n<text text-anchor=\"middle\" x=\"2748.5\" y=\"-37.8\" font-family=\"Helvetica,sans-Serif\" font-size=\"14.00\">samples = 613</text>\n<text text-anchor=\"middle\" x=\"2748.5\" y=\"-22.8\" font-family=\"Helvetica,sans-Serif\" font-size=\"14.00\">value = [477.409, 3528.552]</text>\n<text text-anchor=\"middle\" x=\"2748.5\" y=\"-7.8\" font-family=\"Helvetica,sans-Serif\" font-size=\"14.00\">class = K</text>\n</g>\n<!-- 34&#45;&gt;35 -->\n<g id=\"edge35\" class=\"edge\">\n<title>34&#45;&gt;35</title>\n<path fill=\"none\" stroke=\"black\" d=\"M2799.34,-103.73C2792.73,-94.79 2785.72,-85.32 2779.09,-76.36\"/>\n<polygon fill=\"black\" stroke=\"black\" points=\"2781.89,-74.26 2773.13,-68.3 2776.27,-78.42 2781.89,-74.26\"/>\n</g>\n<!-- 36 -->\n<g id=\"node37\" class=\"node\">\n<title>36</title>\n<path fill=\"#e58139\" stroke=\"black\" d=\"M2994,-68C2994,-68 2871,-68 2871,-68 2865,-68 2859,-62 2859,-56 2859,-56 2859,-12 2859,-12 2859,-6 2865,0 2871,0 2871,0 2994,0 2994,0 3000,0 3006,-6 3006,-12 3006,-12 3006,-56 3006,-56 3006,-62 3000,-68 2994,-68\"/>\n<text text-anchor=\"middle\" x=\"2932.5\" y=\"-52.8\" font-family=\"Helvetica,sans-Serif\" font-size=\"14.00\">gini = &#45;0.0</text>\n<text text-anchor=\"middle\" x=\"2932.5\" y=\"-37.8\" font-family=\"Helvetica,sans-Serif\" font-size=\"14.00\">samples = 148</text>\n<text text-anchor=\"middle\" x=\"2932.5\" y=\"-22.8\" font-family=\"Helvetica,sans-Serif\" font-size=\"14.00\">value = [118.723, 0.0]</text>\n<text text-anchor=\"middle\" x=\"2932.5\" y=\"-7.8\" font-family=\"Helvetica,sans-Serif\" font-size=\"14.00\">class = B</text>\n</g>\n<!-- 34&#45;&gt;36 -->\n<g id=\"edge36\" class=\"edge\">\n<title>34&#45;&gt;36</title>\n<path fill=\"none\" stroke=\"black\" d=\"M2867.85,-103.73C2876.43,-94.61 2885.53,-84.93 2894.11,-75.81\"/>\n<polygon fill=\"black\" stroke=\"black\" points=\"2896.87,-77.98 2901.18,-68.3 2891.78,-73.19 2896.87,-77.98\"/>\n</g>\n<!-- 38 -->\n<g id=\"node39\" class=\"node\">\n<title>38</title>\n<path fill=\"#f5ceb2\" stroke=\"black\" d=\"M3197,-68C3197,-68 3036,-68 3036,-68 3030,-68 3024,-62 3024,-56 3024,-56 3024,-12 3024,-12 3024,-6 3030,0 3036,0 3036,0 3197,0 3197,0 3203,0 3209,-6 3209,-12 3209,-12 3209,-56 3209,-56 3209,-62 3203,-68 3197,-68\"/>\n<text text-anchor=\"middle\" x=\"3116.5\" y=\"-52.8\" font-family=\"Helvetica,sans-Serif\" font-size=\"14.00\">gini = 0.471</text>\n<text text-anchor=\"middle\" x=\"3116.5\" y=\"-37.8\" font-family=\"Helvetica,sans-Serif\" font-size=\"14.00\">samples = 1371</text>\n<text text-anchor=\"middle\" x=\"3116.5\" y=\"-22.8\" font-family=\"Helvetica,sans-Serif\" font-size=\"14.00\">value = [1075.554, 656.475]</text>\n<text text-anchor=\"middle\" x=\"3116.5\" y=\"-7.8\" font-family=\"Helvetica,sans-Serif\" font-size=\"14.00\">class = B</text>\n</g>\n<!-- 37&#45;&gt;38 -->\n<g id=\"edge38\" class=\"edge\">\n<title>37&#45;&gt;38</title>\n<path fill=\"none\" stroke=\"black\" d=\"M3116.5,-103.73C3116.5,-95.52 3116.5,-86.86 3116.5,-78.56\"/>\n<polygon fill=\"black\" stroke=\"black\" points=\"3120,-78.3 3116.5,-68.3 3113,-78.3 3120,-78.3\"/>\n</g>\n<!-- 39 -->\n<g id=\"node40\" class=\"node\">\n<title>39</title>\n<path fill=\"#42a2e6\" stroke=\"black\" d=\"M3385.5,-68C3385.5,-68 3239.5,-68 3239.5,-68 3233.5,-68 3227.5,-62 3227.5,-56 3227.5,-56 3227.5,-12 3227.5,-12 3227.5,-6 3233.5,0 3239.5,0 3239.5,0 3385.5,0 3385.5,0 3391.5,0 3397.5,-6 3397.5,-12 3397.5,-12 3397.5,-56 3397.5,-56 3397.5,-62 3391.5,-68 3385.5,-68\"/>\n<text text-anchor=\"middle\" x=\"3312.5\" y=\"-52.8\" font-family=\"Helvetica,sans-Serif\" font-size=\"14.00\">gini = 0.086</text>\n<text text-anchor=\"middle\" x=\"3312.5\" y=\"-37.8\" font-family=\"Helvetica,sans-Serif\" font-size=\"14.00\">samples = 38</text>\n<text text-anchor=\"middle\" x=\"3312.5\" y=\"-22.8\" font-family=\"Helvetica,sans-Serif\" font-size=\"14.00\">value = [23.141, 492.356]</text>\n<text text-anchor=\"middle\" x=\"3312.5\" y=\"-7.8\" font-family=\"Helvetica,sans-Serif\" font-size=\"14.00\">class = K</text>\n</g>\n<!-- 37&#45;&gt;39 -->\n<g id=\"edge39\" class=\"edge\">\n<title>37&#45;&gt;39</title>\n<path fill=\"none\" stroke=\"black\" d=\"M3189.2,-103.88C3207.2,-93.83 3226.42,-83.09 3244.2,-73.16\"/>\n<polygon fill=\"black\" stroke=\"black\" points=\"3246.33,-75.98 3253.35,-68.04 3242.92,-69.87 3246.33,-75.98\"/>\n</g>\n<!-- 41 -->\n<g id=\"node42\" class=\"node\">\n<title>41</title>\n<path fill=\"#e6853f\" stroke=\"black\" d=\"M3833.5,-306C3833.5,-306 3665.5,-306 3665.5,-306 3659.5,-306 3653.5,-300 3653.5,-294 3653.5,-294 3653.5,-235 3653.5,-235 3653.5,-229 3659.5,-223 3665.5,-223 3665.5,-223 3833.5,-223 3833.5,-223 3839.5,-223 3845.5,-229 3845.5,-235 3845.5,-235 3845.5,-294 3845.5,-294 3845.5,-300 3839.5,-306 3833.5,-306\"/>\n<text text-anchor=\"middle\" x=\"3749.5\" y=\"-290.8\" font-family=\"Helvetica,sans-Serif\" font-size=\"14.00\">Return on Equity &lt;= 0.025</text>\n<text text-anchor=\"middle\" x=\"3749.5\" y=\"-275.8\" font-family=\"Helvetica,sans-Serif\" font-size=\"14.00\">gini = 0.053</text>\n<text text-anchor=\"middle\" x=\"3749.5\" y=\"-260.8\" font-family=\"Helvetica,sans-Serif\" font-size=\"14.00\">samples = 18313</text>\n<text text-anchor=\"middle\" x=\"3749.5\" y=\"-245.8\" font-family=\"Helvetica,sans-Serif\" font-size=\"14.00\">value = [14686.487, 410.297]</text>\n<text text-anchor=\"middle\" x=\"3749.5\" y=\"-230.8\" font-family=\"Helvetica,sans-Serif\" font-size=\"14.00\">class = B</text>\n</g>\n<!-- 40&#45;&gt;41 -->\n<g id=\"edge41\" class=\"edge\">\n<title>40&#45;&gt;41</title>\n<path fill=\"none\" stroke=\"black\" d=\"M3749.5,-341.91C3749.5,-333.65 3749.5,-324.86 3749.5,-316.3\"/>\n<polygon fill=\"black\" stroke=\"black\" points=\"3753,-316.02 3749.5,-306.02 3746,-316.02 3753,-316.02\"/>\n</g>\n<!-- 48 -->\n<g id=\"node49\" class=\"node\">\n<title>48</title>\n<path fill=\"#eb9f68\" stroke=\"black\" d=\"M4128,-306C4128,-306 3975,-306 3975,-306 3969,-306 3963,-300 3963,-294 3963,-294 3963,-235 3963,-235 3963,-229 3969,-223 3975,-223 3975,-223 4128,-223 4128,-223 4134,-223 4140,-229 4140,-235 4140,-235 4140,-294 4140,-294 4140,-300 4134,-306 4128,-306\"/>\n<text text-anchor=\"middle\" x=\"4051.5\" y=\"-290.8\" font-family=\"Helvetica,sans-Serif\" font-size=\"14.00\">Leverage Ratio &lt;= 0.745</text>\n<text text-anchor=\"middle\" x=\"4051.5\" y=\"-275.8\" font-family=\"Helvetica,sans-Serif\" font-size=\"14.00\">gini = 0.309</text>\n<text text-anchor=\"middle\" x=\"4051.5\" y=\"-260.8\" font-family=\"Helvetica,sans-Serif\" font-size=\"14.00\">samples = 3526</text>\n<text text-anchor=\"middle\" x=\"4051.5\" y=\"-245.8\" font-family=\"Helvetica,sans-Serif\" font-size=\"14.00\">value = [2783.46, 656.475]</text>\n<text text-anchor=\"middle\" x=\"4051.5\" y=\"-230.8\" font-family=\"Helvetica,sans-Serif\" font-size=\"14.00\">class = B</text>\n</g>\n<!-- 40&#45;&gt;48 -->\n<g id=\"edge48\" class=\"edge\">\n<title>40&#45;&gt;48</title>\n<path fill=\"none\" stroke=\"black\" d=\"M3849.64,-343.7C3882.93,-330.81 3919.95,-316.47 3953.1,-303.62\"/>\n<polygon fill=\"black\" stroke=\"black\" points=\"3954.74,-306.74 3962.8,-299.86 3952.21,-300.21 3954.74,-306.74\"/>\n</g>\n<!-- 42 -->\n<g id=\"node43\" class=\"node\">\n<title>42</title>\n<path fill=\"#d0e7f9\" stroke=\"black\" d=\"M3726,-187C3726,-187 3567,-187 3567,-187 3561,-187 3555,-181 3555,-175 3555,-175 3555,-116 3555,-116 3555,-110 3561,-104 3567,-104 3567,-104 3726,-104 3726,-104 3732,-104 3738,-110 3738,-116 3738,-116 3738,-175 3738,-175 3738,-181 3732,-187 3726,-187\"/>\n<text text-anchor=\"middle\" x=\"3646.5\" y=\"-171.8\" font-family=\"Helvetica,sans-Serif\" font-size=\"14.00\">Operational Margin &lt;= 0.47</text>\n<text text-anchor=\"middle\" x=\"3646.5\" y=\"-156.8\" font-family=\"Helvetica,sans-Serif\" font-size=\"14.00\">gini = 0.491</text>\n<text text-anchor=\"middle\" x=\"3646.5\" y=\"-141.8\" font-family=\"Helvetica,sans-Serif\" font-size=\"14.00\">samples = 77</text>\n<text text-anchor=\"middle\" x=\"3646.5\" y=\"-126.8\" font-family=\"Helvetica,sans-Serif\" font-size=\"14.00\">value = [62.38, 82.059]</text>\n<text text-anchor=\"middle\" x=\"3646.5\" y=\"-111.8\" font-family=\"Helvetica,sans-Serif\" font-size=\"14.00\">class = K</text>\n</g>\n<!-- 41&#45;&gt;42 -->\n<g id=\"edge42\" class=\"edge\">\n<title>41&#45;&gt;42</title>\n<path fill=\"none\" stroke=\"black\" d=\"M3713.76,-222.91C3705.78,-213.83 3697.23,-204.12 3688.99,-194.77\"/>\n<polygon fill=\"black\" stroke=\"black\" points=\"3691.41,-192.21 3682.17,-187.02 3686.15,-196.84 3691.41,-192.21\"/>\n</g>\n<!-- 45 -->\n<g id=\"node46\" class=\"node\">\n<title>45</title>\n<path fill=\"#e6843d\" stroke=\"black\" d=\"M3936.5,-187C3936.5,-187 3768.5,-187 3768.5,-187 3762.5,-187 3756.5,-181 3756.5,-175 3756.5,-175 3756.5,-116 3756.5,-116 3756.5,-110 3762.5,-104 3768.5,-104 3768.5,-104 3936.5,-104 3936.5,-104 3942.5,-104 3948.5,-110 3948.5,-116 3948.5,-116 3948.5,-175 3948.5,-175 3948.5,-181 3942.5,-187 3936.5,-187\"/>\n<text text-anchor=\"middle\" x=\"3852.5\" y=\"-171.8\" font-family=\"Helvetica,sans-Serif\" font-size=\"14.00\">Asset Turnover &lt;= 0.804</text>\n<text text-anchor=\"middle\" x=\"3852.5\" y=\"-156.8\" font-family=\"Helvetica,sans-Serif\" font-size=\"14.00\">gini = 0.043</text>\n<text text-anchor=\"middle\" x=\"3852.5\" y=\"-141.8\" font-family=\"Helvetica,sans-Serif\" font-size=\"14.00\">samples = 18236</text>\n<text text-anchor=\"middle\" x=\"3852.5\" y=\"-126.8\" font-family=\"Helvetica,sans-Serif\" font-size=\"14.00\">value = [14624.107, 328.237]</text>\n<text text-anchor=\"middle\" x=\"3852.5\" y=\"-111.8\" font-family=\"Helvetica,sans-Serif\" font-size=\"14.00\">class = B</text>\n</g>\n<!-- 41&#45;&gt;45 -->\n<g id=\"edge45\" class=\"edge\">\n<title>41&#45;&gt;45</title>\n<path fill=\"none\" stroke=\"black\" d=\"M3785.24,-222.91C3793.22,-213.83 3801.77,-204.12 3810.01,-194.77\"/>\n<polygon fill=\"black\" stroke=\"black\" points=\"3812.85,-196.84 3816.83,-187.02 3807.59,-192.21 3812.85,-196.84\"/>\n</g>\n<!-- 43 -->\n<g id=\"node44\" class=\"node\">\n<title>43</title>\n<path fill=\"#66b3eb\" stroke=\"black\" d=\"M3565.5,-68C3565.5,-68 3427.5,-68 3427.5,-68 3421.5,-68 3415.5,-62 3415.5,-56 3415.5,-56 3415.5,-12 3415.5,-12 3415.5,-6 3421.5,0 3427.5,0 3427.5,0 3565.5,0 3565.5,0 3571.5,0 3577.5,-6 3577.5,-12 3577.5,-12 3577.5,-56 3577.5,-56 3577.5,-62 3571.5,-68 3565.5,-68\"/>\n<text text-anchor=\"middle\" x=\"3496.5\" y=\"-52.8\" font-family=\"Helvetica,sans-Serif\" font-size=\"14.00\">gini = 0.301</text>\n<text text-anchor=\"middle\" x=\"3496.5\" y=\"-37.8\" font-family=\"Helvetica,sans-Serif\" font-size=\"14.00\">samples = 28</text>\n<text text-anchor=\"middle\" x=\"3496.5\" y=\"-22.8\" font-family=\"Helvetica,sans-Serif\" font-size=\"14.00\">value = [18.613, 82.059]</text>\n<text text-anchor=\"middle\" x=\"3496.5\" y=\"-7.8\" font-family=\"Helvetica,sans-Serif\" font-size=\"14.00\">class = K</text>\n</g>\n<!-- 42&#45;&gt;43 -->\n<g id=\"edge43\" class=\"edge\">\n<title>42&#45;&gt;43</title>\n<path fill=\"none\" stroke=\"black\" d=\"M3590.65,-103.73C3577.53,-94.15 3563.57,-83.96 3550.53,-74.44\"/>\n<polygon fill=\"black\" stroke=\"black\" points=\"3552.26,-71.37 3542.12,-68.3 3548.13,-77.02 3552.26,-71.37\"/>\n</g>\n<!-- 44 -->\n<g id=\"node45\" class=\"node\">\n<title>44</title>\n<path fill=\"#e58139\" stroke=\"black\" d=\"M3723.5,-68C3723.5,-68 3607.5,-68 3607.5,-68 3601.5,-68 3595.5,-62 3595.5,-56 3595.5,-56 3595.5,-12 3595.5,-12 3595.5,-6 3601.5,0 3607.5,0 3607.5,0 3723.5,0 3723.5,0 3729.5,0 3735.5,-6 3735.5,-12 3735.5,-12 3735.5,-56 3735.5,-56 3735.5,-62 3729.5,-68 3723.5,-68\"/>\n<text text-anchor=\"middle\" x=\"3665.5\" y=\"-52.8\" font-family=\"Helvetica,sans-Serif\" font-size=\"14.00\">gini = &#45;0.0</text>\n<text text-anchor=\"middle\" x=\"3665.5\" y=\"-37.8\" font-family=\"Helvetica,sans-Serif\" font-size=\"14.00\">samples = 49</text>\n<text text-anchor=\"middle\" x=\"3665.5\" y=\"-22.8\" font-family=\"Helvetica,sans-Serif\" font-size=\"14.00\">value = [43.767, 0.0]</text>\n<text text-anchor=\"middle\" x=\"3665.5\" y=\"-7.8\" font-family=\"Helvetica,sans-Serif\" font-size=\"14.00\">class = B</text>\n</g>\n<!-- 42&#45;&gt;44 -->\n<g id=\"edge44\" class=\"edge\">\n<title>42&#45;&gt;44</title>\n<path fill=\"none\" stroke=\"black\" d=\"M3653.57,-103.73C3655.02,-95.43 3656.53,-86.67 3657.99,-78.28\"/>\n<polygon fill=\"black\" stroke=\"black\" points=\"3661.46,-78.75 3659.72,-68.3 3654.56,-77.55 3661.46,-78.75\"/>\n</g>\n<!-- 46 -->\n<g id=\"node47\" class=\"node\">\n<title>46</title>\n<path fill=\"#e5823a\" stroke=\"black\" d=\"M3927,-68C3927,-68 3766,-68 3766,-68 3760,-68 3754,-62 3754,-56 3754,-56 3754,-12 3754,-12 3754,-6 3760,0 3766,0 3766,0 3927,0 3927,0 3933,0 3939,-6 3939,-12 3939,-12 3939,-56 3939,-56 3939,-62 3933,-68 3927,-68\"/>\n<text text-anchor=\"middle\" x=\"3846.5\" y=\"-52.8\" font-family=\"Helvetica,sans-Serif\" font-size=\"14.00\">gini = 0.014</text>\n<text text-anchor=\"middle\" x=\"3846.5\" y=\"-37.8\" font-family=\"Helvetica,sans-Serif\" font-size=\"14.00\">samples = 14226</text>\n<text text-anchor=\"middle\" x=\"3846.5\" y=\"-22.8\" font-family=\"Helvetica,sans-Serif\" font-size=\"14.00\">value = [11400.465, 82.059]</text>\n<text text-anchor=\"middle\" x=\"3846.5\" y=\"-7.8\" font-family=\"Helvetica,sans-Serif\" font-size=\"14.00\">class = B</text>\n</g>\n<!-- 45&#45;&gt;46 -->\n<g id=\"edge46\" class=\"edge\">\n<title>45&#45;&gt;46</title>\n<path fill=\"none\" stroke=\"black\" d=\"M3850.27,-103.73C3849.82,-95.52 3849.34,-86.86 3848.89,-78.56\"/>\n<polygon fill=\"black\" stroke=\"black\" points=\"3852.37,-78.09 3848.32,-68.3 3845.38,-78.48 3852.37,-78.09\"/>\n</g>\n<!-- 47 -->\n<g id=\"node48\" class=\"node\">\n<title>47</title>\n<path fill=\"#e78b48\" stroke=\"black\" d=\"M4130,-68C4130,-68 3969,-68 3969,-68 3963,-68 3957,-62 3957,-56 3957,-56 3957,-12 3957,-12 3957,-6 3963,0 3969,0 3969,0 4130,0 4130,0 4136,0 4142,-6 4142,-12 4142,-12 4142,-56 4142,-56 4142,-62 4136,-68 4130,-68\"/>\n<text text-anchor=\"middle\" x=\"4049.5\" y=\"-52.8\" font-family=\"Helvetica,sans-Serif\" font-size=\"14.00\">gini = 0.132</text>\n<text text-anchor=\"middle\" x=\"4049.5\" y=\"-37.8\" font-family=\"Helvetica,sans-Serif\" font-size=\"14.00\">samples = 4010</text>\n<text text-anchor=\"middle\" x=\"4049.5\" y=\"-22.8\" font-family=\"Helvetica,sans-Serif\" font-size=\"14.00\">value = [3223.642, 246.178]</text>\n<text text-anchor=\"middle\" x=\"4049.5\" y=\"-7.8\" font-family=\"Helvetica,sans-Serif\" font-size=\"14.00\">class = B</text>\n</g>\n<!-- 45&#45;&gt;47 -->\n<g id=\"edge47\" class=\"edge\">\n<title>45&#45;&gt;47</title>\n<path fill=\"none\" stroke=\"black\" d=\"M3925.58,-103.88C3943.67,-93.83 3962.98,-83.09 3980.85,-73.16\"/>\n<polygon fill=\"black\" stroke=\"black\" points=\"3983.01,-75.96 3990.05,-68.04 3979.61,-69.84 3983.01,-75.96\"/>\n</g>\n<!-- 49 -->\n<g id=\"node50\" class=\"node\">\n<title>49</title>\n<path fill=\"#e58139\" stroke=\"black\" d=\"M4117,-179.5C4117,-179.5 3986,-179.5 3986,-179.5 3980,-179.5 3974,-173.5 3974,-167.5 3974,-167.5 3974,-123.5 3974,-123.5 3974,-117.5 3980,-111.5 3986,-111.5 3986,-111.5 4117,-111.5 4117,-111.5 4123,-111.5 4129,-117.5 4129,-123.5 4129,-123.5 4129,-167.5 4129,-167.5 4129,-173.5 4123,-179.5 4117,-179.5\"/>\n<text text-anchor=\"middle\" x=\"4051.5\" y=\"-164.3\" font-family=\"Helvetica,sans-Serif\" font-size=\"14.00\">gini = &#45;0.0</text>\n<text text-anchor=\"middle\" x=\"4051.5\" y=\"-149.3\" font-family=\"Helvetica,sans-Serif\" font-size=\"14.00\">samples = 2464</text>\n<text text-anchor=\"middle\" x=\"4051.5\" y=\"-134.3\" font-family=\"Helvetica,sans-Serif\" font-size=\"14.00\">value = [1931.771, 0.0]</text>\n<text text-anchor=\"middle\" x=\"4051.5\" y=\"-119.3\" font-family=\"Helvetica,sans-Serif\" font-size=\"14.00\">class = B</text>\n</g>\n<!-- 48&#45;&gt;49 -->\n<g id=\"edge49\" class=\"edge\">\n<title>48&#45;&gt;49</title>\n<path fill=\"none\" stroke=\"black\" d=\"M4051.5,-222.91C4051.5,-212.2 4051.5,-200.62 4051.5,-189.78\"/>\n<polygon fill=\"black\" stroke=\"black\" points=\"4055,-189.67 4051.5,-179.67 4048,-189.67 4055,-189.67\"/>\n</g>\n<!-- 50 -->\n<g id=\"node51\" class=\"node\">\n<title>50</title>\n<path fill=\"#f9e2d2\" stroke=\"black\" d=\"M4325,-187C4325,-187 4172,-187 4172,-187 4166,-187 4160,-181 4160,-175 4160,-175 4160,-116 4160,-116 4160,-110 4166,-104 4172,-104 4172,-104 4325,-104 4325,-104 4331,-104 4337,-110 4337,-116 4337,-116 4337,-175 4337,-175 4337,-181 4331,-187 4325,-187\"/>\n<text text-anchor=\"middle\" x=\"4248.5\" y=\"-171.8\" font-family=\"Helvetica,sans-Serif\" font-size=\"14.00\">Profitability &lt;= 0.637</text>\n<text text-anchor=\"middle\" x=\"4248.5\" y=\"-156.8\" font-family=\"Helvetica,sans-Serif\" font-size=\"14.00\">gini = 0.492</text>\n<text text-anchor=\"middle\" x=\"4248.5\" y=\"-141.8\" font-family=\"Helvetica,sans-Serif\" font-size=\"14.00\">samples = 1062</text>\n<text text-anchor=\"middle\" x=\"4248.5\" y=\"-126.8\" font-family=\"Helvetica,sans-Serif\" font-size=\"14.00\">value = [851.689, 656.475]</text>\n<text text-anchor=\"middle\" x=\"4248.5\" y=\"-111.8\" font-family=\"Helvetica,sans-Serif\" font-size=\"14.00\">class = B</text>\n</g>\n<!-- 48&#45;&gt;50 -->\n<g id=\"edge50\" class=\"edge\">\n<title>48&#45;&gt;50</title>\n<path fill=\"none\" stroke=\"black\" d=\"M4119.85,-222.91C4136.5,-213.02 4154.43,-202.37 4171.46,-192.25\"/>\n<polygon fill=\"black\" stroke=\"black\" points=\"4173.46,-195.14 4180.27,-187.02 4169.89,-189.12 4173.46,-195.14\"/>\n</g>\n<!-- 51 -->\n<g id=\"node52\" class=\"node\">\n<title>51</title>\n<path fill=\"#fefeff\" stroke=\"black\" d=\"M4325,-68C4325,-68 4172,-68 4172,-68 4166,-68 4160,-62 4160,-56 4160,-56 4160,-12 4160,-12 4160,-6 4166,0 4172,0 4172,0 4325,0 4325,0 4331,0 4337,-6 4337,-12 4337,-12 4337,-56 4337,-56 4337,-62 4331,-68 4325,-68\"/>\n<text text-anchor=\"middle\" x=\"4248.5\" y=\"-52.8\" font-family=\"Helvetica,sans-Serif\" font-size=\"14.00\">gini = 0.5</text>\n<text text-anchor=\"middle\" x=\"4248.5\" y=\"-37.8\" font-family=\"Helvetica,sans-Serif\" font-size=\"14.00\">samples = 819</text>\n<text text-anchor=\"middle\" x=\"4248.5\" y=\"-22.8\" font-family=\"Helvetica,sans-Serif\" font-size=\"14.00\">value = [651.973, 656.475]</text>\n<text text-anchor=\"middle\" x=\"4248.5\" y=\"-7.8\" font-family=\"Helvetica,sans-Serif\" font-size=\"14.00\">class = K</text>\n</g>\n<!-- 50&#45;&gt;51 -->\n<g id=\"edge51\" class=\"edge\">\n<title>50&#45;&gt;51</title>\n<path fill=\"none\" stroke=\"black\" d=\"M4248.5,-103.73C4248.5,-95.52 4248.5,-86.86 4248.5,-78.56\"/>\n<polygon fill=\"black\" stroke=\"black\" points=\"4252,-78.3 4248.5,-68.3 4245,-78.3 4252,-78.3\"/>\n</g>\n<!-- 52 -->\n<g id=\"node53\" class=\"node\">\n<title>52</title>\n<path fill=\"#e58139\" stroke=\"black\" d=\"M4490,-68C4490,-68 4367,-68 4367,-68 4361,-68 4355,-62 4355,-56 4355,-56 4355,-12 4355,-12 4355,-6 4361,0 4367,0 4367,0 4490,0 4490,0 4496,0 4502,-6 4502,-12 4502,-12 4502,-56 4502,-56 4502,-62 4496,-68 4490,-68\"/>\n<text text-anchor=\"middle\" x=\"4428.5\" y=\"-52.8\" font-family=\"Helvetica,sans-Serif\" font-size=\"14.00\">gini = &#45;0.0</text>\n<text text-anchor=\"middle\" x=\"4428.5\" y=\"-37.8\" font-family=\"Helvetica,sans-Serif\" font-size=\"14.00\">samples = 243</text>\n<text text-anchor=\"middle\" x=\"4428.5\" y=\"-22.8\" font-family=\"Helvetica,sans-Serif\" font-size=\"14.00\">value = [199.717, 0.0]</text>\n<text text-anchor=\"middle\" x=\"4428.5\" y=\"-7.8\" font-family=\"Helvetica,sans-Serif\" font-size=\"14.00\">class = B</text>\n</g>\n<!-- 50&#45;&gt;52 -->\n<g id=\"edge52\" class=\"edge\">\n<title>50&#45;&gt;52</title>\n<path fill=\"none\" stroke=\"black\" d=\"M4315.27,-103.88C4331.65,-93.92 4349.13,-83.29 4365.33,-73.43\"/>\n<polygon fill=\"black\" stroke=\"black\" points=\"4367.46,-76.23 4374.18,-68.04 4363.82,-70.25 4367.46,-76.23\"/>\n</g>\n</g>\n</svg>\n"
          },
          "metadata": {},
          "execution_count": 495
        }
      ]
    },
    {
      "cell_type": "markdown",
      "metadata": {
        "id": "4ed37d5c"
      },
      "source": [
        "# Model: Naive Bayes, under sampling (NB model does not have class_weight)"
      ],
      "id": "4ed37d5c"
    },
    {
      "cell_type": "code",
      "metadata": {
        "id": "c95555e8"
      },
      "source": [
        "from imblearn.under_sampling import RandomUnderSampler\n",
        "\n",
        "rus = RandomUnderSampler(random_state=0)\n",
        "X_train_resampled, y_train_resampled = rus.fit_resample(X_train, y_train)"
      ],
      "id": "c95555e8",
      "execution_count": 496,
      "outputs": []
    },
    {
      "cell_type": "code",
      "metadata": {
        "colab": {
          "base_uri": "https://localhost:8080/"
        },
        "id": "a5d852b9",
        "outputId": "d64e1f07-9247-4b6a-8c05-8a3b1462cce2"
      },
      "source": [
        "X_train_resampled.shape, y_train_resampled.shape"
      ],
      "id": "a5d852b9",
      "execution_count": 497,
      "outputs": [
        {
          "output_type": "execute_result",
          "data": {
            "text/plain": [
              "((792, 12), (792,))"
            ]
          },
          "metadata": {},
          "execution_count": 497
        }
      ]
    },
    {
      "cell_type": "code",
      "metadata": {
        "id": "sfrP8PRAvGVi"
      },
      "source": [
        "X_train_resampled = pd.DataFrame(X_train_resampled, columns=X_train.columns.to_list())"
      ],
      "id": "sfrP8PRAvGVi",
      "execution_count": 498,
      "outputs": []
    },
    {
      "cell_type": "code",
      "metadata": {
        "id": "7d3aaeb0"
      },
      "source": [
        "from sklearn.naive_bayes import GaussianNB\n",
        "nb_model = GaussianNB()"
      ],
      "id": "7d3aaeb0",
      "execution_count": 499,
      "outputs": []
    },
    {
      "cell_type": "code",
      "metadata": {
        "id": "92630bfb"
      },
      "source": [
        "nb_pipeline = Pipeline(steps=[\n",
        "                    ('preprocess', data_pipeline),\n",
        "                    ('model', nb_model)])"
      ],
      "id": "92630bfb",
      "execution_count": 500,
      "outputs": []
    },
    {
      "cell_type": "code",
      "metadata": {
        "colab": {
          "base_uri": "https://localhost:8080/"
        },
        "id": "Nc-lYy9CuF8s",
        "outputId": "b589ed85-34cd-4056-fbe7-a82214f8718d"
      },
      "source": [
        "# fit pipeline with model\n",
        "nb_pipeline.fit(X_train_resampled, y_train_resampled)"
      ],
      "id": "Nc-lYy9CuF8s",
      "execution_count": 501,
      "outputs": [
        {
          "output_type": "stream",
          "name": "stdout",
          "text": [
            "capping the  EPS\n",
            "capping the  Liquidity\n",
            "capping the  Profitability\n",
            "capping the  Productivity\n",
            "capping the  Leverage Ratio\n",
            "capping the  Asset Turnover\n",
            "capping the  Operational Margin\n",
            "capping the  Return on Equity\n",
            "capping the  Market Book Ratio\n",
            "capping the  Assets Growth\n",
            "capping the  Sales Growth\n",
            "capping the  Employee Growth\n"
          ]
        },
        {
          "output_type": "stream",
          "name": "stderr",
          "text": [
            "/usr/local/lib/python3.8/dist-packages/sklearn/preprocessing/_data.py:2590: UserWarning: n_quantiles (1000) is greater than the total number of samples (792). n_quantiles is set to n_samples.\n",
            "  warnings.warn(\n"
          ]
        },
        {
          "output_type": "execute_result",
          "data": {
            "text/plain": [
              "Pipeline(steps=[('preprocess',\n",
              "                 ColumnTransformer(transformers=[('numeric',\n",
              "                                                  Pipeline(steps=[('remove_outlier',\n",
              "                                                                   <__main__.CustomTransformer object at 0x7f3efde9bd00>),\n",
              "                                                                  ('impute',\n",
              "                                                                   SimpleImputer()),\n",
              "                                                                  ('scale',\n",
              "                                                                   QuantileTransformer(random_state=0))]),\n",
              "                                                  ['EPS', 'Liquidity',\n",
              "                                                   'Profitability',\n",
              "                                                   'Productivity',\n",
              "                                                   'Leverage Ratio',\n",
              "                                                   'Asset Turnover',\n",
              "                                                   'Operational Margin',\n",
              "                                                   'Return on Equity',\n",
              "                                                   'Market Book Ratio',\n",
              "                                                   'Assets Growth',\n",
              "                                                   'Sales Growth',\n",
              "                                                   'Employee Growth'])])),\n",
              "                ('model', GaussianNB())])"
            ]
          },
          "metadata": {},
          "execution_count": 501
        }
      ]
    },
    {
      "cell_type": "code",
      "metadata": {
        "id": "bobGTn5cuGAH",
        "colab": {
          "base_uri": "https://localhost:8080/"
        },
        "outputId": "53f5a9c6-b2af-4c0c-8138-201bcf0ef0c0"
      },
      "source": [
        "# predictions from pipeline\n",
        "y_pred_proba = nb_pipeline.predict_proba(X_test)"
      ],
      "id": "bobGTn5cuGAH",
      "execution_count": 502,
      "outputs": [
        {
          "output_type": "stream",
          "name": "stdout",
          "text": [
            "capping the  EPS\n",
            "capping the  Liquidity\n",
            "capping the  Profitability\n",
            "capping the  Productivity\n",
            "capping the  Leverage Ratio\n",
            "capping the  Asset Turnover\n",
            "capping the  Operational Margin\n",
            "capping the  Return on Equity\n",
            "capping the  Market Book Ratio\n",
            "capping the  Assets Growth\n",
            "capping the  Sales Growth\n",
            "capping the  Employee Growth\n"
          ]
        }
      ]
    },
    {
      "cell_type": "code",
      "metadata": {
        "colab": {
          "base_uri": "https://localhost:8080/"
        },
        "id": "hp2TeFQzuGD4",
        "outputId": "1d106995-3e29-4193-f831-eb42086612c2"
      },
      "source": [
        "roc_auc_score(y_test, y_pred_proba[:,1])"
      ],
      "id": "hp2TeFQzuGD4",
      "execution_count": 503,
      "outputs": [
        {
          "output_type": "execute_result",
          "data": {
            "text/plain": [
              "0.8424994159743064"
            ]
          },
          "metadata": {},
          "execution_count": 503
        }
      ]
    },
    {
      "cell_type": "code",
      "metadata": {
        "id": "4mCpKa8RusWG"
      },
      "source": [
        "# Create dictionary with candidate learning algorithms and their hyperparameters\n",
        "grid_param = [\n",
        "                {\n",
        "                 \"model__var_smoothing\": np.logspace(0,-9, num=100)\n",
        "                 }\n",
        "            ]"
      ],
      "id": "4mCpKa8RusWG",
      "execution_count": 504,
      "outputs": []
    },
    {
      "cell_type": "code",
      "metadata": {
        "id": "db8Z9IB_usc8"
      },
      "source": [
        "# Hyper-parameter tuning (\"optimization\") using the function GridSearchCV for maximizing AUC\n",
        "score_func = make_scorer(roc_auc_score, greater_is_better=True)\n",
        "\n",
        "# create a gridsearch of the pipeline, the fit the best model\n",
        "randsearch = RandomizedSearchCV(nb_pipeline, grid_param, cv=5, verbose=0, n_jobs=-1, scoring = score_func) # Fit grid search"
      ],
      "id": "db8Z9IB_usc8",
      "execution_count": 505,
      "outputs": []
    },
    {
      "cell_type": "code",
      "metadata": {
        "id": "yb32womYuy_v",
        "colab": {
          "base_uri": "https://localhost:8080/"
        },
        "outputId": "3b2a52fe-fff1-4453-9ac5-1ca646dc833c"
      },
      "source": [
        "randsearch_model = randsearch.fit(X_train,y_train)"
      ],
      "id": "yb32womYuy_v",
      "execution_count": 506,
      "outputs": [
        {
          "output_type": "stream",
          "name": "stdout",
          "text": [
            "capping the  EPS\n",
            "capping the  Liquidity\n",
            "capping the  Profitability\n",
            "capping the  Productivity\n",
            "capping the  Leverage Ratio\n",
            "capping the  Asset Turnover\n",
            "capping the  Operational Margin\n",
            "capping the  Return on Equity\n",
            "capping the  Market Book Ratio\n",
            "capping the  Assets Growth\n",
            "capping the  Sales Growth\n",
            "capping the  Employee Growth\n"
          ]
        }
      ]
    },
    {
      "cell_type": "code",
      "metadata": {
        "colab": {
          "base_uri": "https://localhost:8080/"
        },
        "id": "b0bplZaz5CCh",
        "outputId": "42e7612a-9dd3-48b7-8d44-58aedeabf83c"
      },
      "source": [
        "print(\"Best Score: \", randsearch_model.best_score_)\n",
        "print(\"Best Params: \", randsearch_model.best_params_)"
      ],
      "id": "b0bplZaz5CCh",
      "execution_count": 507,
      "outputs": [
        {
          "output_type": "stream",
          "name": "stdout",
          "text": [
            "Best Score:  0.7584915248466344\n",
            "Best Params:  {'model__var_smoothing': 0.004328761281083057}\n"
          ]
        }
      ]
    },
    {
      "cell_type": "code",
      "metadata": {
        "colab": {
          "base_uri": "https://localhost:8080/"
        },
        "id": "ullPhnlPuzHa",
        "outputId": "3a70e5c9-86a6-4eeb-e860-b32599ca055b"
      },
      "source": [
        "# predict probability on X_test\n",
        "y_pred_proba = randsearch_model.predict_proba(X_test)\n",
        "y_pred_proba"
      ],
      "id": "ullPhnlPuzHa",
      "execution_count": 508,
      "outputs": [
        {
          "output_type": "stream",
          "name": "stdout",
          "text": [
            "capping the  EPS\n",
            "capping the  Liquidity\n",
            "capping the  Profitability\n",
            "capping the  Productivity\n",
            "capping the  Leverage Ratio\n",
            "capping the  Asset Turnover\n",
            "capping the  Operational Margin\n",
            "capping the  Return on Equity\n",
            "capping the  Market Book Ratio\n",
            "capping the  Assets Growth\n",
            "capping the  Sales Growth\n",
            "capping the  Employee Growth\n"
          ]
        },
        {
          "output_type": "execute_result",
          "data": {
            "text/plain": [
              "array([[1.00000000e+00, 1.01266486e-13],\n",
              "       [1.00000000e+00, 1.95616098e-10],\n",
              "       [9.76310575e-01, 2.36894247e-02],\n",
              "       ...,\n",
              "       [1.00000000e+00, 1.74443551e-14],\n",
              "       [9.99933332e-01, 6.66682460e-05],\n",
              "       [3.64968084e-01, 6.35031916e-01]])"
            ]
          },
          "metadata": {},
          "execution_count": 508
        }
      ]
    },
    {
      "cell_type": "code",
      "metadata": {
        "colab": {
          "base_uri": "https://localhost:8080/"
        },
        "id": "Wb-rp7Cwz0cZ",
        "outputId": "442087c3-be80-4d4d-cd6c-fbcf7e10e619"
      },
      "source": [
        "roc_auc_score(y_test, y_pred_proba[:,1])"
      ],
      "id": "Wb-rp7Cwz0cZ",
      "execution_count": 509,
      "outputs": [
        {
          "output_type": "execute_result",
          "data": {
            "text/plain": [
              "0.8473216403364701"
            ]
          },
          "metadata": {},
          "execution_count": 509
        }
      ]
    },
    {
      "cell_type": "code",
      "metadata": {
        "colab": {
          "base_uri": "https://localhost:8080/",
          "height": 397
        },
        "id": "E-yl39-vuGHb",
        "outputId": "aa68ce6c-9a82-4de2-99fd-1b450261203a"
      },
      "source": [
        "plot_roc(y_test, y_pred_proba[:,1])"
      ],
      "id": "E-yl39-vuGHb",
      "execution_count": 510,
      "outputs": [
        {
          "output_type": "display_data",
          "data": {
            "text/plain": [
              "<Figure size 600x400 with 1 Axes>"
            ],
            "image/png": "[encoded data removed]"
          },
          "metadata": {}
        }
      ]
    },
    {
      "cell_type": "code",
      "metadata": {
        "colab": {
          "base_uri": "https://localhost:8080/"
        },
        "id": "u1eTIG3rJbPy",
        "outputId": "5bc9e225-9d72-4773-cca8-f87b162fdb59"
      },
      "source": [
        "# confusion matrix\n",
        "y_pred = np.where(y_pred_proba[:,1] > class_threshold, 1, 0) # applying the threshold rule to classify\n",
        "\n",
        "print(confusion_matrix(y_test, y_pred))"
      ],
      "id": "u1eTIG3rJbPy",
      "execution_count": 511,
      "outputs": [
        {
          "output_type": "stream",
          "name": "stdout",
          "text": [
            "[[25307  2385]\n",
            " [   69    93]]\n"
          ]
        }
      ]
    },
    {
      "cell_type": "code",
      "metadata": {
        "colab": {
          "base_uri": "https://localhost:8080/"
        },
        "id": "o8fO2-gQuqg3",
        "outputId": "a48709f0-a34b-432c-9812-7ee9950294e9"
      },
      "source": [
        "tn, fp, fn, tp = confusion_matrix(y_test, y_pred).ravel()\n",
        "tn, fp, fn, tp"
      ],
      "id": "o8fO2-gQuqg3",
      "execution_count": 512,
      "outputs": [
        {
          "output_type": "execute_result",
          "data": {
            "text/plain": [
              "(25307, 2385, 69, 93)"
            ]
          },
          "metadata": {},
          "execution_count": 512
        }
      ]
    },
    {
      "cell_type": "code",
      "metadata": {
        "id": "PiXq-FSVuqpW",
        "colab": {
          "base_uri": "https://localhost:8080/"
        },
        "outputId": "4ff10d3a-d7b2-4a99-d576-1617447b2ed1"
      },
      "source": [
        "# classification report\n",
        "print(classification_report(y_test, y_pred))"
      ],
      "id": "PiXq-FSVuqpW",
      "execution_count": 513,
      "outputs": [
        {
          "output_type": "stream",
          "name": "stdout",
          "text": [
            "              precision    recall  f1-score   support\n",
            "\n",
            "           0       1.00      0.91      0.95     27692\n",
            "           1       0.04      0.57      0.07       162\n",
            "\n",
            "    accuracy                           0.91     27854\n",
            "   macro avg       0.52      0.74      0.51     27854\n",
            "weighted avg       0.99      0.91      0.95     27854\n",
            "\n"
          ]
        }
      ]
    },
    {
      "cell_type": "code",
      "source": [
        "# Weighted F1 score\n",
        "f1_score(y_test, y_pred, average='weighted')"
      ],
      "metadata": {
        "colab": {
          "base_uri": "https://localhost:8080/"
        },
        "id": "IPY9xNN2gTdp",
        "outputId": "08cccf78-8c01-4ff1-cfff-d5a318c7b3d7"
      },
      "id": "IPY9xNN2gTdp",
      "execution_count": 514,
      "outputs": [
        {
          "output_type": "execute_result",
          "data": {
            "text/plain": [
              "0.9486201176018613"
            ]
          },
          "metadata": {},
          "execution_count": 514
        }
      ]
    },
    {
      "cell_type": "markdown",
      "source": [
        "# Next Steps\n",
        "*  Classification Threshold selection requires further analysis\n",
        "*  other sampling method (over sampling) can be explored to address imbalance data\n",
        "*  Feature Engineering + Feature Selection can be explored\n",
        "*  Other algorithms - SVM, GBT can be explored\n",
        "\n",
        "\n",
        "\n"
      ],
      "metadata": {
        "id": "qyAf5GFvnbFi"
      },
      "id": "qyAf5GFvnbFi"
    }
  ]
}